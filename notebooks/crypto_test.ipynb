{
 "cells": [
  {
   "cell_type": "code",
   "execution_count": null,
   "metadata": {},
   "outputs": [],
   "source": [
    "import sys\n",
    "\n",
    "sys.path.append('../')"
   ]
  },
  {
   "cell_type": "code",
   "execution_count": null,
   "metadata": {},
   "outputs": [],
   "source": [
    "import pandas as pd\n",
    "import numpy as np"
   ]
  },
  {
   "cell_type": "code",
   "execution_count": null,
   "metadata": {},
   "outputs": [],
   "source": [
    "start_date = '2021-01-01'\n",
    "end_date = '2021-08-30'"
   ]
  },
  {
   "cell_type": "code",
   "execution_count": null,
   "metadata": {},
   "outputs": [],
   "source": [
    "tic_list = ['ETH-USD']"
   ]
  },
  {
   "cell_type": "code",
   "execution_count": null,
   "metadata": {},
   "outputs": [],
   "source": [
    "tech_indicators = ['macd',\n",
    " 'rsi_30',\n",
    " 'cci_30',\n",
    " 'dx_30', \n",
    " 'open_2_sma', \n",
    " 'rsi_6', \n",
    " 'close_2_tema']\n",
    "\n",
    "tech_indicators = [\n",
    " 'open_2_sma', \n",
    " 'rsi_6', \n",
    " 'close_2_tema']"
   ]
  },
  {
   "cell_type": "code",
   "execution_count": null,
   "metadata": {},
   "outputs": [],
   "source": [
    "cwd = './CryptoModel/model.pkl'"
   ]
  },
  {
   "cell_type": "code",
   "execution_count": null,
   "metadata": {},
   "outputs": [],
   "source": [
    "from neo_finrl.data_processors.processor_yahoofinance import YahooFinanceProcessor"
   ]
  },
  {
   "cell_type": "code",
   "execution_count": null,
   "metadata": {},
   "outputs": [],
   "source": [
    "data_downloader = YahooFinanceProcessor()"
   ]
  },
  {
   "cell_type": "markdown",
   "metadata": {},
   "source": [
    "### Extract historical px"
   ]
  },
  {
   "cell_type": "code",
   "execution_count": null,
   "metadata": {},
   "outputs": [],
   "source": [
    "stock_history_df = data_downloader.download_data(start_date, end_date, tic_list, '1D')"
   ]
  },
  {
   "cell_type": "code",
   "execution_count": null,
   "metadata": {},
   "outputs": [],
   "source": [
    "data_downloader.time_interval = '1D'\n",
    "stock_history_df = data_downloader.clean_data(stock_history_df)"
   ]
  },
  {
   "cell_type": "code",
   "execution_count": null,
   "metadata": {},
   "outputs": [],
   "source": [
    "stock_history_df = data_downloader.add_technical_indicator(stock_history_df, tech_indicators)"
   ]
  },
  {
   "cell_type": "code",
   "execution_count": null,
   "metadata": {},
   "outputs": [],
   "source": [
    "stock_history_df.to_csv('./ETH_hist.csv', index = False)"
   ]
  },
  {
   "cell_type": "markdown",
   "metadata": {},
   "source": [
    "### Env module"
   ]
  },
  {
   "cell_type": "code",
   "execution_count": null,
   "metadata": {},
   "outputs": [],
   "source": [
    "from test_env.single_crypto_env import CryptoTradingEnv"
   ]
  },
  {
   "cell_type": "markdown",
   "metadata": {},
   "source": [
    "### Setup env"
   ]
  },
  {
   "cell_type": "code",
   "execution_count": null,
   "metadata": {},
   "outputs": [],
   "source": [
    "stock_history_df = pd.read_csv('./ETH_hist.csv')"
   ]
  },
  {
   "cell_type": "code",
   "execution_count": null,
   "metadata": {},
   "outputs": [],
   "source": [
    "price_array = stock_history_df[['open', 'adjcp', 'low', 'high']].values\n",
    "tech_array = stock_history_df[tech_indicators].values"
   ]
  },
  {
   "cell_type": "code",
   "execution_count": null,
   "metadata": {},
   "outputs": [],
   "source": [
    "train_test_split_index = int(stock_history_df.shape[0] * 0.8)"
   ]
  },
  {
   "cell_type": "code",
   "execution_count": null,
   "metadata": {},
   "outputs": [],
   "source": [
    "print (f'{train_test_split_index} records for training')\n",
    "print (f'{stock_history_df.shape[0] - train_test_split_index} records for testing')"
   ]
  },
  {
   "cell_type": "code",
   "execution_count": null,
   "metadata": {},
   "outputs": [],
   "source": [
    "config = dict()\n",
    "\n",
    "config['price_array'] = price_array[:train_test_split_index]\n",
    "config['tech_array'] = tech_array[:train_test_split_index]\n",
    "config['if_train'] = True\n",
    "\n",
    "initial_capital = 1e4\n",
    "initial_stocks = np.array([0.0])\n",
    "max_step = 30"
   ]
  },
  {
   "cell_type": "code",
   "execution_count": null,
   "metadata": {},
   "outputs": [],
   "source": [
    "crypto_env = CryptoTradingEnv(config, \n",
    "                              initial_capital=initial_capital,\n",
    "                              initial_stocks=initial_stocks,\n",
    "                              max_step = max_step, \n",
    "                              )"
   ]
  },
  {
   "cell_type": "markdown",
   "metadata": {},
   "source": [
    "### Train RL"
   ]
  },
  {
   "cell_type": "code",
   "execution_count": null,
   "metadata": {},
   "outputs": [],
   "source": [
    "from stable_baselines3 import PPO, DDPG\n",
    "from stable_baselines3.common.vec_env import DummyVecEnv"
   ]
  },
  {
   "cell_type": "code",
   "execution_count": null,
   "metadata": {},
   "outputs": [],
   "source": [
    "env_train = DummyVecEnv([lambda : crypto_env])\n",
    "model_name = 'ppo'\n",
    "\n",
    "if model_name == 'ppo':\n",
    "    model = PPO(\"MlpPolicy\", env_train, learning_rate=0.00025, \n",
    "                            n_steps=1024, batch_size=128, ent_coef=0.0, \n",
    "                            gamma=0.99, seed=312)\n",
    "elif model_name == 'ddpg':\n",
    "    model = DDPG(\"MlpPolicy\", env_train, learning_rate=0.00025, \n",
    "                 batch_size=128, gamma = 0.99, seed=312)"
   ]
  },
  {
   "cell_type": "code",
   "execution_count": null,
   "metadata": {
    "scrolled": true
   },
   "outputs": [],
   "source": [
    "model.learn(total_timesteps=1e4, tb_log_name = 'ppo')\n",
    "print('Training finished!')"
   ]
  },
  {
   "cell_type": "code",
   "execution_count": null,
   "metadata": {},
   "outputs": [],
   "source": [
    "model.save(cwd)\n",
    "print('Trained model saved in ' + str(cwd))"
   ]
  },
  {
   "cell_type": "markdown",
   "metadata": {},
   "source": [
    "### Test RL"
   ]
  },
  {
   "cell_type": "code",
   "execution_count": null,
   "metadata": {},
   "outputs": [],
   "source": [
    "#test on the testing env\n",
    "def testRun(model, env_instance):\n",
    "    state = env_instance.reset()\n",
    "    episode_returns = list()  # the cumulative_return / initial_account\n",
    "    done = False\n",
    "\n",
    "    while not done:\n",
    "        action = model.predict(state)[0]\n",
    "        #print (action)\n",
    "        state, reward, done, _ = env_instance.step(action)\n",
    "        \n",
    "        #print (env_instance.stocks)\n",
    "        #total_asset = env_instance.amount + (env_instance.price_ary[env_instance.day + env_instance.run_index, 1] \\\n",
    "        #                                     * env_instance.stocks).sum()\n",
    "        #episode_return = total_asset / env_instance.initial_total_asset\n",
    "        \n",
    "        episode_returns.append(reward)\n",
    "        \n",
    "    print('Test Finished!')  \n",
    "    return episode_returns"
   ]
  },
  {
   "cell_type": "code",
   "execution_count": null,
   "metadata": {},
   "outputs": [],
   "source": [
    "test_config = dict()\n",
    "\n",
    "start_idx = train_test_split_index\n",
    "test_config['price_array'] = price_array[start_idx:]\n",
    "test_config['tech_array'] = tech_array[start_idx:]\n",
    "test_config['if_train'] = False\n",
    "\n",
    "max_step = min(test_config['price_array'].shape[0], 30)"
   ]
  },
  {
   "cell_type": "code",
   "execution_count": null,
   "metadata": {},
   "outputs": [],
   "source": [
    "test_env = CryptoTradingEnv(test_config, \\\n",
    "                            initial_capital=1e4, \\\n",
    "                            max_step = max_step)\n",
    "\n",
    "#test_env = CryptoTradingEnv(test_config, \\\n",
    "#                            initial_capital=0, \\\n",
    "#                            max_step = max_step, \\\n",
    "#                           initial_stocks = np.array([20.0]))\n",
    "\n",
    "test_model = PPO.load(cwd)\n",
    "#test_model = model\n",
    "test_model = test_model.policy.eval()"
   ]
  },
  {
   "cell_type": "code",
   "execution_count": null,
   "metadata": {
    "scrolled": false
   },
   "outputs": [],
   "source": [
    "cumulative_return = testRun(test_model, test_env)\n",
    "\n",
    "holding_return = price_array[start_idx + max_step, 1] / price_array[start_idx, 1]\n",
    "\n",
    "print (\"Holding-strategy return: \", holding_return)"
   ]
  },
  {
   "cell_type": "code",
   "execution_count": null,
   "metadata": {},
   "outputs": [],
   "source": [
    "import matplotlib.pyplot as plt\n",
    "%matplotlib inline"
   ]
  },
  {
   "cell_type": "code",
   "execution_count": null,
   "metadata": {},
   "outputs": [],
   "source": [
    "plt.plot(cumulative_return, label='agent return')\n",
    "plt.grid()\n",
    "plt.title('cumulative return')\n",
    "plt.xlabel('time')"
   ]
  },
  {
   "cell_type": "code",
   "execution_count": null,
   "metadata": {},
   "outputs": [],
   "source": [
    "plt.plot(test_config['price_array'][:, 2:4], label='px')\n",
    "plt.grid()\n",
    "plt.title('price')\n",
    "plt.xlabel('time')"
   ]
  },
  {
   "cell_type": "code",
   "execution_count": null,
   "metadata": {},
   "outputs": [],
   "source": []
  }
 ],
 "metadata": {
  "kernelspec": {
   "display_name": "Python 3",
   "language": "python",
   "name": "python3"
  },
  "language_info": {
   "codemirror_mode": {
    "name": "ipython",
    "version": 3
   },
   "file_extension": ".py",
   "mimetype": "text/x-python",
   "name": "python",
   "nbconvert_exporter": "python",
   "pygments_lexer": "ipython3",
   "version": "3.7.3"
  }
 },
 "nbformat": 4,
 "nbformat_minor": 2
}
