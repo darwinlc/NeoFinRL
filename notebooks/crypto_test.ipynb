{
 "cells": [
  {
   "cell_type": "code",
   "execution_count": 1,
   "metadata": {},
   "outputs": [],
   "source": [
    "import sys\n",
    "\n",
    "sys.path.append('../')"
   ]
  },
  {
   "cell_type": "code",
   "execution_count": 2,
   "metadata": {},
   "outputs": [],
   "source": [
    "import pandas as pd\n",
    "import numpy as np"
   ]
  },
  {
   "cell_type": "code",
   "execution_count": 3,
   "metadata": {},
   "outputs": [],
   "source": [
    "#start_date = '2021-01-01'\n",
    "#end_date = '2021-09-07'\n",
    "\n",
    "start_date = '2020-01-01'\n",
    "end_date = '2020-12-31'"
   ]
  },
  {
   "cell_type": "code",
   "execution_count": 4,
   "metadata": {},
   "outputs": [],
   "source": [
    "tic_list = ['ETH-USD']"
   ]
  },
  {
   "cell_type": "code",
   "execution_count": 5,
   "metadata": {},
   "outputs": [],
   "source": [
    "tech_indicators = ['cci_30',\n",
    " 'rsi_30',\n",
    " 'rsi_14',\n",
    " 'rsi_6',\n",
    " 'dx_30', \n",
    " 'dx_14']\n",
    "\n",
    "\n",
    "#tech_indicators = [\n",
    "# 'open_2_sma', \n",
    "# 'rsi_6', \n",
    "# 'close_2_tema']"
   ]
  },
  {
   "cell_type": "code",
   "execution_count": 6,
   "metadata": {},
   "outputs": [],
   "source": [
    "cwd = './CryptoModel/model.pkl'\n",
    "reward_on_value = True\n",
    "lookback_n = 7\n",
    "config_max_step = 30\n",
    "if reward_on_value:\n",
    "    reward_scaling = 2 ** -10\n",
    "else:\n",
    "    reward_scaling = 2 ** -5"
   ]
  },
  {
   "cell_type": "code",
   "execution_count": 7,
   "metadata": {},
   "outputs": [],
   "source": [
    "from neo_finrl.data_processors.processor_yahoofinance import YahooFinanceProcessor"
   ]
  },
  {
   "cell_type": "code",
   "execution_count": 8,
   "metadata": {},
   "outputs": [],
   "source": [
    "data_downloader = YahooFinanceProcessor()"
   ]
  },
  {
   "cell_type": "markdown",
   "metadata": {},
   "source": [
    "### Extract historical px"
   ]
  },
  {
   "cell_type": "code",
   "execution_count": 9,
   "metadata": {},
   "outputs": [
    {
     "name": "stdout",
     "output_type": "stream",
     "text": [
      "[*********************100%***********************]  1 of 1 completed\n",
      "Shape of DataFrame:  (362, 9)\n"
     ]
    }
   ],
   "source": [
    "stock_history_df = data_downloader.download_data(start_date, end_date, tic_list, '1D')"
   ]
  },
  {
   "cell_type": "code",
   "execution_count": 10,
   "metadata": {},
   "outputs": [
    {
     "name": "stdout",
     "output_type": "stream",
     "text": [
      "Clean data for ETH-USD\n",
      "Data clean for ETH-USD is finished.\n",
      "Data clean all finished!\n"
     ]
    }
   ],
   "source": [
    "data_downloader.time_interval = '1D'\n",
    "stock_history_df = data_downloader.clean_data(stock_history_df)"
   ]
  },
  {
   "cell_type": "code",
   "execution_count": 11,
   "metadata": {},
   "outputs": [],
   "source": [
    "stock_history_df = data_downloader.add_technical_indicator(stock_history_df, tech_indicators)"
   ]
  },
  {
   "cell_type": "code",
   "execution_count": 12,
   "metadata": {},
   "outputs": [],
   "source": [
    "stock_history_df.to_csv('./ETH_hist_test.csv', index = False)"
   ]
  },
  {
   "cell_type": "markdown",
   "metadata": {},
   "source": [
    "### Env module"
   ]
  },
  {
   "cell_type": "code",
   "execution_count": 13,
   "metadata": {},
   "outputs": [],
   "source": [
    "from test_env.single_crypto_env import CryptoTradingEnv"
   ]
  },
  {
   "cell_type": "markdown",
   "metadata": {},
   "source": [
    "### Setup env"
   ]
  },
  {
   "cell_type": "code",
   "execution_count": 14,
   "metadata": {},
   "outputs": [],
   "source": [
    "stock_history_df = pd.read_csv('./ETH_hist_test.csv')\n",
    "# to prevent policy_vl = nan\n",
    "stock_history_df.fillna(1e-10, inplace = True)"
   ]
  },
  {
   "cell_type": "code",
   "execution_count": 15,
   "metadata": {},
   "outputs": [],
   "source": [
    "price_array = stock_history_df[['open', 'adjcp', 'low', 'high']].values\n",
    "tech_array = stock_history_df[tech_indicators].values"
   ]
  },
  {
   "cell_type": "code",
   "execution_count": 16,
   "metadata": {},
   "outputs": [],
   "source": [
    "train_test_split_index = int(stock_history_df.shape[0] * 0.8)"
   ]
  },
  {
   "cell_type": "code",
   "execution_count": 17,
   "metadata": {},
   "outputs": [
    {
     "name": "stdout",
     "output_type": "stream",
     "text": [
      "289 records for training\n",
      "73 records for testing\n"
     ]
    }
   ],
   "source": [
    "print (f'{train_test_split_index} records for training')\n",
    "print (f'{stock_history_df.shape[0] - train_test_split_index} records for testing')"
   ]
  },
  {
   "cell_type": "code",
   "execution_count": 18,
   "metadata": {},
   "outputs": [],
   "source": [
    "config = dict()\n",
    "\n",
    "config['price_array'] = price_array[:train_test_split_index]\n",
    "config['tech_array'] = tech_array[:train_test_split_index]\n",
    "# randomly inital states for training\n",
    "config['if_sequence'] = False\n",
    "config['if_randomV'] = True\n",
    "config['if_value'] = reward_on_value\n",
    "config['lookback_n'] = lookback_n\n",
    "\n",
    "initial_capital = 1e-5\n",
    "initial_stocks = np.array([40.0])\n",
    "max_step = config_max_step"
   ]
  },
  {
   "cell_type": "code",
   "execution_count": 19,
   "metadata": {},
   "outputs": [],
   "source": [
    "crypto_env = CryptoTradingEnv(config, \n",
    "                              initial_capital=initial_capital,\n",
    "                              initial_stocks=initial_stocks,\n",
    "                              max_step = max_step, \n",
    "                              reward_scaling = reward_scaling\n",
    "                              )"
   ]
  },
  {
   "cell_type": "markdown",
   "metadata": {},
   "source": [
    "### Train RL"
   ]
  },
  {
   "cell_type": "code",
   "execution_count": 20,
   "metadata": {},
   "outputs": [],
   "source": [
    "from stable_baselines3 import PPO, DDPG\n",
    "from stable_baselines3.common.vec_env import DummyVecEnv, VecCheckNan, VecNormalize\n",
    "from stable_baselines3.common.logger import configure"
   ]
  },
  {
   "cell_type": "code",
   "execution_count": 21,
   "metadata": {},
   "outputs": [
    {
     "name": "stdout",
     "output_type": "stream",
     "text": [
      "Logging to ./tmp/sb3_log/\n"
     ]
    }
   ],
   "source": [
    "tmp_path = \"./tmp/sb3_log/\"\n",
    "# set up logger\n",
    "new_logger = configure(tmp_path, [\"stdout\", \"csv\"])"
   ]
  },
  {
   "cell_type": "code",
   "execution_count": 22,
   "metadata": {},
   "outputs": [],
   "source": [
    "env_train = DummyVecEnv([lambda : crypto_env])\n",
    "env_train = VecCheckNan(env_train, raise_exception=True)\n",
    "#env_train = VecNormalize(env_train)\n",
    "\n",
    "model_name = 'ddpg'\n",
    "\n",
    "if model_name == 'ppo':\n",
    "    model = PPO(\"MlpPolicy\", env_train, learning_rate=0.00025, \n",
    "                            n_steps=1024, batch_size=128, ent_coef=0.0, \n",
    "                            gamma=0.99, seed=312, verbose = 1)\n",
    "elif model_name == 'ddpg':\n",
    "    model = DDPG(\"MlpPolicy\", env_train, learning_rate=0.00025, \n",
    "                 batch_size=128, gamma = 0.99, seed=312)\n",
    "    \n",
    "model.set_logger(new_logger)"
   ]
  },
  {
   "cell_type": "code",
   "execution_count": 23,
   "metadata": {
    "scrolled": true
   },
   "outputs": [
    {
     "name": "stdout",
     "output_type": "stream",
     "text": [
      "---------------------------------\n",
      "| time/              |          |\n",
      "|    episodes        | 100      |\n",
      "|    fps             | 164      |\n",
      "|    time_elapsed    | 18       |\n",
      "|    total timesteps | 3000     |\n",
      "| train/             |          |\n",
      "|    actor_loss      | -1.09    |\n",
      "|    critic_loss     | 0.393    |\n",
      "|    learning_rate   | 0.00025  |\n",
      "|    n_updates       | 2880     |\n",
      "---------------------------------\n",
      "---------------------------------\n",
      "| time/              |          |\n",
      "|    episodes        | 200      |\n",
      "|    fps             | 166      |\n",
      "|    time_elapsed    | 35       |\n",
      "|    total timesteps | 6000     |\n",
      "| train/             |          |\n",
      "|    actor_loss      | -1.26    |\n",
      "|    critic_loss     | 0.451    |\n",
      "|    learning_rate   | 0.00025  |\n",
      "|    n_updates       | 5880     |\n",
      "---------------------------------\n",
      "---------------------------------\n",
      "| time/              |          |\n",
      "|    episodes        | 300      |\n",
      "|    fps             | 164      |\n",
      "|    time_elapsed    | 54       |\n",
      "|    total timesteps | 9000     |\n",
      "| train/             |          |\n",
      "|    actor_loss      | -1.28    |\n",
      "|    critic_loss     | 0.441    |\n",
      "|    learning_rate   | 0.00025  |\n",
      "|    n_updates       | 8880     |\n",
      "---------------------------------\n",
      "Training finished!\n"
     ]
    }
   ],
   "source": [
    "model.learn(total_timesteps=1e4, tb_log_name = 'ppo', log_interval=100)\n",
    "print('Training finished!')"
   ]
  },
  {
   "cell_type": "code",
   "execution_count": 24,
   "metadata": {},
   "outputs": [
    {
     "name": "stdout",
     "output_type": "stream",
     "text": [
      "Trained model saved in ./CryptoModel/model.pkl\n"
     ]
    }
   ],
   "source": [
    "model.save(cwd)\n",
    "print('Trained model saved in ' + str(cwd))"
   ]
  },
  {
   "cell_type": "markdown",
   "metadata": {},
   "source": [
    "### Test RL"
   ]
  },
  {
   "cell_type": "code",
   "execution_count": 25,
   "metadata": {},
   "outputs": [],
   "source": [
    "#test on the testing env\n",
    "def testRun(model, env_instance, run_n = 1):\n",
    "    exp_return = []\n",
    "    for i in range(run_n):\n",
    "        state = env_instance.reset()\n",
    "        episode_returns = []  # the cumulative_return / initial_account\n",
    "        \n",
    "        done = False\n",
    "        # append initial asset\n",
    "        episode_returns.append(env_instance.total_asset)\n",
    "        \n",
    "        while not done:\n",
    "            action = model.predict(state)[0]\n",
    "            #print (action)\n",
    "            state, reward, done, _ = env_instance.step(action)\n",
    "\n",
    "            #print (env_instance.stocks)\n",
    "            #total_asset = env_instance.amount + (env_instance.price_ary[env_instance.day + env_instance.run_index, 1] \\\n",
    "            #                                     * env_instance.stocks).sum()\n",
    "            #episode_return = total_asset / env_instance.initial_total_asset\n",
    "\n",
    "            episode_returns.append(env_instance.total_asset)\n",
    "\n",
    "        #print('Test Finished!')\n",
    "        exp_return.append(episode_returns)\n",
    "    return exp_return"
   ]
  },
  {
   "cell_type": "code",
   "execution_count": 26,
   "metadata": {},
   "outputs": [],
   "source": [
    "test_config = dict()\n",
    "\n",
    "start_idx = train_test_split_index\n",
    "start_idx = 200\n",
    "test_config['price_array'] = price_array[start_idx:]\n",
    "test_config['tech_array'] = tech_array[start_idx:]\n",
    "\n",
    "#randomly start day index for back testing\n",
    "test_config['if_sequence'] = False\n",
    "# disable random initial capital \n",
    "test_config['if_randomV'] = False\n",
    "\n",
    "test_config['if_value'] = reward_on_value\n",
    "test_config['lookback_n'] = lookback_n\n",
    "\n",
    "max_step = min(test_config['price_array'].shape[0]-1, 50)\n",
    "#max_step = test_config['price_array'].shape[0] - 1"
   ]
  },
  {
   "cell_type": "code",
   "execution_count": 27,
   "metadata": {},
   "outputs": [],
   "source": [
    "#test_env = CryptoTradingEnv(test_config, \\\n",
    "#                            initial_capital=1e4, \\\n",
    "#                            initial_stocks = np.array([0.00001]), \\\n",
    "#                            max_step = max_step)\n",
    "\n",
    "test_env = CryptoTradingEnv(test_config, \\\n",
    "                            initial_capital=0, \\\n",
    "                            max_step = max_step, \\\n",
    "                           initial_stocks = np.array([20.0]), \n",
    "                           reward_scaling = reward_scaling)\n",
    "\n",
    "#test_model = PPO.load(cwd)\n",
    "test_model = DDPG.load(cwd)\n",
    "#test_model = model\n",
    "test_model = test_model.policy.eval()"
   ]
  },
  {
   "cell_type": "code",
   "execution_count": 28,
   "metadata": {
    "scrolled": false
   },
   "outputs": [
    {
     "name": "stdout",
     "output_type": "stream",
     "text": [
      "Holding-strategy return:  1.4787922442649863\n"
     ]
    }
   ],
   "source": [
    "cumulative_return = testRun(test_model, test_env, run_n = 50)\n",
    "\n",
    "if test_config['if_value']:\n",
    "    holding_return = price_array[start_idx + max_step, 1] / price_array[start_idx, 1]\n",
    "else:\n",
    "    holding_return = 1.0\n",
    "\n",
    "print (\"Holding-strategy return: \", holding_return)"
   ]
  },
  {
   "cell_type": "code",
   "execution_count": 29,
   "metadata": {},
   "outputs": [],
   "source": [
    "import matplotlib.pyplot as plt\n",
    "%matplotlib inline"
   ]
  },
  {
   "cell_type": "code",
   "execution_count": 30,
   "metadata": {},
   "outputs": [
    {
     "name": "stdout",
     "output_type": "stream",
     "text": [
      "Mean: 1.1861270510397415; Min: 0.8103566869102137; Max 1.6180039670406128\n"
     ]
    },
    {
     "data": {
      "text/plain": [
       "(array([13.,  4.,  3.,  4.,  3.,  2.,  4.,  5.,  6.,  6.]),\n",
       " array([0.81035669, 0.89112141, 0.97188614, 1.05265087, 1.1334156 ,\n",
       "        1.21418033, 1.29494505, 1.37570978, 1.45647451, 1.53723924,\n",
       "        1.61800397]),\n",
       " <a list of 10 Patch objects>)"
      ]
     },
     "execution_count": 30,
     "metadata": {},
     "output_type": "execute_result"
    },
    {
     "data": {
      "image/png": "[encoded data removed]",
      "text/plain": [
       "<Figure size 432x288 with 1 Axes>"
      ]
     },
     "metadata": {
      "needs_background": "light"
     },
     "output_type": "display_data"
    }
   ],
   "source": [
    "c_ret = np.array(cumulative_return)\n",
    "c_ret_vec = (c_ret[:, -1]/c_ret[:, 0])\n",
    "\n",
    "print (f'Mean: {np.mean(c_ret_vec)}; Min: {min(c_ret_vec)}; Max {max(c_ret_vec)}')\n",
    "plt.hist(c_ret_vec)"
   ]
  },
  {
   "cell_type": "markdown",
   "metadata": {},
   "source": [
    "#### Test run a sequence"
   ]
  },
  {
   "cell_type": "code",
   "execution_count": 31,
   "metadata": {},
   "outputs": [],
   "source": [
    "test_config = dict()\n",
    "\n",
    "start_idx = 50\n",
    "test_config['price_array'] = price_array[start_idx:]\n",
    "test_config['tech_array'] = tech_array[start_idx:]\n",
    "\n",
    "#randomly start day index for back testing\n",
    "test_config['if_sequence'] = True\n",
    "# disable random initial capital \n",
    "test_config['if_randomV'] = False\n",
    "\n",
    "test_config['if_value'] = reward_on_value\n",
    "test_config['lookback_n'] = lookback_n\n",
    "\n",
    "max_step = min(test_config['price_array'].shape[0]-1, 100)"
   ]
  },
  {
   "cell_type": "code",
   "execution_count": 32,
   "metadata": {},
   "outputs": [],
   "source": [
    "test_env = CryptoTradingEnv(test_config, \\\n",
    "                            initial_capital=0, \\\n",
    "                            max_step = max_step, \\\n",
    "                           initial_stocks = np.array([20.0]), \n",
    "                           reward_scaling = reward_scaling)\n",
    "\n",
    "#test_model = PPO.load(cwd)\n",
    "test_model = DDPG.load(cwd)\n",
    "\n",
    "test_model = test_model.policy.eval()"
   ]
  },
  {
   "cell_type": "code",
   "execution_count": 33,
   "metadata": {},
   "outputs": [
    {
     "name": "stdout",
     "output_type": "stream",
     "text": [
      "initial stock: [20.] inital amount:  0\n",
      "initial asset:  5195.279296875\n",
      "[Day 2] SELL: 16.0\n",
      "[Day 3] SELL: 3.2\n",
      "[Day 4] SELL: 0.64\n",
      "[Day 5] SELL: 0.1279\n",
      "[Day 8] BUY: 17.480600000000003\n",
      "[Day 9] BUY: 3.6592000000000002\n",
      "[Day 10] BUY: 0.7297\n",
      "[Day 11] BUY: 0.14830000000000002\n",
      "[Day 12] BUY: 0.0302\n",
      "[Day 13] BUY: 0.0059\n",
      "[Day 14] BUY: 0.0012000000000000001\n",
      "[Day 20] BUY: 0.0002\n",
      "[Day 21] BUY: 0.0001\n",
      "Episode Return:  1.0303234366962704\n",
      "Holding-strategy return:  0.9329453570311653\n"
     ]
    }
   ],
   "source": [
    "cumulative_return = testRun(test_model, test_env, run_n = 1)\n",
    "\n",
    "if test_config['if_value']:\n",
    "    holding_return = price_array[start_idx + max_step, 1] / price_array[start_idx, 1]\n",
    "else:\n",
    "    holding_return = 1.0\n",
    "\n",
    "print (\"Holding-strategy return: \", holding_return)"
   ]
  },
  {
   "cell_type": "code",
   "execution_count": 34,
   "metadata": {},
   "outputs": [
    {
     "data": {
      "text/plain": [
       "Text(0.5, 0, 'time')"
      ]
     },
     "execution_count": 34,
     "metadata": {},
     "output_type": "execute_result"
    },
    {
     "data": {
      "image/png": "[encoded data removed]",
      "text/plain": [
       "<Figure size 432x288 with 1 Axes>"
      ]
     },
     "metadata": {
      "needs_background": "light"
     },
     "output_type": "display_data"
    }
   ],
   "source": [
    "plt.plot(cumulative_return[0], label='agent return')\n",
    "plt.grid()\n",
    "plt.title('cumulative return')\n",
    "plt.xlabel('time')"
   ]
  },
  {
   "cell_type": "code",
   "execution_count": 35,
   "metadata": {},
   "outputs": [
    {
     "data": {
      "text/plain": [
       "Text(0.5, 0, 'time')"
      ]
     },
     "execution_count": 35,
     "metadata": {},
     "output_type": "execute_result"
    },
    {
     "data": {
      "image/png": "[encoded data removed]",
      "text/plain": [
       "<Figure size 432x288 with 1 Axes>"
      ]
     },
     "metadata": {
      "needs_background": "light"
     },
     "output_type": "display_data"
    }
   ],
   "source": [
    "plt.plot(test_config['price_array'][:100, 2:4], label='px')\n",
    "plt.grid()\n",
    "plt.title('price')\n",
    "plt.xlabel('time')"
   ]
  },
  {
   "cell_type": "code",
   "execution_count": null,
   "metadata": {},
   "outputs": [],
   "source": []
  }
 ],
 "metadata": {
  "kernelspec": {
   "display_name": "Python 3",
   "language": "python",
   "name": "python3"
  },
  "language_info": {
   "codemirror_mode": {
    "name": "ipython",
    "version": 3
   },
   "file_extension": ".py",
   "mimetype": "text/x-python",
   "name": "python",
   "nbconvert_exporter": "python",
   "pygments_lexer": "ipython3",
   "version": "3.7.3"
  }
 },
 "nbformat": 4,
 "nbformat_minor": 2
}
