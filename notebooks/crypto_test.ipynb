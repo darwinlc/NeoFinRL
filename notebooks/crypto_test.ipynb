{
 "cells": [
  {
   "cell_type": "code",
   "execution_count": 1,
   "metadata": {},
   "outputs": [],
   "source": [
    "import sys\n",
    "\n",
    "sys.path.append('../')"
   ]
  },
  {
   "cell_type": "code",
   "execution_count": 54,
   "metadata": {},
   "outputs": [],
   "source": [
    "import pandas as pd\n",
    "import numpy as np"
   ]
  },
  {
   "cell_type": "code",
   "execution_count": 3,
   "metadata": {},
   "outputs": [],
   "source": [
    "start_date = '2021-01-01'\n",
    "end_date = '2021-08-30'"
   ]
  },
  {
   "cell_type": "code",
   "execution_count": 4,
   "metadata": {},
   "outputs": [],
   "source": [
    "tic_list = ['ETH-USD']"
   ]
  },
  {
   "cell_type": "code",
   "execution_count": 5,
   "metadata": {},
   "outputs": [],
   "source": [
    "tech_indicators = ['macd',\n",
    " 'rsi_30',\n",
    " 'cci_30',\n",
    " 'dx_30']"
   ]
  },
  {
   "cell_type": "code",
   "execution_count": 6,
   "metadata": {},
   "outputs": [],
   "source": [
    "cwd = './CryptoModel/model.pkl'"
   ]
  },
  {
   "cell_type": "code",
   "execution_count": 7,
   "metadata": {},
   "outputs": [],
   "source": [
    "from neo_finrl.data_processors.processor_yahoofinance import YahooFinanceProcessor"
   ]
  },
  {
   "cell_type": "code",
   "execution_count": 8,
   "metadata": {},
   "outputs": [],
   "source": [
    "data_downloader = YahooFinanceProcessor()"
   ]
  },
  {
   "cell_type": "markdown",
   "metadata": {},
   "source": [
    "### Extract historical px"
   ]
  },
  {
   "cell_type": "code",
   "execution_count": null,
   "metadata": {},
   "outputs": [],
   "source": [
    "stock_history_df = data_downloader.download_data(start_date, end_date, tic_list, '1D')"
   ]
  },
  {
   "cell_type": "code",
   "execution_count": null,
   "metadata": {},
   "outputs": [],
   "source": [
    "data_downloader.time_interval = '1D'\n",
    "stock_history_df = data_downloader.clean_data(stock_history_df)"
   ]
  },
  {
   "cell_type": "code",
   "execution_count": null,
   "metadata": {},
   "outputs": [],
   "source": [
    "stock_history_df = data_downloader.add_technical_indicator(stock_history_df, tech_indicators)"
   ]
  },
  {
   "cell_type": "code",
   "execution_count": null,
   "metadata": {},
   "outputs": [],
   "source": [
    "stock_history_df.to_csv('./ETH_hist.csv', index = False)"
   ]
  },
  {
   "cell_type": "markdown",
   "metadata": {},
   "source": [
    "### Env module"
   ]
  },
  {
   "cell_type": "code",
   "execution_count": 9,
   "metadata": {},
   "outputs": [],
   "source": [
    "from test_env.single_crypto_env import CryptoTradingEnv"
   ]
  },
  {
   "cell_type": "markdown",
   "metadata": {},
   "source": [
    "### Setup env"
   ]
  },
  {
   "cell_type": "code",
   "execution_count": 10,
   "metadata": {},
   "outputs": [],
   "source": [
    "stock_history_df = pd.read_csv('./ETH_hist.csv')"
   ]
  },
  {
   "cell_type": "code",
   "execution_count": 11,
   "metadata": {},
   "outputs": [],
   "source": [
    "price_array = stock_history_df[['open', 'adjcp', 'low', 'high']].values\n",
    "tech_array = stock_history_df[tech_indicators].values"
   ]
  },
  {
   "cell_type": "code",
   "execution_count": 12,
   "metadata": {},
   "outputs": [],
   "source": [
    "train_test_split_index = int(stock_history_df.shape[0] * 0.8)"
   ]
  },
  {
   "cell_type": "code",
   "execution_count": 13,
   "metadata": {},
   "outputs": [
    {
     "name": "stdout",
     "output_type": "stream",
     "text": [
      "193 records for training\n",
      "49 records for testing\n"
     ]
    }
   ],
   "source": [
    "print (f'{train_test_split_index} records for training')\n",
    "print (f'{stock_history_df.shape[0] - train_test_split_index} records for testing')"
   ]
  },
  {
   "cell_type": "code",
   "execution_count": 14,
   "metadata": {},
   "outputs": [],
   "source": [
    "config = dict()\n",
    "\n",
    "config['price_array'] = price_array[:train_test_split_index]\n",
    "config['tech_array'] = tech_array[:train_test_split_index]\n",
    "config['if_train'] = True\n",
    "\n",
    "initial_capital = 1e5\n",
    "max_step = 30"
   ]
  },
  {
   "cell_type": "code",
   "execution_count": 15,
   "metadata": {},
   "outputs": [],
   "source": [
    "crypto_env = CryptoTradingEnv(config, initial_capital=initial_capital, max_step = max_step)"
   ]
  },
  {
   "cell_type": "markdown",
   "metadata": {},
   "source": [
    "### Train RL"
   ]
  },
  {
   "cell_type": "code",
   "execution_count": 16,
   "metadata": {},
   "outputs": [],
   "source": [
    "from stable_baselines3 import PPO, DDPG\n",
    "from stable_baselines3.common.vec_env import DummyVecEnv"
   ]
  },
  {
   "cell_type": "code",
   "execution_count": 79,
   "metadata": {},
   "outputs": [],
   "source": [
    "env_train = DummyVecEnv([lambda : crypto_env])\n",
    "model_name = 'ppo'\n",
    "\n",
    "if model_name == 'ppo':\n",
    "    model = PPO(\"MlpPolicy\", env_train, learning_rate=0.00025, \n",
    "                            n_steps=1024, batch_size=128, ent_coef=0.0, \n",
    "                            gamma=0.99, seed=312)\n",
    "elif model_name == 'ddpg':\n",
    "    model = DDPG(\"MlpPolicy\", env_train, learning_rate=0.00025, \n",
    "                 batch_size=128, gamma = 0.99, seed=312)"
   ]
  },
  {
   "cell_type": "code",
   "execution_count": 80,
   "metadata": {
    "scrolled": true
   },
   "outputs": [
    {
     "name": "stdout",
     "output_type": "stream",
     "text": [
      "Episode Return:  13072.026\n",
      "Episode Return:  10883.105\n",
      "Episode Return:  5742.6035\n",
      "Episode Return:  358.44736\n",
      "Episode Return:  7.1777345e-06\n",
      "Episode Return:  5.288009\n",
      "Episode Return:  46.59461\n",
      "Episode Return:  103.4809\n",
      "Episode Return:  79.938614\n",
      "Episode Return:  1.4257813e-05\n",
      "Episode Return:  55.727413\n",
      "Episode Return:  48.05462\n",
      "Episode Return:  2.9467774e-05\n",
      "Episode Return:  39.94243\n",
      "Episode Return:  98.712845\n",
      "Episode Return:  53.452946\n",
      "Episode Return:  4.593506e-05\n",
      "Episode Return:  4.1381834e-05\n",
      "Episode Return:  31.13654\n",
      "Episode Return:  75.015236\n",
      "Episode Return:  110.95894\n",
      "Episode Return:  138.62434\n",
      "Episode Return:  21.209429\n",
      "Episode Return:  67.83373\n",
      "Episode Return:  47.170033\n",
      "Episode Return:  40.67934\n",
      "Episode Return:  130.62146\n",
      "Episode Return:  169.76506\n",
      "Episode Return:  68.43497\n",
      "Episode Return:  60.10086\n",
      "Episode Return:  5.4162596e-05\n",
      "Episode Return:  23.515745\n",
      "Episode Return:  8.126746\n",
      "Episode Return:  4.330597e-05\n",
      "Episode Return:  54.967438\n",
      "Episode Return:  0.08873429\n",
      "Episode Return:  40.495632\n",
      "Episode Return:  98.92045\n",
      "Episode Return:  3.7963866e-05\n",
      "Episode Return:  27.41824\n",
      "Episode Return:  68.39804\n",
      "Episode Return:  104.45304\n",
      "Episode Return:  4.1210937e-05\n",
      "Episode Return:  4.4744873e-05\n",
      "Episode Return:  4.202881e-05\n",
      "Episode Return:  8.441143\n",
      "Episode Return:  57.57244\n",
      "Episode Return:  2.8424072e-05\n",
      "Episode Return:  52.684624\n",
      "Episode Return:  1.0229493e-05\n",
      "Episode Return:  0.85591525\n",
      "Episode Return:  1.6886712e-05\n",
      "Episode Return:  33.657818\n",
      "Episode Return:  64.34121\n",
      "Episode Return:  117.59833\n",
      "Episode Return:  117.17842\n",
      "Episode Return:  68.04152\n",
      "Episode Return:  1.7565919e-05\n",
      "Episode Return:  33.92942\n",
      "Episode Return:  84.136116\n",
      "Episode Return:  1.3657088\n",
      "Episode Return:  27.54151\n",
      "Episode Return:  1.4352096\n",
      "Episode Return:  9.69591\n",
      "Episode Return:  5.510513\n",
      "Episode Return:  1.6197777e-05\n",
      "Episode Return:  10.58922\n",
      "Episode Return:  9.641522\n",
      "Episode Return:  80.55713\n",
      "Episode Return:  0.510737\n",
      "Episode Return:  32.12454\n",
      "Episode Return:  56.47944\n",
      "Episode Return:  53.770546\n",
      "Episode Return:  72.50514\n",
      "Episode Return:  3.8171387e-05\n",
      "Episode Return:  21.190945\n",
      "Episode Return:  44.94245\n",
      "Episode Return:  79.14086\n",
      "Episode Return:  77.42507\n",
      "Episode Return:  6.8334964e-05\n",
      "Episode Return:  30.846268\n",
      "Episode Return:  76.620766\n",
      "Episode Return:  143.95956\n",
      "Episode Return:  5.485286\n",
      "Episode Return:  8.247681e-05\n",
      "Episode Return:  49.500584\n",
      "Episode Return:  8.5440064e-05\n",
      "Episode Return:  8.423462e-05\n",
      "Episode Return:  3.6986837\n",
      "Episode Return:  61.471684\n",
      "Episode Return:  8.3654784e-05\n",
      "Episode Return:  77.07968\n",
      "Episode Return:  113.150085\n",
      "Episode Return:  133.95619\n",
      "Episode Return:  0.019285679\n",
      "Episode Return:  33.380188\n",
      "Episode Return:  73.427475\n",
      "Episode Return:  136.11528\n",
      "Episode Return:  8.530274e-05\n",
      "Episode Return:  31.157185\n",
      "Episode Return:  113.10539\n",
      "Episode Return:  5.767822e-07\n",
      "Episode Return:  9.999389e-05\n",
      "Episode Return:  66.992096\n",
      "Episode Return:  134.25441\n",
      "Episode Return:  200.1292\n",
      "Episode Return:  272.3474\n",
      "Episode Return:  221.2646\n",
      "Episode Return:  8.7402346e-05\n",
      "Episode Return:  12.689391\n",
      "Episode Return:  52.08159\n",
      "Episode Return:  9.332276e-05\n",
      "Episode Return:  17.387993\n",
      "Episode Return:  9.458923e-05\n",
      "Episode Return:  73.641884\n",
      "Episode Return:  101.594284\n",
      "Episode Return:  5.6387944\n",
      "Episode Return:  6.041902\n",
      "Episode Return:  59.635803\n",
      "Episode Return:  106.068\n",
      "Episode Return:  98.44742\n",
      "Episode Return:  45.537014\n",
      "Episode Return:  80.69451\n",
      "Episode Return:  1.4648437e-07\n",
      "Episode Return:  36.934597\n",
      "Episode Return:  29.594196\n",
      "Episode Return:  38.0178\n",
      "Episode Return:  3.6621093e-06\n",
      "Episode Return:  59.662914\n",
      "Episode Return:  101.62051\n",
      "Episode Return:  3.4423829e-06\n",
      "Episode Return:  52.740902\n",
      "Episode Return:  101.71321\n",
      "Episode Return:  126.752014\n",
      "Episode Return:  42.961887\n",
      "Episode Return:  54.32739\n",
      "Episode Return:  87.03589\n",
      "Episode Return:  181.44621\n",
      "Episode Return:  118.07501\n",
      "Episode Return:  167.68784\n",
      "Episode Return:  7.275391e-05\n",
      "Episode Return:  19.441673\n",
      "Episode Return:  89.246574\n",
      "Episode Return:  7.116699e-05\n",
      "Episode Return:  99.27427\n",
      "Episode Return:  75.54048\n",
      "Episode Return:  147.55876\n",
      "Episode Return:  224.56378\n",
      "Episode Return:  230.755\n",
      "Episode Return:  189.20332\n",
      "Episode Return:  179.86543\n",
      "Episode Return:  2.6342774e-05\n",
      "Episode Return:  30.633324\n",
      "Episode Return:  2.7490234e-05\n",
      "Episode Return:  2.5738525e-05\n",
      "Episode Return:  12.619421\n",
      "Episode Return:  2.5177002e-05\n",
      "Episode Return:  44.21352\n",
      "Episode Return:  111.23522\n",
      "Episode Return:  4.3798827e-05\n",
      "Episode Return:  42.46844\n",
      "Episode Return:  108.13674\n",
      "Episode Return:  185.96754\n",
      "Episode Return:  91.487404\n",
      "Episode Return:  7.5317384e-06\n",
      "Episode Return:  6.25e-06\n",
      "Episode Return:  26.099806\n",
      "Episode Return:  17.7117\n",
      "Episode Return:  102.690796\n",
      "Episode Return:  95.632904\n",
      "Episode Return:  113.4988\n",
      "Episode Return:  158.22708\n",
      "Episode Return:  202.34097\n",
      "Episode Return:  157.19417\n",
      "Episode Return:  168.95735\n",
      "Episode Return:  186.72484\n",
      "Episode Return:  228.05803\n",
      "Episode Return:  2.084961e-05\n",
      "Episode Return:  56.45532\n",
      "Episode Return:  88.35482\n",
      "Episode Return:  160.41855\n",
      "Episode Return:  184.72163\n",
      "Episode Return:  185.88162\n",
      "Episode Return:  258.86954\n",
      "Episode Return:  202.96121\n",
      "Episode Return:  223.67372\n",
      "Episode Return:  3.725586e-05\n",
      "Episode Return:  71.21501\n",
      "Episode Return:  71.728714\n",
      "Episode Return:  59.981224\n",
      "Episode Return:  124.61682\n",
      "Episode Return:  190.23622\n",
      "Episode Return:  229.65211\n",
      "Episode Return:  242.39151\n",
      "Episode Return:  267.32272\n",
      "Episode Return:  311.48358\n",
      "Episode Return:  260.01923\n",
      "Episode Return:  288.92694\n",
      "Episode Return:  158.02545\n",
      "Episode Return:  181.16975\n",
      "Episode Return:  231.41177\n",
      "Episode Return:  193.82262\n",
      "Episode Return:  144.59305\n",
      "Episode Return:  116.61638\n",
      "Episode Return:  163.24997\n",
      "Episode Return:  19.755268\n",
      "Episode Return:  62.53577\n",
      "Episode Return:  107.82307\n",
      "Episode Return:  147.99997\n",
      "Episode Return:  193.72998\n",
      "Episode Return:  236.5103\n",
      "Episode Return:  266.91855\n",
      "Episode Return:  306.38486\n",
      "Episode Return:  347.65237\n",
      "Episode Return:  371.728\n",
      "Episode Return:  457.99243\n",
      "Episode Return:  472.22205\n",
      "Episode Return:  274.77063\n",
      "Episode Return:  5.126953e-06\n",
      "Episode Return:  60.86561\n",
      "Episode Return:  134.1793\n",
      "Episode Return:  1.9531248e-07\n",
      "Episode Return:  30.225204\n",
      "Episode Return:  103.1447\n",
      "Episode Return:  102.897995\n",
      "Episode Return:  157.5024\n",
      "Episode Return:  219.68141\n",
      "Episode Return:  248.55821\n",
      "Episode Return:  294.04425\n",
      "Episode Return:  380.6403\n",
      "Episode Return:  116.34571\n",
      "Episode Return:  160.26671\n",
      "Episode Return:  238.27924\n",
      "Episode Return:  298.1779\n",
      "Episode Return:  1.4913031\n",
      "Episode Return:  1.953125e-06\n",
      "Episode Return:  90.109\n",
      "Episode Return:  151.26581\n",
      "Episode Return:  9.2944334e-05\n",
      "Episode Return:  16.381195\n",
      "Episode Return:  42.002193\n",
      "Episode Return:  84.8493\n",
      "Episode Return:  1.8090821e-05\n",
      "Episode Return:  21.931124\n",
      "Episode Return:  72.17062\n",
      "Episode Return:  112.243324\n",
      "Episode Return:  144.83789\n",
      "Episode Return:  196.5263\n",
      "Episode Return:  228.90521\n",
      "Episode Return:  273.261\n",
      "Episode Return:  317.9691\n",
      "Episode Return:  83.51302\n",
      "Episode Return:  68.9992\n",
      "Episode Return:  84.61499\n",
      "Episode Return:  113.38838\n",
      "Episode Return:  133.9805\n",
      "Episode Return:  183.0805\n",
      "Episode Return:  92.329216\n",
      "Episode Return:  145.46622\n",
      "Episode Return:  2.6757813e-05\n",
      "Episode Return:  54.752235\n",
      "Episode Return:  111.90544\n",
      "Episode Return:  81.183945\n",
      "Episode Return:  84.31014\n",
      "Episode Return:  128.72626\n",
      "Episode Return:  141.67366\n",
      "Episode Return:  159.46666\n",
      "Episode Return:  227.62468\n",
      "Episode Return:  263.1567\n",
      "Episode Return:  314.1347\n",
      "Episode Return:  393.70383\n",
      "Episode Return:  406.07986\n",
      "Episode Return:  8.579101e-05\n",
      "Episode Return:  22.361586\n",
      "Episode Return:  106.208374\n",
      "Episode Return:  163.78477\n",
      "Episode Return:  209.21838\n",
      "Episode Return:  235.7204\n",
      "Episode Return:  337.5538\n",
      "Episode Return:  253.85559\n",
      "Episode Return:  327.32605\n",
      "Episode Return:  385.22702\n",
      "Episode Return:  404.29752\n",
      "Episode Return:  460.50034\n",
      "Episode Return:  40.297672\n",
      "Episode Return:  76.83217\n",
      "Episode Return:  47.296467\n",
      "Episode Return:  97.44596\n",
      "Episode Return:  133.23677\n",
      "Episode Return:  190.59837\n",
      "Episode Return:  217.76988\n",
      "Episode Return:  267.27338\n",
      "Episode Return:  271.4337\n",
      "Episode Return:  292.70605\n",
      "Episode Return:  357.56128\n",
      "Episode Return:  491.9369\n",
      "Episode Return:  438.1339\n",
      "Episode Return:  477.0779\n",
      "Episode Return:  202.3875\n",
      "Episode Return:  269.57858\n",
      "Episode Return:  306.59393\n",
      "Episode Return:  6.132812e-05\n",
      "Episode Return:  24.069155\n",
      "Episode Return:  69.546265\n",
      "Episode Return:  128.07527\n"
     ]
    },
    {
     "name": "stdout",
     "output_type": "stream",
     "text": [
      "Episode Return:  182.7858\n",
      "Episode Return:  257.7812\n",
      "Episode Return:  279.4274\n",
      "Episode Return:  337.03714\n",
      "Episode Return:  351.79706\n",
      "Episode Return:  282.53687\n",
      "Episode Return:  79.79609\n",
      "Episode Return:  147.91762\n",
      "Episode Return:  198.31194\n",
      "Episode Return:  165.80844\n",
      "Episode Return:  211.44505\n",
      "Episode Return:  216.41747\n",
      "Episode Return:  258.59738\n",
      "Episode Return:  348.31458\n",
      "Episode Return:  318.0464\n",
      "Episode Return:  348.78787\n",
      "Episode Return:  410.68335\n",
      "Episode Return:  429.93567\n",
      "Episode Return:  509.21448\n",
      "Episode Return:  759.9385\n",
      "Episode Return:  749.0982\n",
      "Episode Return:  1006.18695\n",
      "Episode Return:  978.90955\n",
      "Episode Return:  972.2399\n",
      "Episode Return:  1184.6677\n",
      "Episode Return:  1100.0002\n",
      "Episode Return:  1400.6208\n",
      "Episode Return:  1436.5416\n",
      "Episode Return:  1032.8033\n",
      "Episode Return:  1235.1842\n",
      "Episode Return:  1046.922\n",
      "Episode Return:  1059.6608\n",
      "Episode Return:  510.02032\n",
      "Episode Return:  523.556\n",
      "Episode Return:  572.5326\n",
      "Episode Return:  442.14838\n",
      "Training finished!\n"
     ]
    }
   ],
   "source": [
    "model.learn(total_timesteps=1e4, tb_log_name = 'ppo')\n",
    "print('Training finished!')"
   ]
  },
  {
   "cell_type": "code",
   "execution_count": 81,
   "metadata": {},
   "outputs": [
    {
     "name": "stdout",
     "output_type": "stream",
     "text": [
      "Trained model saved in ./CryptoModel/model.pkl\n"
     ]
    }
   ],
   "source": [
    "model.save(cwd)\n",
    "print('Trained model saved in ' + str(cwd))"
   ]
  },
  {
   "cell_type": "markdown",
   "metadata": {},
   "source": [
    "### Test RL"
   ]
  },
  {
   "cell_type": "code",
   "execution_count": 82,
   "metadata": {},
   "outputs": [],
   "source": [
    "#test on the testing env\n",
    "def testRun(model, env_instance):\n",
    "    state = env_instance.reset()\n",
    "    episode_returns = list()  # the cumulative_return / initial_account\n",
    "    done = False\n",
    "\n",
    "    while not done:\n",
    "        action = model.predict(state)[0]\n",
    "        #print (action)\n",
    "        state, reward, done, _ = env_instance.step(action)\n",
    "        \n",
    "        #print (env_instance.stocks)\n",
    "        #total_asset = env_instance.amount + (env_instance.price_ary[env_instance.day + env_instance.run_index, 1] \\\n",
    "        #                                     * env_instance.stocks).sum()\n",
    "        #episode_return = total_asset / env_instance.initial_total_asset\n",
    "        \n",
    "        episode_returns.append(reward)\n",
    "        \n",
    "    print('episode_return', episode_returns[-1])\n",
    "    print('Test Finished!')  \n",
    "    return episode_returns"
   ]
  },
  {
   "cell_type": "code",
   "execution_count": 83,
   "metadata": {},
   "outputs": [],
   "source": [
    "test_config = dict()\n",
    "\n",
    "start_idx = train_test_split_index\n",
    "test_config['price_array'] = price_array[start_idx:]\n",
    "test_config['tech_array'] = tech_array[start_idx:]\n",
    "test_config['if_train'] = False\n",
    "\n",
    "initial_capital = 1e5\n",
    "max_step = min(test_config['price_array'].shape[0], 30)"
   ]
  },
  {
   "cell_type": "code",
   "execution_count": 93,
   "metadata": {},
   "outputs": [],
   "source": [
    "test_env = CryptoTradingEnv(test_config, \\\n",
    "                            initial_capital=initial_capital, \\\n",
    "                            max_step = max_step)\n",
    "\n",
    "#test_env = CryptoTradingEnv(test_config, \\\n",
    "#                            initial_capital=0, \\\n",
    "#                            max_step = max_step, \\\n",
    "#                           initial_stocks = np.array([20.0]))\n",
    "\n",
    "test_model = PPO.load(cwd)\n",
    "#test_model = model\n",
    "test_model = test_model.policy.eval()"
   ]
  },
  {
   "cell_type": "code",
   "execution_count": 94,
   "metadata": {
    "scrolled": false
   },
   "outputs": [
    {
     "name": "stdout",
     "output_type": "stream",
     "text": [
      "Episode Return:  45.8977\n",
      "episode_return 45.8977\n",
      "Test Finished!\n"
     ]
    }
   ],
   "source": [
    "cumulative_return = testRun(test_model, test_env)"
   ]
  },
  {
   "cell_type": "code",
   "execution_count": 95,
   "metadata": {},
   "outputs": [],
   "source": [
    "import matplotlib.pyplot as plt\n",
    "%matplotlib inline"
   ]
  },
  {
   "cell_type": "code",
   "execution_count": 96,
   "metadata": {},
   "outputs": [
    {
     "data": {
      "text/plain": [
       "Text(0.5, 0, 'time')"
      ]
     },
     "execution_count": 96,
     "metadata": {},
     "output_type": "execute_result"
    },
    {
     "data": {
      "image/png": "[encoded data removed]",
      "text/plain": [
       "<Figure size 432x288 with 1 Axes>"
      ]
     },
     "metadata": {
      "needs_background": "light"
     },
     "output_type": "display_data"
    }
   ],
   "source": [
    "plt.plot(cumulative_return, label='agent return')\n",
    "plt.grid()\n",
    "plt.title('cumulative return')\n",
    "plt.xlabel('time')"
   ]
  },
  {
   "cell_type": "code",
   "execution_count": null,
   "metadata": {},
   "outputs": [],
   "source": []
  }
 ],
 "metadata": {
  "kernelspec": {
   "display_name": "Python 3",
   "language": "python",
   "name": "python3"
  },
  "language_info": {
   "codemirror_mode": {
    "name": "ipython",
    "version": 3
   },
   "file_extension": ".py",
   "mimetype": "text/x-python",
   "name": "python",
   "nbconvert_exporter": "python",
   "pygments_lexer": "ipython3",
   "version": "3.7.3"
  }
 },
 "nbformat": 4,
 "nbformat_minor": 2
}
