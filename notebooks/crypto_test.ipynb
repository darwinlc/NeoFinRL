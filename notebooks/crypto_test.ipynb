{
 "cells": [
  {
   "cell_type": "code",
   "execution_count": 1,
   "metadata": {},
   "outputs": [],
   "source": [
    "import sys\n",
    "\n",
    "sys.path.append('../')"
   ]
  },
  {
   "cell_type": "code",
   "execution_count": 2,
   "metadata": {},
   "outputs": [],
   "source": [
    "import pandas as pd\n",
    "import numpy as np"
   ]
  },
  {
   "cell_type": "code",
   "execution_count": 3,
   "metadata": {},
   "outputs": [],
   "source": [
    "start_date = '2021-01-01'\n",
    "end_date = '2021-09-07'"
   ]
  },
  {
   "cell_type": "code",
   "execution_count": 4,
   "metadata": {},
   "outputs": [],
   "source": [
    "tic_list = ['ETH-USD']"
   ]
  },
  {
   "cell_type": "code",
   "execution_count": 5,
   "metadata": {},
   "outputs": [],
   "source": [
    "tech_indicators = ['cci_30',\n",
    " 'rsi_30',\n",
    " 'rsi_14',\n",
    " 'rsi_6',\n",
    " 'dx_30', \n",
    " 'dx_14']\n",
    "\n",
    "\n",
    "#tech_indicators = [\n",
    "# 'open_2_sma', \n",
    "# 'rsi_6', \n",
    "# 'close_2_tema']"
   ]
  },
  {
   "cell_type": "code",
   "execution_count": 46,
   "metadata": {},
   "outputs": [],
   "source": [
    "cwd = './CryptoModel/model.pkl'\n",
    "reward_on_value = False\n",
    "lookback_n = 3"
   ]
  },
  {
   "cell_type": "code",
   "execution_count": 47,
   "metadata": {},
   "outputs": [],
   "source": [
    "from neo_finrl.data_processors.processor_yahoofinance import YahooFinanceProcessor"
   ]
  },
  {
   "cell_type": "code",
   "execution_count": 48,
   "metadata": {},
   "outputs": [],
   "source": [
    "data_downloader = YahooFinanceProcessor()"
   ]
  },
  {
   "cell_type": "markdown",
   "metadata": {},
   "source": [
    "### Extract historical px"
   ]
  },
  {
   "cell_type": "code",
   "execution_count": null,
   "metadata": {},
   "outputs": [],
   "source": [
    "stock_history_df = data_downloader.download_data(start_date, end_date, tic_list, '1D')"
   ]
  },
  {
   "cell_type": "code",
   "execution_count": null,
   "metadata": {},
   "outputs": [],
   "source": [
    "data_downloader.time_interval = '1D'\n",
    "stock_history_df = data_downloader.clean_data(stock_history_df)"
   ]
  },
  {
   "cell_type": "code",
   "execution_count": null,
   "metadata": {},
   "outputs": [],
   "source": [
    "stock_history_df = data_downloader.add_technical_indicator(stock_history_df, tech_indicators)"
   ]
  },
  {
   "cell_type": "code",
   "execution_count": null,
   "metadata": {},
   "outputs": [],
   "source": [
    "stock_history_df.to_csv('./ETH_hist.csv', index = False)"
   ]
  },
  {
   "cell_type": "markdown",
   "metadata": {},
   "source": [
    "### Env module"
   ]
  },
  {
   "cell_type": "code",
   "execution_count": 9,
   "metadata": {},
   "outputs": [],
   "source": [
    "from test_env.single_crypto_env import CryptoTradingEnv"
   ]
  },
  {
   "cell_type": "markdown",
   "metadata": {},
   "source": [
    "### Setup env"
   ]
  },
  {
   "cell_type": "code",
   "execution_count": 49,
   "metadata": {},
   "outputs": [],
   "source": [
    "stock_history_df = pd.read_csv('./ETH_hist.csv')\n",
    "# to prevent policy_vl = nan\n",
    "stock_history_df.fillna(1e-10, inplace = True)"
   ]
  },
  {
   "cell_type": "code",
   "execution_count": 50,
   "metadata": {},
   "outputs": [],
   "source": [
    "price_array = stock_history_df[['open', 'adjcp', 'low', 'high']].values\n",
    "tech_array = stock_history_df[tech_indicators].values"
   ]
  },
  {
   "cell_type": "code",
   "execution_count": 51,
   "metadata": {},
   "outputs": [],
   "source": [
    "train_test_split_index = int(stock_history_df.shape[0] * 0.8)"
   ]
  },
  {
   "cell_type": "code",
   "execution_count": 52,
   "metadata": {},
   "outputs": [
    {
     "name": "stdout",
     "output_type": "stream",
     "text": [
      "200 records for training\n",
      "50 records for testing\n"
     ]
    }
   ],
   "source": [
    "print (f'{train_test_split_index} records for training')\n",
    "print (f'{stock_history_df.shape[0] - train_test_split_index} records for testing')"
   ]
  },
  {
   "cell_type": "code",
   "execution_count": 53,
   "metadata": {},
   "outputs": [],
   "source": [
    "config = dict()\n",
    "\n",
    "config['price_array'] = price_array[:train_test_split_index]\n",
    "config['tech_array'] = tech_array[:train_test_split_index]\n",
    "config['if_train'] = True\n",
    "config['if_value'] = reward_on_value\n",
    "config['lookback_n'] = lookback_n\n",
    "\n",
    "initial_capital = 1e-5\n",
    "initial_stocks = np.array([40.0])\n",
    "max_step = 30"
   ]
  },
  {
   "cell_type": "code",
   "execution_count": 54,
   "metadata": {},
   "outputs": [],
   "source": [
    "crypto_env = CryptoTradingEnv(config, \n",
    "                              initial_capital=initial_capital,\n",
    "                              initial_stocks=initial_stocks,\n",
    "                              max_step = max_step, \n",
    "                              )"
   ]
  },
  {
   "cell_type": "markdown",
   "metadata": {},
   "source": [
    "### Train RL"
   ]
  },
  {
   "cell_type": "code",
   "execution_count": 55,
   "metadata": {},
   "outputs": [],
   "source": [
    "from stable_baselines3 import PPO, DDPG\n",
    "from stable_baselines3.common.vec_env import DummyVecEnv, VecCheckNan, VecNormalize\n",
    "from stable_baselines3.common.logger import configure"
   ]
  },
  {
   "cell_type": "code",
   "execution_count": 56,
   "metadata": {},
   "outputs": [
    {
     "name": "stdout",
     "output_type": "stream",
     "text": [
      "Logging to ./tmp/sb3_log/\n"
     ]
    }
   ],
   "source": [
    "tmp_path = \"./tmp/sb3_log/\"\n",
    "# set up logger\n",
    "new_logger = configure(tmp_path, [\"stdout\", \"csv\"])"
   ]
  },
  {
   "cell_type": "code",
   "execution_count": 57,
   "metadata": {},
   "outputs": [
    {
     "name": "stdout",
     "output_type": "stream",
     "text": [
      "Using cuda device\n"
     ]
    }
   ],
   "source": [
    "env_train = DummyVecEnv([lambda : crypto_env])\n",
    "env_train = VecCheckNan(env_train, raise_exception=True)\n",
    "#env_train = VecNormalize(env_train)\n",
    "\n",
    "model_name = 'ppo'\n",
    "\n",
    "if model_name == 'ppo':\n",
    "    model = PPO(\"MlpPolicy\", env_train, learning_rate=0.00025, \n",
    "                            n_steps=1024, batch_size=128, ent_coef=0.0, \n",
    "                            gamma=0.99, seed=312, verbose = 1)\n",
    "elif model_name == 'ddpg':\n",
    "    model = DDPG(\"MlpPolicy\", env_train, learning_rate=0.00025, \n",
    "                 batch_size=128, gamma = 0.99, seed=312)\n",
    "    \n",
    "model.set_logger(new_logger)"
   ]
  },
  {
   "cell_type": "code",
   "execution_count": 58,
   "metadata": {
    "scrolled": false
   },
   "outputs": [
    {
     "name": "stdout",
     "output_type": "stream",
     "text": [
      "------------------------------------------\n",
      "| time/                   |              |\n",
      "|    fps                  | 819          |\n",
      "|    iterations           | 10           |\n",
      "|    time_elapsed         | 12           |\n",
      "|    total_timesteps      | 10240        |\n",
      "| train/                  |              |\n",
      "|    approx_kl            | 0.0045753447 |\n",
      "|    clip_fraction        | 0.0368       |\n",
      "|    clip_range           | 0.2          |\n",
      "|    entropy_loss         | -1.38        |\n",
      "|    explained_variance   | -1.19        |\n",
      "|    learning_rate        | 0.00025      |\n",
      "|    loss                 | -0.0147      |\n",
      "|    n_updates            | 90           |\n",
      "|    policy_gradient_loss | -0.00472     |\n",
      "|    std                  | 0.959        |\n",
      "|    value_loss           | 0.000212     |\n",
      "------------------------------------------\n",
      "------------------------------------------\n",
      "| time/                   |              |\n",
      "|    fps                  | 815          |\n",
      "|    iterations           | 20           |\n",
      "|    time_elapsed         | 25           |\n",
      "|    total_timesteps      | 20480        |\n",
      "| train/                  |              |\n",
      "|    approx_kl            | 0.0060495706 |\n",
      "|    clip_fraction        | 0.0585       |\n",
      "|    clip_range           | 0.2          |\n",
      "|    entropy_loss         | -1.32        |\n",
      "|    explained_variance   | -0.813       |\n",
      "|    learning_rate        | 0.00025      |\n",
      "|    loss                 | -0.00519     |\n",
      "|    n_updates            | 190          |\n",
      "|    policy_gradient_loss | -0.00714     |\n",
      "|    std                  | 0.903        |\n",
      "|    value_loss           | 9.08e-05     |\n",
      "------------------------------------------\n",
      "-----------------------------------------\n",
      "| time/                   |             |\n",
      "|    fps                  | 814         |\n",
      "|    iterations           | 30          |\n",
      "|    time_elapsed         | 37          |\n",
      "|    total_timesteps      | 30720       |\n",
      "| train/                  |             |\n",
      "|    approx_kl            | 0.005026644 |\n",
      "|    clip_fraction        | 0.0309      |\n",
      "|    clip_range           | 0.2         |\n",
      "|    entropy_loss         | -1.27       |\n",
      "|    explained_variance   | -1.21       |\n",
      "|    learning_rate        | 0.00025     |\n",
      "|    loss                 | -0.00819    |\n",
      "|    n_updates            | 290         |\n",
      "|    policy_gradient_loss | -0.00357    |\n",
      "|    std                  | 0.855       |\n",
      "|    value_loss           | 3.96e-05    |\n",
      "-----------------------------------------\n",
      "-----------------------------------------\n",
      "| time/                   |             |\n",
      "|    fps                  | 774         |\n",
      "|    iterations           | 40          |\n",
      "|    time_elapsed         | 52          |\n",
      "|    total_timesteps      | 40960       |\n",
      "| train/                  |             |\n",
      "|    approx_kl            | 0.002659489 |\n",
      "|    clip_fraction        | 0.019       |\n",
      "|    clip_range           | 0.2         |\n",
      "|    entropy_loss         | -1.2        |\n",
      "|    explained_variance   | -1.3        |\n",
      "|    learning_rate        | 0.00025     |\n",
      "|    loss                 | -0.0187     |\n",
      "|    n_updates            | 390         |\n",
      "|    policy_gradient_loss | -0.00415    |\n",
      "|    std                  | 0.805       |\n",
      "|    value_loss           | 3.31e-05    |\n",
      "-----------------------------------------\n",
      "------------------------------------------\n",
      "| time/                   |              |\n",
      "|    fps                  | 757          |\n",
      "|    iterations           | 50           |\n",
      "|    time_elapsed         | 67           |\n",
      "|    total_timesteps      | 51200        |\n",
      "| train/                  |              |\n",
      "|    approx_kl            | 0.0028631645 |\n",
      "|    clip_fraction        | 0.0149       |\n",
      "|    clip_range           | 0.2          |\n",
      "|    entropy_loss         | -1.17        |\n",
      "|    explained_variance   | -3.06        |\n",
      "|    learning_rate        | 0.00025      |\n",
      "|    loss                 | 0.00973      |\n",
      "|    n_updates            | 490          |\n",
      "|    policy_gradient_loss | -0.00457     |\n",
      "|    std                  | 0.782        |\n",
      "|    value_loss           | 1.08e-05     |\n",
      "------------------------------------------\n",
      "-----------------------------------------\n",
      "| time/                   |             |\n",
      "|    fps                  | 744         |\n",
      "|    iterations           | 60          |\n",
      "|    time_elapsed         | 82          |\n",
      "|    total_timesteps      | 61440       |\n",
      "| train/                  |             |\n",
      "|    approx_kl            | 0.005878208 |\n",
      "|    clip_fraction        | 0.0604      |\n",
      "|    clip_range           | 0.2         |\n",
      "|    entropy_loss         | -1.16       |\n",
      "|    explained_variance   | -16         |\n",
      "|    learning_rate        | 0.00025     |\n",
      "|    loss                 | 1.83e-05    |\n",
      "|    n_updates            | 590         |\n",
      "|    policy_gradient_loss | -0.00915    |\n",
      "|    std                  | 0.767       |\n",
      "|    value_loss           | 7.97e-06    |\n",
      "-----------------------------------------\n",
      "------------------------------------------\n",
      "| time/                   |              |\n",
      "|    fps                  | 742          |\n",
      "|    iterations           | 70           |\n",
      "|    time_elapsed         | 96           |\n",
      "|    total_timesteps      | 71680        |\n",
      "| train/                  |              |\n",
      "|    approx_kl            | 0.0029775284 |\n",
      "|    clip_fraction        | 0.0208       |\n",
      "|    clip_range           | 0.2          |\n",
      "|    entropy_loss         | -1.12        |\n",
      "|    explained_variance   | -8.21        |\n",
      "|    learning_rate        | 0.00025      |\n",
      "|    loss                 | -0.00855     |\n",
      "|    n_updates            | 690          |\n",
      "|    policy_gradient_loss | -0.00375     |\n",
      "|    std                  | 0.74         |\n",
      "|    value_loss           | 2.16e-05     |\n",
      "------------------------------------------\n",
      "----------------------------------------\n",
      "| time/                   |            |\n",
      "|    fps                  | 734        |\n",
      "|    iterations           | 80         |\n",
      "|    time_elapsed         | 111        |\n",
      "|    total_timesteps      | 81920      |\n",
      "| train/                  |            |\n",
      "|    approx_kl            | 0.00298216 |\n",
      "|    clip_fraction        | 0.0307     |\n",
      "|    clip_range           | 0.2        |\n",
      "|    entropy_loss         | -1.07      |\n",
      "|    explained_variance   | -16.3      |\n",
      "|    learning_rate        | 0.00025    |\n",
      "|    loss                 | 0.00453    |\n",
      "|    n_updates            | 790        |\n",
      "|    policy_gradient_loss | -0.00551   |\n",
      "|    std                  | 0.705      |\n",
      "|    value_loss           | 2.7e-05    |\n",
      "----------------------------------------\n",
      "------------------------------------------\n",
      "| time/                   |              |\n",
      "|    fps                  | 731          |\n",
      "|    iterations           | 90           |\n",
      "|    time_elapsed         | 125          |\n",
      "|    total_timesteps      | 92160        |\n",
      "| train/                  |              |\n",
      "|    approx_kl            | 0.0031589463 |\n",
      "|    clip_fraction        | 0.034        |\n",
      "|    clip_range           | 0.2          |\n",
      "|    entropy_loss         | -1.05        |\n",
      "|    explained_variance   | -21          |\n",
      "|    learning_rate        | 0.00025      |\n",
      "|    loss                 | 0.00892      |\n",
      "|    n_updates            | 890          |\n",
      "|    policy_gradient_loss | -0.00404     |\n",
      "|    std                  | 0.692        |\n",
      "|    value_loss           | 6.63e-06     |\n",
      "------------------------------------------\n",
      "Training finished!\n"
     ]
    }
   ],
   "source": [
    "model.learn(total_timesteps=1e5, tb_log_name = 'ppo', log_interval=10)\n",
    "print('Training finished!')"
   ]
  },
  {
   "cell_type": "code",
   "execution_count": 60,
   "metadata": {},
   "outputs": [
    {
     "name": "stdout",
     "output_type": "stream",
     "text": [
      "Trained model saved in ./CryptoModel/model.pkl\n"
     ]
    }
   ],
   "source": [
    "model.save(cwd)\n",
    "print('Trained model saved in ' + str(cwd))"
   ]
  },
  {
   "cell_type": "markdown",
   "metadata": {},
   "source": [
    "### Test RL"
   ]
  },
  {
   "cell_type": "code",
   "execution_count": 61,
   "metadata": {},
   "outputs": [],
   "source": [
    "#test on the testing env\n",
    "def testRun(model, env_instance):\n",
    "    state = env_instance.reset()\n",
    "    episode_returns = list()  # the cumulative_return / initial_account\n",
    "    done = False\n",
    "\n",
    "    while not done:\n",
    "        action = model.predict(state)[0]\n",
    "        #print (action)\n",
    "        state, reward, done, _ = env_instance.step(action)\n",
    "        \n",
    "        #print (env_instance.stocks)\n",
    "        #total_asset = env_instance.amount + (env_instance.price_ary[env_instance.day + env_instance.run_index, 1] \\\n",
    "        #                                     * env_instance.stocks).sum()\n",
    "        #episode_return = total_asset / env_instance.initial_total_asset\n",
    "        \n",
    "        episode_returns.append(env_instance.total_asset)\n",
    "        \n",
    "    print('Test Finished!')  \n",
    "    return episode_returns"
   ]
  },
  {
   "cell_type": "code",
   "execution_count": 68,
   "metadata": {},
   "outputs": [],
   "source": [
    "test_config = dict()\n",
    "\n",
    "start_idx = train_test_split_index\n",
    "start_idx = 120\n",
    "test_config['price_array'] = price_array[start_idx:]\n",
    "test_config['tech_array'] = tech_array[start_idx:]\n",
    "test_config['if_train'] = False\n",
    "test_config['if_value'] = reward_on_value\n",
    "test_config['lookback_n'] = lookback_n\n",
    "\n",
    "max_step = min(test_config['price_array'].shape[0]-1, 50)\n",
    "#max_step = test_config['price_array'].shape[0] - 1"
   ]
  },
  {
   "cell_type": "code",
   "execution_count": 69,
   "metadata": {},
   "outputs": [],
   "source": [
    "#test_env = CryptoTradingEnv(test_config, \\\n",
    "#                            initial_capital=1e4, \\\n",
    "#                            initial_stocks = np.array([0.00001]), \\\n",
    "#                            max_step = max_step)\n",
    "\n",
    "test_env = CryptoTradingEnv(test_config, \\\n",
    "                            initial_capital=0, \\\n",
    "                            max_step = max_step, \\\n",
    "                           initial_stocks = np.array([20.0]))\n",
    "\n",
    "test_model = PPO.load(cwd)\n",
    "#test_model = model\n",
    "test_model = test_model.policy.eval()"
   ]
  },
  {
   "cell_type": "code",
   "execution_count": 70,
   "metadata": {
    "scrolled": false
   },
   "outputs": [
    {
     "name": "stdout",
     "output_type": "stream",
     "text": [
      "initial stock: [20.] inital amount:  0\n",
      "initial asset:  20.0\n",
      "[Day 1] BUY: 0.0\n",
      "[Day 4] BUY: 0.0\n",
      "[Day 5] BUY: 0.0\n",
      "[Day 7] BUY: 0.0\n",
      "[Day 8] BUY: 0.0\n",
      "[Day 10] BUY: 0.0\n",
      "[Day 11] BUY: 0.0\n",
      "[Day 12] BUY: 0.0\n",
      "[Day 13] BUY: 0.0\n",
      "[Day 14] BUY: 0.0\n",
      "[Day 15] BUY: 0.0\n",
      "[Day 16] BUY: 0.0\n",
      "[Day 18] BUY: 0.0\n",
      "[Day 19] BUY: 0.0\n",
      "[Day 20] BUY: 0.0\n",
      "[Day 21] BUY: 0.0\n",
      "[Day 23] BUY: 0.0\n",
      "[Day 24] BUY: 0.0\n",
      "[Day 26] BUY: 0.0\n",
      "[Day 27] BUY: 0.0\n",
      "[Day 30] BUY: 0.0\n",
      "[Day 31] BUY: 0.0\n",
      "[Day 32] BUY: 0.0\n",
      "[Day 33] BUY: 0.0\n",
      "[Day 34] BUY: 0.0\n",
      "[Day 35] BUY: 0.0\n",
      "[Day 36] BUY: 0.0\n",
      "[Day 37] BUY: 0.0\n",
      "[Day 38] BUY: 0.0\n",
      "[Day 40] BUY: 0.0\n",
      "[Day 41] BUY: 0.0\n",
      "[Day 43] BUY: 0.0\n",
      "[Day 44] BUY: 0.0\n",
      "[Day 46] BUY: 0.0\n",
      "[Day 48] BUY: 0.0\n",
      "[Day 49] BUY: 0.0\n",
      "Episode Return:  1.0\n",
      "Test Finished!\n",
      "Holding-strategy return:  1.0\n"
     ]
    }
   ],
   "source": [
    "cumulative_return = testRun(test_model, test_env)\n",
    "\n",
    "if test_config['if_value']:\n",
    "    holding_return = price_array[start_idx + max_step, 1] / price_array[start_idx, 1]\n",
    "else:\n",
    "    holding_return = 1.0\n",
    "\n",
    "print (\"Holding-strategy return: \", holding_return)"
   ]
  },
  {
   "cell_type": "code",
   "execution_count": 71,
   "metadata": {},
   "outputs": [],
   "source": [
    "import matplotlib.pyplot as plt\n",
    "%matplotlib inline"
   ]
  },
  {
   "cell_type": "code",
   "execution_count": 72,
   "metadata": {},
   "outputs": [
    {
     "data": {
      "text/plain": [
       "Text(0.5, 0, 'time')"
      ]
     },
     "execution_count": 72,
     "metadata": {},
     "output_type": "execute_result"
    },
    {
     "data": {
      "image/png": "[encoded data removed]",
      "text/plain": [
       "<Figure size 432x288 with 1 Axes>"
      ]
     },
     "metadata": {
      "needs_background": "light"
     },
     "output_type": "display_data"
    }
   ],
   "source": [
    "plt.plot(cumulative_return, label='agent return')\n",
    "plt.grid()\n",
    "plt.title('cumulative return')\n",
    "plt.xlabel('time')"
   ]
  },
  {
   "cell_type": "code",
   "execution_count": 67,
   "metadata": {},
   "outputs": [
    {
     "data": {
      "text/plain": [
       "Text(0.5, 0, 'time')"
      ]
     },
     "execution_count": 67,
     "metadata": {},
     "output_type": "execute_result"
    },
    {
     "data": {
      "image/png": "[encoded data removed]",
      "text/plain": [
       "<Figure size 432x288 with 1 Axes>"
      ]
     },
     "metadata": {
      "needs_background": "light"
     },
     "output_type": "display_data"
    }
   ],
   "source": [
    "plt.plot(test_config['price_array'][:, 2:4], label='px')\n",
    "plt.grid()\n",
    "plt.title('price')\n",
    "plt.xlabel('time')"
   ]
  },
  {
   "cell_type": "code",
   "execution_count": null,
   "metadata": {},
   "outputs": [],
   "source": []
  }
 ],
 "metadata": {
  "kernelspec": {
   "display_name": "Python 3",
   "language": "python",
   "name": "python3"
  },
  "language_info": {
   "codemirror_mode": {
    "name": "ipython",
    "version": 3
   },
   "file_extension": ".py",
   "mimetype": "text/x-python",
   "name": "python",
   "nbconvert_exporter": "python",
   "pygments_lexer": "ipython3",
   "version": "3.7.3"
  }
 },
 "nbformat": 4,
 "nbformat_minor": 2
}
