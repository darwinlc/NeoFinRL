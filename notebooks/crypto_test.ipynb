{
 "cells": [
  {
   "cell_type": "code",
   "execution_count": 1,
   "metadata": {},
   "outputs": [],
   "source": [
    "import sys\n",
    "\n",
    "sys.path.append('../')"
   ]
  },
  {
   "cell_type": "code",
   "execution_count": 2,
   "metadata": {},
   "outputs": [],
   "source": [
    "import pandas as pd"
   ]
  },
  {
   "cell_type": "code",
   "execution_count": 3,
   "metadata": {},
   "outputs": [],
   "source": [
    "start_date = '2021-01-01'\n",
    "end_date = '2021-08-30'"
   ]
  },
  {
   "cell_type": "code",
   "execution_count": 4,
   "metadata": {},
   "outputs": [],
   "source": [
    "tic_list = ['ETH-USD']"
   ]
  },
  {
   "cell_type": "code",
   "execution_count": 5,
   "metadata": {},
   "outputs": [],
   "source": [
    "tech_indicators = ['macd',\n",
    " 'rsi_30',\n",
    " 'cci_30',\n",
    " 'dx_30']"
   ]
  },
  {
   "cell_type": "code",
   "execution_count": 6,
   "metadata": {},
   "outputs": [],
   "source": [
    "cwd = './CryptoModel/model.pkl'"
   ]
  },
  {
   "cell_type": "code",
   "execution_count": null,
   "metadata": {},
   "outputs": [],
   "source": [
    "from neo_finrl.data_processors.processor_yahoofinance import YahooFinanceProcessor"
   ]
  },
  {
   "cell_type": "code",
   "execution_count": null,
   "metadata": {},
   "outputs": [],
   "source": [
    "data_downloader = YahooFinanceProcessor()"
   ]
  },
  {
   "cell_type": "markdown",
   "metadata": {},
   "source": [
    "### Extract historical px"
   ]
  },
  {
   "cell_type": "code",
   "execution_count": null,
   "metadata": {},
   "outputs": [],
   "source": [
    "stock_history_df = data_downloader.download_data(start_date, end_date, tic_list, '1D')"
   ]
  },
  {
   "cell_type": "code",
   "execution_count": null,
   "metadata": {},
   "outputs": [],
   "source": [
    "data_downloader.time_interval = '1D'\n",
    "stock_history_df = data_downloader.clean_data(stock_history_df)"
   ]
  },
  {
   "cell_type": "code",
   "execution_count": null,
   "metadata": {},
   "outputs": [],
   "source": [
    "stock_history_df = data_downloader.add_technical_indicator(stock_history_df, tech_indicators)"
   ]
  },
  {
   "cell_type": "code",
   "execution_count": null,
   "metadata": {},
   "outputs": [],
   "source": [
    "stock_history_df.to_csv('./ETH_hist.csv', index = False)"
   ]
  },
  {
   "cell_type": "markdown",
   "metadata": {},
   "source": [
    "### Env module"
   ]
  },
  {
   "cell_type": "code",
   "execution_count": 7,
   "metadata": {},
   "outputs": [],
   "source": [
    "from test_env.single_crypto_env import CryptoTradingEnv"
   ]
  },
  {
   "cell_type": "markdown",
   "metadata": {},
   "source": [
    "### Setup env"
   ]
  },
  {
   "cell_type": "code",
   "execution_count": 8,
   "metadata": {},
   "outputs": [],
   "source": [
    "stock_history_df = pd.read_csv('./ETH_hist.csv')"
   ]
  },
  {
   "cell_type": "code",
   "execution_count": 9,
   "metadata": {},
   "outputs": [],
   "source": [
    "price_array = stock_history_df[['open', 'adjcp', 'low', 'high']].values\n",
    "tech_array = stock_history_df[tech_indicators].values"
   ]
  },
  {
   "cell_type": "code",
   "execution_count": 10,
   "metadata": {},
   "outputs": [],
   "source": [
    "train_test_split_index = int(stock_history_df.shape[0] * 0.8)"
   ]
  },
  {
   "cell_type": "code",
   "execution_count": 11,
   "metadata": {},
   "outputs": [
    {
     "name": "stdout",
     "output_type": "stream",
     "text": [
      "193 records for training\n",
      "49 records for testing\n"
     ]
    }
   ],
   "source": [
    "print (f'{train_test_split_index} records for training')\n",
    "print (f'{stock_history_df.shape[0] - train_test_split_index} records for testing')"
   ]
  },
  {
   "cell_type": "code",
   "execution_count": 12,
   "metadata": {},
   "outputs": [],
   "source": [
    "config = dict()\n",
    "\n",
    "config['price_array'] = price_array[:train_test_split_index]\n",
    "config['tech_array'] = tech_array[:train_test_split_index]\n",
    "config['if_train'] = True\n",
    "\n",
    "initial_capital = 1e5\n",
    "max_step = 100"
   ]
  },
  {
   "cell_type": "code",
   "execution_count": 13,
   "metadata": {},
   "outputs": [],
   "source": [
    "crypto_env = CryptoTradingEnv(config, initial_capital=initial_capital, max_step = max_step)"
   ]
  },
  {
   "cell_type": "markdown",
   "metadata": {},
   "source": [
    "### Train RL"
   ]
  },
  {
   "cell_type": "code",
   "execution_count": 14,
   "metadata": {},
   "outputs": [],
   "source": [
    "from stable_baselines3 import PPO\n",
    "from stable_baselines3.common.vec_env import DummyVecEnv"
   ]
  },
  {
   "cell_type": "code",
   "execution_count": 15,
   "metadata": {},
   "outputs": [],
   "source": [
    "env_train = DummyVecEnv([lambda : crypto_env])\n",
    "\n",
    "model = PPO(\"MlpPolicy\", env_train, learning_rate=0.00025, \n",
    "                        n_steps=2048, batch_size=128, ent_coef=0.0, \n",
    "                        gamma=0.99, seed=312)"
   ]
  },
  {
   "cell_type": "code",
   "execution_count": 16,
   "metadata": {},
   "outputs": [
    {
     "name": "stdout",
     "output_type": "stream",
     "text": [
      "0.99480045\n",
      "8.336502\n",
      "8.863002\n",
      "14.643405\n",
      "18.594204\n",
      "14.570903\n",
      "6.557901\n",
      "7.5271006\n",
      "4.560401\n",
      "8.849401\n",
      "0.6634021\n",
      "7.848303\n",
      "6.807102\n",
      "14.220904\n",
      "18.406506\n",
      "10.468706\n",
      "9.863906\n",
      "12.933108\n",
      "13.310311\n",
      "14.38121\n",
      "9.750109\n",
      "0.359308\n",
      "8.062649e-06\n",
      "1.0000079\n",
      "7.716942e-06\n",
      "6.7715087\n",
      "3.3913083\n",
      "2.7674077\n",
      "4.1552067\n",
      "0.39900732\n",
      "0.50600755\n",
      "0.63720816\n",
      "2.4231083\n",
      "1.0000081\n",
      "15.089006\n",
      "5.215708\n",
      "16.875906\n",
      "21.635914\n",
      "23.893206\n",
      "13.1570015\n",
      "10.931098\n",
      "11.0107975\n",
      "4.873797\n",
      "4.791096\n",
      "8.558196\n",
      "7.1911964\n",
      "11.019795\n",
      "8.572796\n",
      "19.9889\n",
      "14.296601\n",
      "15.963199\n",
      "15.877805\n",
      "20.117802\n",
      "22.739508\n",
      "27.524614\n",
      "23.115818\n",
      "19.27912\n",
      "23.049416\n",
      "26.976616\n",
      "26.976616\n",
      "44.346508\n",
      "46.577007\n",
      "46.577007\n",
      "46.577007\n",
      "46.577007\n",
      "46.577007\n",
      "46.577007\n",
      "46.577007\n",
      "46.577007\n",
      "46.577007\n",
      "46.577007\n",
      "46.577007\n",
      "46.577007\n",
      "46.577007\n",
      "46.577007\n",
      "46.577007\n",
      "46.577007\n",
      "46.577007\n",
      "46.577007\n",
      "46.577007\n",
      "46.577007\n",
      "46.577007\n",
      "46.577007\n",
      "46.577007\n",
      "46.577007\n",
      "46.577007\n",
      "46.577007\n",
      "46.577007\n",
      "46.577007\n",
      "46.577007\n",
      "46.577007\n",
      "46.577007\n",
      "46.577007\n",
      "46.577007\n",
      "46.577007\n",
      "46.577007\n",
      "46.577007\n",
      "46.577007\n",
      "46.577007\n",
      "46.577007\n",
      "46.577007\n",
      "46.577007\n",
      "Training finished!\n"
     ]
    }
   ],
   "source": [
    "model.learn(total_timesteps=1e4, tb_log_name = 'ppo')\n",
    "print('Training finished!')"
   ]
  },
  {
   "cell_type": "code",
   "execution_count": 17,
   "metadata": {},
   "outputs": [
    {
     "name": "stdout",
     "output_type": "stream",
     "text": [
      "Trained model saved in ./CryptoModel/model.pkl\n"
     ]
    }
   ],
   "source": [
    "model.save(cwd)\n",
    "print('Trained model saved in ' + str(cwd))"
   ]
  },
  {
   "cell_type": "markdown",
   "metadata": {},
   "source": [
    "### Test RL"
   ]
  },
  {
   "cell_type": "code",
   "execution_count": 18,
   "metadata": {},
   "outputs": [],
   "source": [
    "#test on the testing env\n",
    "def testRun(model, env_instance):\n",
    "    state = env_instance.reset()\n",
    "    episode_returns = list()  # the cumulative_return / initial_account\n",
    "    done = False\n",
    "\n",
    "    while not done:\n",
    "        action = model.predict(state)[0]\n",
    "        #print (action)\n",
    "        state, reward, done, _ = env_instance.step(action)\n",
    "        \n",
    "        #print (env_instance.stocks)\n",
    "        #total_asset = env_instance.amount + (env_instance.price_ary[env_instance.day + env_instance.run_index, 1] \\\n",
    "        #                                     * env_instance.stocks).sum()\n",
    "        #episode_return = total_asset / env_instance.initial_total_asset\n",
    "        \n",
    "        episode_return = env_instance.stocks\n",
    "        episode_returns.append(episode_return)\n",
    "        \n",
    "    print('episode_return', episode_return)\n",
    "    print('Test Finished!')  \n",
    "    return episode_returns"
   ]
  },
  {
   "cell_type": "code",
   "execution_count": 19,
   "metadata": {},
   "outputs": [],
   "source": [
    "test_config = dict()\n",
    "\n",
    "start_idx = train_test_split_index - 100\n",
    "test_config['price_array'] = price_array[start_idx:]\n",
    "test_config['tech_array'] = tech_array[start_idx:]\n",
    "test_config['if_train'] = False\n",
    "\n",
    "initial_capital = 1e5\n",
    "max_step = min(test_config['price_array'].shape[0], 100)"
   ]
  },
  {
   "cell_type": "code",
   "execution_count": 20,
   "metadata": {},
   "outputs": [],
   "source": [
    "test_env = CryptoTradingEnv(test_config, \\\n",
    "                            initial_capital=initial_capital, \\\n",
    "                            max_step = max_step)\n",
    "test_model = PPO.load(cwd)"
   ]
  },
  {
   "cell_type": "code",
   "execution_count": 21,
   "metadata": {
    "scrolled": false
   },
   "outputs": [
    {
     "name": "stdout",
     "output_type": "stream",
     "text": [
      "0.0\n",
      "episode_return [0.]\n",
      "Test Finished!\n"
     ]
    }
   ],
   "source": [
    "cumulative_return = testRun(test_model, test_env)"
   ]
  },
  {
   "cell_type": "code",
   "execution_count": null,
   "metadata": {},
   "outputs": [],
   "source": []
  }
 ],
 "metadata": {
  "kernelspec": {
   "display_name": "Python 3",
   "language": "python",
   "name": "python3"
  },
  "language_info": {
   "codemirror_mode": {
    "name": "ipython",
    "version": 3
   },
   "file_extension": ".py",
   "mimetype": "text/x-python",
   "name": "python",
   "nbconvert_exporter": "python",
   "pygments_lexer": "ipython3",
   "version": "3.7.3"
  }
 },
 "nbformat": 4,
 "nbformat_minor": 2
}
