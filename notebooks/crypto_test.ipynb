{
 "cells": [
  {
   "cell_type": "code",
   "execution_count": 1,
   "metadata": {},
   "outputs": [],
   "source": [
    "import sys\n",
    "\n",
    "sys.path.append('../')"
   ]
  },
  {
   "cell_type": "code",
   "execution_count": 2,
   "metadata": {},
   "outputs": [],
   "source": [
    "import pandas as pd\n",
    "import numpy as np"
   ]
  },
  {
   "cell_type": "code",
   "execution_count": 3,
   "metadata": {},
   "outputs": [],
   "source": [
    "start_date = '2021-01-01'\n",
    "end_date = '2021-09-07'"
   ]
  },
  {
   "cell_type": "code",
   "execution_count": 4,
   "metadata": {},
   "outputs": [],
   "source": [
    "tic_list = ['ETH-USD']"
   ]
  },
  {
   "cell_type": "code",
   "execution_count": 5,
   "metadata": {},
   "outputs": [],
   "source": [
    "tech_indicators = ['cci_30',\n",
    " 'rsi_30',\n",
    " 'rsi_14',\n",
    " 'rsi_6',\n",
    " 'dx_30', \n",
    " 'dx_14']\n",
    "\n",
    "\n",
    "#tech_indicators = [\n",
    "# 'open_2_sma', \n",
    "# 'rsi_6', \n",
    "# 'close_2_tema']"
   ]
  },
  {
   "cell_type": "code",
   "execution_count": 6,
   "metadata": {},
   "outputs": [],
   "source": [
    "cwd = './CryptoModel/model.pkl'\n",
    "reward_on_value = False\n",
    "lookback_n = 7\n",
    "config_max_step = 30\n",
    "if reward_on_value:\n",
    "    reward_scaling = 2 ** -10\n",
    "else:\n",
    "    reward_scaling = 2 ** -5"
   ]
  },
  {
   "cell_type": "code",
   "execution_count": 7,
   "metadata": {},
   "outputs": [],
   "source": [
    "from neo_finrl.data_processors.processor_yahoofinance import YahooFinanceProcessor"
   ]
  },
  {
   "cell_type": "code",
   "execution_count": 8,
   "metadata": {},
   "outputs": [],
   "source": [
    "data_downloader = YahooFinanceProcessor()"
   ]
  },
  {
   "cell_type": "markdown",
   "metadata": {},
   "source": [
    "### Extract historical px"
   ]
  },
  {
   "cell_type": "code",
   "execution_count": null,
   "metadata": {},
   "outputs": [],
   "source": [
    "stock_history_df = data_downloader.download_data(start_date, end_date, tic_list, '1D')"
   ]
  },
  {
   "cell_type": "code",
   "execution_count": null,
   "metadata": {},
   "outputs": [],
   "source": [
    "data_downloader.time_interval = '1D'\n",
    "stock_history_df = data_downloader.clean_data(stock_history_df)"
   ]
  },
  {
   "cell_type": "code",
   "execution_count": null,
   "metadata": {},
   "outputs": [],
   "source": [
    "stock_history_df = data_downloader.add_technical_indicator(stock_history_df, tech_indicators)"
   ]
  },
  {
   "cell_type": "code",
   "execution_count": null,
   "metadata": {},
   "outputs": [],
   "source": [
    "stock_history_df.to_csv('./ETH_hist.csv', index = False)"
   ]
  },
  {
   "cell_type": "markdown",
   "metadata": {},
   "source": [
    "### Env module"
   ]
  },
  {
   "cell_type": "code",
   "execution_count": 9,
   "metadata": {},
   "outputs": [],
   "source": [
    "from test_env.single_crypto_env import CryptoTradingEnv"
   ]
  },
  {
   "cell_type": "markdown",
   "metadata": {},
   "source": [
    "### Setup env"
   ]
  },
  {
   "cell_type": "code",
   "execution_count": 10,
   "metadata": {},
   "outputs": [],
   "source": [
    "stock_history_df = pd.read_csv('./ETH_hist.csv')\n",
    "# to prevent policy_vl = nan\n",
    "stock_history_df.fillna(1e-10, inplace = True)"
   ]
  },
  {
   "cell_type": "code",
   "execution_count": 11,
   "metadata": {},
   "outputs": [],
   "source": [
    "price_array = stock_history_df[['open', 'adjcp', 'low', 'high']].values\n",
    "tech_array = stock_history_df[tech_indicators].values"
   ]
  },
  {
   "cell_type": "code",
   "execution_count": 12,
   "metadata": {},
   "outputs": [],
   "source": [
    "train_test_split_index = int(stock_history_df.shape[0] * 0.8)"
   ]
  },
  {
   "cell_type": "code",
   "execution_count": 13,
   "metadata": {},
   "outputs": [
    {
     "name": "stdout",
     "output_type": "stream",
     "text": [
      "200 records for training\n",
      "50 records for testing\n"
     ]
    }
   ],
   "source": [
    "print (f'{train_test_split_index} records for training')\n",
    "print (f'{stock_history_df.shape[0] - train_test_split_index} records for testing')"
   ]
  },
  {
   "cell_type": "code",
   "execution_count": 14,
   "metadata": {},
   "outputs": [],
   "source": [
    "config = dict()\n",
    "\n",
    "config['price_array'] = price_array[:train_test_split_index]\n",
    "config['tech_array'] = tech_array[:train_test_split_index]\n",
    "# randomly inital states for training\n",
    "config['if_sequence'] = False\n",
    "config['if_randomV'] = True\n",
    "config['if_value'] = reward_on_value\n",
    "config['lookback_n'] = lookback_n\n",
    "\n",
    "initial_capital = 1e-5\n",
    "initial_stocks = np.array([40.0])\n",
    "max_step = config_max_step"
   ]
  },
  {
   "cell_type": "code",
   "execution_count": 15,
   "metadata": {},
   "outputs": [],
   "source": [
    "crypto_env = CryptoTradingEnv(config, \n",
    "                              initial_capital=initial_capital,\n",
    "                              initial_stocks=initial_stocks,\n",
    "                              max_step = max_step, \n",
    "                              reward_scaling = reward_scaling\n",
    "                              )"
   ]
  },
  {
   "cell_type": "markdown",
   "metadata": {},
   "source": [
    "### Train RL"
   ]
  },
  {
   "cell_type": "code",
   "execution_count": 16,
   "metadata": {},
   "outputs": [],
   "source": [
    "from stable_baselines3 import PPO, DDPG\n",
    "from stable_baselines3.common.vec_env import DummyVecEnv, VecCheckNan, VecNormalize\n",
    "from stable_baselines3.common.logger import configure"
   ]
  },
  {
   "cell_type": "code",
   "execution_count": 17,
   "metadata": {},
   "outputs": [
    {
     "name": "stdout",
     "output_type": "stream",
     "text": [
      "Logging to ./tmp/sb3_log/\n"
     ]
    }
   ],
   "source": [
    "tmp_path = \"./tmp/sb3_log/\"\n",
    "# set up logger\n",
    "new_logger = configure(tmp_path, [\"stdout\", \"csv\"])"
   ]
  },
  {
   "cell_type": "code",
   "execution_count": 18,
   "metadata": {},
   "outputs": [
    {
     "name": "stdout",
     "output_type": "stream",
     "text": [
      "Using cuda device\n"
     ]
    }
   ],
   "source": [
    "env_train = DummyVecEnv([lambda : crypto_env])\n",
    "env_train = VecCheckNan(env_train, raise_exception=True)\n",
    "#env_train = VecNormalize(env_train)\n",
    "\n",
    "model_name = 'ppo'\n",
    "\n",
    "if model_name == 'ppo':\n",
    "    model = PPO(\"MlpPolicy\", env_train, learning_rate=0.00025, \n",
    "                            n_steps=1024, batch_size=128, ent_coef=0.0, \n",
    "                            gamma=0.99, seed=312, verbose = 1)\n",
    "elif model_name == 'ddpg':\n",
    "    model = DDPG(\"MlpPolicy\", env_train, learning_rate=0.00025, \n",
    "                 batch_size=128, gamma = 0.99, seed=312)\n",
    "    \n",
    "model.set_logger(new_logger)"
   ]
  },
  {
   "cell_type": "code",
   "execution_count": 19,
   "metadata": {
    "scrolled": false
   },
   "outputs": [
    {
     "name": "stdout",
     "output_type": "stream",
     "text": [
      "-----------------------------------------\n",
      "| time/                   |             |\n",
      "|    fps                  | 812         |\n",
      "|    iterations           | 10          |\n",
      "|    time_elapsed         | 12          |\n",
      "|    total_timesteps      | 10240       |\n",
      "| train/                  |             |\n",
      "|    approx_kl            | 0.004756363 |\n",
      "|    clip_fraction        | 0.0636      |\n",
      "|    clip_range           | 0.2         |\n",
      "|    entropy_loss         | -1.34       |\n",
      "|    explained_variance   | 0.513       |\n",
      "|    learning_rate        | 0.00025     |\n",
      "|    loss                 | 0.0232      |\n",
      "|    n_updates            | 90          |\n",
      "|    policy_gradient_loss | -0.00822    |\n",
      "|    std                  | 0.915       |\n",
      "|    value_loss           | 0.0996      |\n",
      "-----------------------------------------\n",
      "-----------------------------------------\n",
      "| time/                   |             |\n",
      "|    fps                  | 801         |\n",
      "|    iterations           | 20          |\n",
      "|    time_elapsed         | 25          |\n",
      "|    total_timesteps      | 20480       |\n",
      "| train/                  |             |\n",
      "|    approx_kl            | 0.006128764 |\n",
      "|    clip_fraction        | 0.0537      |\n",
      "|    clip_range           | 0.2         |\n",
      "|    entropy_loss         | -1.27       |\n",
      "|    explained_variance   | 0.605       |\n",
      "|    learning_rate        | 0.00025     |\n",
      "|    loss                 | 0.00879     |\n",
      "|    n_updates            | 190         |\n",
      "|    policy_gradient_loss | -0.00565    |\n",
      "|    std                  | 0.864       |\n",
      "|    value_loss           | 0.0129      |\n",
      "-----------------------------------------\n",
      "-----------------------------------------\n",
      "| time/                   |             |\n",
      "|    fps                  | 803         |\n",
      "|    iterations           | 30          |\n",
      "|    time_elapsed         | 38          |\n",
      "|    total_timesteps      | 30720       |\n",
      "| train/                  |             |\n",
      "|    approx_kl            | 0.006539952 |\n",
      "|    clip_fraction        | 0.0451      |\n",
      "|    clip_range           | 0.2         |\n",
      "|    entropy_loss         | -1.25       |\n",
      "|    explained_variance   | 0.751       |\n",
      "|    learning_rate        | 0.00025     |\n",
      "|    loss                 | -0.00351    |\n",
      "|    n_updates            | 290         |\n",
      "|    policy_gradient_loss | -0.00571    |\n",
      "|    std                  | 0.843       |\n",
      "|    value_loss           | 0.00131     |\n",
      "-----------------------------------------\n",
      "------------------------------------------\n",
      "| time/                   |              |\n",
      "|    fps                  | 807          |\n",
      "|    iterations           | 40           |\n",
      "|    time_elapsed         | 50           |\n",
      "|    total_timesteps      | 40960        |\n",
      "| train/                  |              |\n",
      "|    approx_kl            | 0.0020558145 |\n",
      "|    clip_fraction        | 0.0084       |\n",
      "|    clip_range           | 0.2          |\n",
      "|    entropy_loss         | -1.21        |\n",
      "|    explained_variance   | 0.938        |\n",
      "|    learning_rate        | 0.00025      |\n",
      "|    loss                 | 0.00353      |\n",
      "|    n_updates            | 390          |\n",
      "|    policy_gradient_loss | -0.00395     |\n",
      "|    std                  | 0.814        |\n",
      "|    value_loss           | 0.000331     |\n",
      "------------------------------------------\n",
      "------------------------------------------\n",
      "| time/                   |              |\n",
      "|    fps                  | 809          |\n",
      "|    iterations           | 50           |\n",
      "|    time_elapsed         | 63           |\n",
      "|    total_timesteps      | 51200        |\n",
      "| train/                  |              |\n",
      "|    approx_kl            | 0.0050411555 |\n",
      "|    clip_fraction        | 0.051        |\n",
      "|    clip_range           | 0.2          |\n",
      "|    entropy_loss         | -1.17        |\n",
      "|    explained_variance   | 0.916        |\n",
      "|    learning_rate        | 0.00025      |\n",
      "|    loss                 | -0.000193    |\n",
      "|    n_updates            | 490          |\n",
      "|    policy_gradient_loss | -0.00596     |\n",
      "|    std                  | 0.78         |\n",
      "|    value_loss           | 0.000361     |\n",
      "------------------------------------------\n",
      "------------------------------------------\n",
      "| time/                   |              |\n",
      "|    fps                  | 808          |\n",
      "|    iterations           | 60           |\n",
      "|    time_elapsed         | 75           |\n",
      "|    total_timesteps      | 61440        |\n",
      "| train/                  |              |\n",
      "|    approx_kl            | 0.0043274905 |\n",
      "|    clip_fraction        | 0.0365       |\n",
      "|    clip_range           | 0.2          |\n",
      "|    entropy_loss         | -1.15        |\n",
      "|    explained_variance   | 0.933        |\n",
      "|    learning_rate        | 0.00025      |\n",
      "|    loss                 | -0.00264     |\n",
      "|    n_updates            | 590          |\n",
      "|    policy_gradient_loss | -0.00837     |\n",
      "|    std                  | 0.761        |\n",
      "|    value_loss           | 0.000211     |\n",
      "------------------------------------------\n",
      "-----------------------------------------\n",
      "| time/                   |             |\n",
      "|    fps                  | 808         |\n",
      "|    iterations           | 70          |\n",
      "|    time_elapsed         | 88          |\n",
      "|    total_timesteps      | 71680       |\n",
      "| train/                  |             |\n",
      "|    approx_kl            | 0.006732057 |\n",
      "|    clip_fraction        | 0.048       |\n",
      "|    clip_range           | 0.2         |\n",
      "|    entropy_loss         | -1.13       |\n",
      "|    explained_variance   | 0.943       |\n",
      "|    learning_rate        | 0.00025     |\n",
      "|    loss                 | 0.00208     |\n",
      "|    n_updates            | 690         |\n",
      "|    policy_gradient_loss | -0.00897    |\n",
      "|    std                  | 0.743       |\n",
      "|    value_loss           | 0.00014     |\n",
      "-----------------------------------------\n",
      "------------------------------------------\n",
      "| time/                   |              |\n",
      "|    fps                  | 808          |\n",
      "|    iterations           | 80           |\n",
      "|    time_elapsed         | 101          |\n",
      "|    total_timesteps      | 81920        |\n",
      "| train/                  |              |\n",
      "|    approx_kl            | 0.0061142584 |\n",
      "|    clip_fraction        | 0.05         |\n",
      "|    clip_range           | 0.2          |\n",
      "|    entropy_loss         | -1.08        |\n",
      "|    explained_variance   | -0.317       |\n",
      "|    learning_rate        | 0.00025      |\n",
      "|    loss                 | -0.00686     |\n",
      "|    n_updates            | 790          |\n",
      "|    policy_gradient_loss | -0.0059      |\n",
      "|    std                  | 0.709        |\n",
      "|    value_loss           | 0.000144     |\n",
      "------------------------------------------\n",
      "-----------------------------------------\n",
      "| time/                   |             |\n",
      "|    fps                  | 805         |\n",
      "|    iterations           | 90          |\n",
      "|    time_elapsed         | 114         |\n",
      "|    total_timesteps      | 92160       |\n",
      "| train/                  |             |\n",
      "|    approx_kl            | 0.003669044 |\n",
      "|    clip_fraction        | 0.0628      |\n",
      "|    clip_range           | 0.2         |\n",
      "|    entropy_loss         | -1.04       |\n",
      "|    explained_variance   | 0.632       |\n",
      "|    learning_rate        | 0.00025     |\n",
      "|    loss                 | -0.0106     |\n",
      "|    n_updates            | 890         |\n",
      "|    policy_gradient_loss | -0.00575    |\n",
      "|    std                  | 0.685       |\n",
      "|    value_loss           | 3.33e-05    |\n",
      "-----------------------------------------\n",
      "Training finished!\n"
     ]
    }
   ],
   "source": [
    "model.learn(total_timesteps=1e5, tb_log_name = 'ppo', log_interval=10)\n",
    "print('Training finished!')"
   ]
  },
  {
   "cell_type": "code",
   "execution_count": 20,
   "metadata": {},
   "outputs": [
    {
     "name": "stdout",
     "output_type": "stream",
     "text": [
      "Trained model saved in ./CryptoModel/model.pkl\n"
     ]
    }
   ],
   "source": [
    "model.save(cwd)\n",
    "print('Trained model saved in ' + str(cwd))"
   ]
  },
  {
   "cell_type": "markdown",
   "metadata": {},
   "source": [
    "### Test RL"
   ]
  },
  {
   "cell_type": "code",
   "execution_count": 21,
   "metadata": {},
   "outputs": [],
   "source": [
    "#test on the testing env\n",
    "def testRun(model, env_instance, run_n = 1):\n",
    "    exp_return = []\n",
    "    for i in range(run_n):\n",
    "        state = env_instance.reset()\n",
    "        episode_returns = []  # the cumulative_return / initial_account\n",
    "        \n",
    "        done = False\n",
    "        # append initial asset\n",
    "        episode_returns.append(env_instance.total_asset)\n",
    "        \n",
    "        while not done:\n",
    "            action = model.predict(state)[0]\n",
    "            #print (action)\n",
    "            state, reward, done, _ = env_instance.step(action)\n",
    "\n",
    "            #print (env_instance.stocks)\n",
    "            #total_asset = env_instance.amount + (env_instance.price_ary[env_instance.day + env_instance.run_index, 1] \\\n",
    "            #                                     * env_instance.stocks).sum()\n",
    "            #episode_return = total_asset / env_instance.initial_total_asset\n",
    "\n",
    "            episode_returns.append(env_instance.total_asset)\n",
    "\n",
    "        #print('Test Finished!')\n",
    "        exp_return.append(episode_returns)\n",
    "    return exp_return"
   ]
  },
  {
   "cell_type": "code",
   "execution_count": 27,
   "metadata": {},
   "outputs": [],
   "source": [
    "test_config = dict()\n",
    "\n",
    "start_idx = train_test_split_index\n",
    "start_idx = 100\n",
    "test_config['price_array'] = price_array[start_idx:]\n",
    "test_config['tech_array'] = tech_array[start_idx:]\n",
    "\n",
    "#randomly start day index for back testing\n",
    "test_config['if_sequence'] = False\n",
    "# disable random initial capital \n",
    "test_config['if_randomV'] = False\n",
    "\n",
    "test_config['if_value'] = reward_on_value\n",
    "test_config['lookback_n'] = lookback_n\n",
    "\n",
    "max_step = min(test_config['price_array'].shape[0]-1, 50)\n",
    "#max_step = test_config['price_array'].shape[0] - 1"
   ]
  },
  {
   "cell_type": "code",
   "execution_count": 28,
   "metadata": {},
   "outputs": [],
   "source": [
    "#test_env = CryptoTradingEnv(test_config, \\\n",
    "#                            initial_capital=1e4, \\\n",
    "#                            initial_stocks = np.array([0.00001]), \\\n",
    "#                            max_step = max_step)\n",
    "\n",
    "test_env = CryptoTradingEnv(test_config, \\\n",
    "                            initial_capital=0, \\\n",
    "                            max_step = max_step, \\\n",
    "                           initial_stocks = np.array([20.0]), \n",
    "                           reward_scaling = reward_scaling)\n",
    "\n",
    "test_model = PPO.load(cwd)\n",
    "#test_model = model\n",
    "test_model = test_model.policy.eval()"
   ]
  },
  {
   "cell_type": "code",
   "execution_count": 29,
   "metadata": {
    "scrolled": false
   },
   "outputs": [
    {
     "name": "stdout",
     "output_type": "stream",
     "text": [
      "Holding-strategy return:  1.0\n"
     ]
    }
   ],
   "source": [
    "cumulative_return = testRun(test_model, test_env, run_n = 50)\n",
    "\n",
    "if test_config['if_value']:\n",
    "    holding_return = price_array[start_idx + max_step, 1] / price_array[start_idx, 1]\n",
    "else:\n",
    "    holding_return = 1.0\n",
    "\n",
    "print (\"Holding-strategy return: \", holding_return)"
   ]
  },
  {
   "cell_type": "code",
   "execution_count": 30,
   "metadata": {},
   "outputs": [],
   "source": [
    "import matplotlib.pyplot as plt\n",
    "%matplotlib inline"
   ]
  },
  {
   "cell_type": "code",
   "execution_count": 31,
   "metadata": {},
   "outputs": [
    {
     "name": "stdout",
     "output_type": "stream",
     "text": [
      "Mean: 0.9980473999999999; Min: 0.928115; Max 1.01211\n"
     ]
    },
    {
     "data": {
      "text/plain": [
       "(array([ 1.,  0.,  0.,  0.,  1.,  0.,  0.,  1., 46.,  1.]),\n",
       " array([0.928115 , 0.9365145, 0.944914 , 0.9533135, 0.961713 , 0.9701125,\n",
       "        0.978512 , 0.9869115, 0.995311 , 1.0037105, 1.01211  ]),\n",
       " <a list of 10 Patch objects>)"
      ]
     },
     "execution_count": 31,
     "metadata": {},
     "output_type": "execute_result"
    },
    {
     "data": {
      "image/png": "[encoded data removed]",
      "text/plain": [
       "<Figure size 432x288 with 1 Axes>"
      ]
     },
     "metadata": {
      "needs_background": "light"
     },
     "output_type": "display_data"
    }
   ],
   "source": [
    "c_ret = np.array(cumulative_return)\n",
    "c_ret_vec = (c_ret[:, -1]/c_ret[:, 0])\n",
    "\n",
    "print (f'Mean: {np.mean(c_ret_vec)}; Min: {min(c_ret_vec)}; Max {max(c_ret_vec)}')\n",
    "plt.hist(c_ret_vec)"
   ]
  },
  {
   "cell_type": "code",
   "execution_count": 35,
   "metadata": {},
   "outputs": [
    {
     "data": {
      "text/plain": [
       "Text(0.5, 0, 'time')"
      ]
     },
     "execution_count": 35,
     "metadata": {},
     "output_type": "execute_result"
    },
    {
     "data": {
      "image/png": "[encoded data removed]",
      "text/plain": [
       "<Figure size 432x288 with 1 Axes>"
      ]
     },
     "metadata": {
      "needs_background": "light"
     },
     "output_type": "display_data"
    }
   ],
   "source": [
    "plt.plot(cumulative_return, label='agent return')\n",
    "plt.grid()\n",
    "plt.title('cumulative return')\n",
    "plt.xlabel('time')"
   ]
  },
  {
   "cell_type": "code",
   "execution_count": 33,
   "metadata": {},
   "outputs": [
    {
     "data": {
      "text/plain": [
       "Text(0.5, 0, 'time')"
      ]
     },
     "execution_count": 33,
     "metadata": {},
     "output_type": "execute_result"
    },
    {
     "data": {
      "image/png": "[encoded data removed]",
      "text/plain": [
       "<Figure size 432x288 with 1 Axes>"
      ]
     },
     "metadata": {
      "needs_background": "light"
     },
     "output_type": "display_data"
    }
   ],
   "source": [
    "plt.plot(test_config['price_array'][:, 2:4], label='px')\n",
    "plt.grid()\n",
    "plt.title('price')\n",
    "plt.xlabel('time')"
   ]
  },
  {
   "cell_type": "code",
   "execution_count": null,
   "metadata": {},
   "outputs": [],
   "source": []
  }
 ],
 "metadata": {
  "kernelspec": {
   "display_name": "Python 3",
   "language": "python",
   "name": "python3"
  },
  "language_info": {
   "codemirror_mode": {
    "name": "ipython",
    "version": 3
   },
   "file_extension": ".py",
   "mimetype": "text/x-python",
   "name": "python",
   "nbconvert_exporter": "python",
   "pygments_lexer": "ipython3",
   "version": "3.7.3"
  }
 },
 "nbformat": 4,
 "nbformat_minor": 2
}
