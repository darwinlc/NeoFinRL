{
 "cells": [
  {
   "cell_type": "code",
   "execution_count": 1,
   "metadata": {},
   "outputs": [],
   "source": [
    "import sys\n",
    "\n",
    "sys.path.append('../')"
   ]
  },
  {
   "cell_type": "code",
   "execution_count": 2,
   "metadata": {},
   "outputs": [],
   "source": [
    "import pandas as pd\n",
    "import numpy as np"
   ]
  },
  {
   "cell_type": "code",
   "execution_count": 3,
   "metadata": {},
   "outputs": [],
   "source": [
    "from datetime import datetime, timedelta"
   ]
  },
  {
   "cell_type": "code",
   "execution_count": 4,
   "metadata": {},
   "outputs": [],
   "source": [
    "today_d = datetime.today()\n",
    "start_d = today_d - timedelta(days = 40)"
   ]
  },
  {
   "cell_type": "code",
   "execution_count": 5,
   "metadata": {},
   "outputs": [],
   "source": [
    "query_start = start_d.strftime('%Y-%m-%d')\n",
    "query_end = today_d.strftime('%Y-%m-%d')"
   ]
  },
  {
   "cell_type": "code",
   "execution_count": 6,
   "metadata": {},
   "outputs": [
    {
     "data": {
      "text/plain": [
       "('2021-08-12', '2021-09-21')"
      ]
     },
     "execution_count": 6,
     "metadata": {},
     "output_type": "execute_result"
    }
   ],
   "source": [
    "query_start, query_end"
   ]
  },
  {
   "cell_type": "code",
   "execution_count": 7,
   "metadata": {},
   "outputs": [],
   "source": [
    "tic_list = ['DOGE-USD']\n",
    "\n",
    "tech_indicators = ['cci_30',\n",
    " 'rsi_30',\n",
    " 'rsi_14',\n",
    " 'rsi_6',\n",
    " 'dx_30', \n",
    " 'dx_14']"
   ]
  },
  {
   "cell_type": "markdown",
   "metadata": {},
   "source": [
    "### Daily configuration"
   ]
  },
  {
   "cell_type": "code",
   "execution_count": 8,
   "metadata": {},
   "outputs": [],
   "source": [
    "coin_balance = np.array([122.0], dtype = float)\n",
    "cash_balance = 39.3653\n",
    "model_file = './CryptoModel/doge_model_260.pkl'"
   ]
  },
  {
   "cell_type": "markdown",
   "metadata": {},
   "source": [
    "### Pre-train setup"
   ]
  },
  {
   "cell_type": "code",
   "execution_count": 9,
   "metadata": {},
   "outputs": [],
   "source": [
    "reward_on_value = True\n",
    "lookback_n = 3\n",
    "\n",
    "config_max_step = 15\n",
    "\n",
    "if reward_on_value:\n",
    "    reward_scaling = 2 ** -10\n",
    "else:\n",
    "    reward_scaling = 2 ** -5"
   ]
  },
  {
   "cell_type": "markdown",
   "metadata": {},
   "source": [
    "### Query last 40 days price"
   ]
  },
  {
   "cell_type": "code",
   "execution_count": 10,
   "metadata": {},
   "outputs": [],
   "source": [
    "from neo_finrl.data_processors.processor_yahoofinance import YahooFinanceProcessor"
   ]
  },
  {
   "cell_type": "code",
   "execution_count": 11,
   "metadata": {},
   "outputs": [],
   "source": [
    "data_downloader = YahooFinanceProcessor()"
   ]
  },
  {
   "cell_type": "code",
   "execution_count": 12,
   "metadata": {},
   "outputs": [
    {
     "name": "stdout",
     "output_type": "stream",
     "text": [
      "[*********************100%***********************]  1 of 1 completed\n",
      "Shape of DataFrame:  (41, 9)\n"
     ]
    }
   ],
   "source": [
    "stock_history_df = data_downloader.download_data(query_start, query_end, tic_list, '1D')"
   ]
  },
  {
   "cell_type": "code",
   "execution_count": 13,
   "metadata": {},
   "outputs": [
    {
     "name": "stdout",
     "output_type": "stream",
     "text": [
      "Clean data for DOGE-USD\n",
      "Data clean for DOGE-USD is finished.\n",
      "Data clean all finished!\n"
     ]
    }
   ],
   "source": [
    "data_downloader.time_interval = '1D'\n",
    "stock_history_df = data_downloader.clean_data(stock_history_df)"
   ]
  },
  {
   "cell_type": "code",
   "execution_count": 14,
   "metadata": {},
   "outputs": [],
   "source": [
    "stock_history_df = data_downloader.add_technical_indicator(stock_history_df, tech_indicators)"
   ]
  },
  {
   "cell_type": "code",
   "execution_count": 15,
   "metadata": {},
   "outputs": [
    {
     "data": {
      "text/html": [
       "<div>\n",
       "<style scoped>\n",
       "    .dataframe tbody tr th:only-of-type {\n",
       "        vertical-align: middle;\n",
       "    }\n",
       "\n",
       "    .dataframe tbody tr th {\n",
       "        vertical-align: top;\n",
       "    }\n",
       "\n",
       "    .dataframe thead th {\n",
       "        text-align: right;\n",
       "    }\n",
       "</style>\n",
       "<table border=\"1\" class=\"dataframe\">\n",
       "  <thead>\n",
       "    <tr style=\"text-align: right;\">\n",
       "      <th></th>\n",
       "      <th>time</th>\n",
       "      <th>open</th>\n",
       "      <th>high</th>\n",
       "      <th>low</th>\n",
       "      <th>close</th>\n",
       "      <th>adjcp</th>\n",
       "      <th>volume</th>\n",
       "      <th>tic</th>\n",
       "      <th>cci_30</th>\n",
       "      <th>rsi_30</th>\n",
       "      <th>rsi_14</th>\n",
       "      <th>rsi_6</th>\n",
       "      <th>dx_30</th>\n",
       "      <th>dx_14</th>\n",
       "    </tr>\n",
       "  </thead>\n",
       "  <tbody>\n",
       "    <tr>\n",
       "      <th>39</th>\n",
       "      <td>2021-09-19</td>\n",
       "      <td>0.241281</td>\n",
       "      <td>0.241285</td>\n",
       "      <td>0.231337</td>\n",
       "      <td>0.233142</td>\n",
       "      <td>0.233142</td>\n",
       "      <td>8.927640e+08</td>\n",
       "      <td>DOGE-USD</td>\n",
       "      <td>-104.174005</td>\n",
       "      <td>41.558349</td>\n",
       "      <td>36.978739</td>\n",
       "      <td>30.578275</td>\n",
       "      <td>29.929329</td>\n",
       "      <td>28.748286</td>\n",
       "    </tr>\n",
       "    <tr>\n",
       "      <th>40</th>\n",
       "      <td>2021-09-20</td>\n",
       "      <td>0.233161</td>\n",
       "      <td>0.233606</td>\n",
       "      <td>0.200022</td>\n",
       "      <td>0.207071</td>\n",
       "      <td>0.207071</td>\n",
       "      <td>2.244004e+09</td>\n",
       "      <td>DOGE-USD</td>\n",
       "      <td>-148.601331</td>\n",
       "      <td>37.129793</td>\n",
       "      <td>29.955212</td>\n",
       "      <td>17.497940</td>\n",
       "      <td>44.655428</td>\n",
       "      <td>56.551056</td>\n",
       "    </tr>\n",
       "  </tbody>\n",
       "</table>\n",
       "</div>"
      ],
      "text/plain": [
       "          time      open      high       low     close     adjcp  \\\n",
       "39  2021-09-19  0.241281  0.241285  0.231337  0.233142  0.233142   \n",
       "40  2021-09-20  0.233161  0.233606  0.200022  0.207071  0.207071   \n",
       "\n",
       "          volume       tic      cci_30     rsi_30     rsi_14      rsi_6  \\\n",
       "39  8.927640e+08  DOGE-USD -104.174005  41.558349  36.978739  30.578275   \n",
       "40  2.244004e+09  DOGE-USD -148.601331  37.129793  29.955212  17.497940   \n",
       "\n",
       "        dx_30      dx_14  \n",
       "39  29.929329  28.748286  \n",
       "40  44.655428  56.551056  "
      ]
     },
     "execution_count": 15,
     "metadata": {},
     "output_type": "execute_result"
    }
   ],
   "source": [
    "stock_history_df.tail(2)"
   ]
  },
  {
   "cell_type": "code",
   "execution_count": 16,
   "metadata": {},
   "outputs": [],
   "source": [
    "#stock_history_df.to_csv('./DOGE_px_20210918.csv', index = False)"
   ]
  },
  {
   "cell_type": "markdown",
   "metadata": {},
   "source": [
    "### Model run"
   ]
  },
  {
   "cell_type": "code",
   "execution_count": 17,
   "metadata": {},
   "outputs": [],
   "source": [
    "from test_env.single_crypto_env import CryptoTradingEnv\n",
    "\n",
    "from stable_baselines3 import PPO, DDPG\n",
    "from stable_baselines3.common.vec_env import DummyVecEnv, VecCheckNan, VecNormalize\n",
    "from stable_baselines3.common.logger import configure"
   ]
  },
  {
   "cell_type": "code",
   "execution_count": 18,
   "metadata": {},
   "outputs": [
    {
     "name": "stdout",
     "output_type": "stream",
     "text": [
      "Logging to ./tmp/sb3_log/\n"
     ]
    }
   ],
   "source": [
    "tmp_path = \"./tmp/sb3_log/\"\n",
    "# set up logger\n",
    "new_logger = configure(tmp_path, [\"stdout\", \"csv\"])"
   ]
  },
  {
   "cell_type": "code",
   "execution_count": 19,
   "metadata": {},
   "outputs": [],
   "source": [
    "def modelRun(start_idx, px_df, input_amount, input_stocks, last_model):\n",
    "    def tradable_size(env, x):\n",
    "            return (x / env.min_stock_rate).astype(int) * env.min_stock_rate\n",
    "    \n",
    "    test_config = dict()\n",
    "\n",
    "    test_config['price_array'] = px_df.iloc[:(start_idx + config_max_step)][['open', 'adjcp', 'low', 'high']].values\n",
    "    test_config['tech_array'] = px_df.iloc[:(start_idx + config_max_step)][tech_indicators].values\n",
    "\n",
    "    #randomly start day index for back testing\n",
    "    test_config['if_sequence'] = True\n",
    "    # disable random initial capital \n",
    "    test_config['if_randomV'] = False\n",
    "\n",
    "    test_config['if_value'] = reward_on_value\n",
    "    test_config['lookback_n'] = lookback_n\n",
    "\n",
    "    max_step = min(config_max_step, px_df.shape[0] - start_idx) - 1\n",
    "    \n",
    "    print ('Run model from ', start_idx, ' to ', start_idx + max_step)\n",
    "    \n",
    "    test_env = CryptoTradingEnv(test_config, \\\n",
    "                            initial_capital=input_amount, \\\n",
    "                            max_step = max_step, \\\n",
    "                           initial_stocks = input_stocks, \n",
    "                           reward_scaling = reward_scaling, \\\n",
    "                            start_idx = start_idx)\n",
    "    state = test_env.reset()\n",
    "    \n",
    "    print (state)\n",
    "    \n",
    "    #test_model = PPO.load(cwd)\n",
    "    test_model = DDPG.load(last_model)\n",
    "    test_model = test_model.policy.eval()\n",
    "    \n",
    "    action = test_model.predict(state)[0]   \n",
    "    \n",
    "    # actions -> percentage of stock or cash\n",
    "    # add clip at 0.9\n",
    "    actions_v = action[0] * 0.9\n",
    "    \n",
    "    if actions_v == np.nan:\n",
    "        actions_v = 0.0\n",
    "        \n",
    "    order_px = (test_env.price_ary[test_env.day + test_env.run_index, 0] + \\\n",
    "                    test_env.price_ary[test_env.day + test_env.run_index, 1])/2.0\n",
    "        \n",
    "    print ('Action value: ', actions_v)\n",
    "        \n",
    "    if actions_v > 0:\n",
    "        if test_env.amount * actions_v > test_env.buy_min_value:\n",
    "            buy_num_shares = tradable_size(test_env, (test_env.amount * actions_v/order_px)/(1 + test_env.buy_cost_pct))\n",
    "            print (f'Buy {buy_num_shares} at price {order_px}')\n",
    "        else:\n",
    "            print ('No buy action today')\n",
    "            \n",
    "    if actions_v < 0:\n",
    "        sell_num_shares = tradable_size(test_env, test_env.stocks[0] * (-1.0) * actions_v)\n",
    "        # no short \n",
    "        sell_num_shares = min(sell_num_shares, test_env.stocks[0])\n",
    "        print (f'Sell {sell_num_shares} at price {order_px}')\n",
    "        \n",
    "    print (\"\\n\")\n",
    "    print (\"[!!Warning!!] check current MKT price for better deal!!\")\n",
    "    \n",
    "    return -1"
   ]
  },
  {
   "cell_type": "code",
   "execution_count": 20,
   "metadata": {},
   "outputs": [],
   "source": [
    "#stock_history_df = pd.read_csv('./DOGE_px_20210918.csv')"
   ]
  },
  {
   "cell_type": "code",
   "execution_count": 21,
   "metadata": {},
   "outputs": [
    {
     "name": "stdout",
     "output_type": "stream",
     "text": [
      "Run model from  40  to  40\n",
      "initial stock: [122.] inital amount:  39.3653\n",
      "initial asset:  64.62796288757323\n",
      "[ 0.6091063   0.95971203  0.96554399  0.95291197  0.98931199  0.96512401\n",
      "  0.93256801  0.92534798  0.96513999  0.93264401  0.82828403  0.80008799\n",
      "  0.93442398 -1.16094792  0.29007649  0.23402509  0.13670266  0.34887055\n",
      "  0.44180512]\n",
      "Action value:  -0.7947917461395264\n",
      "Sell 96.9645 at price 0.2201160043478012\n",
      "\n",
      "\n",
      "[!!Warning!!] check current MKT price for better deal!!\n"
     ]
    },
    {
     "data": {
      "text/plain": [
       "-1"
      ]
     },
     "execution_count": 21,
     "metadata": {},
     "output_type": "execute_result"
    }
   ],
   "source": [
    "modelRun(stock_history_df.shape[0]-1, \n",
    "         stock_history_df, \n",
    "         cash_balance,\n",
    "         coin_balance, \n",
    "         model_file)"
   ]
  },
  {
   "cell_type": "code",
   "execution_count": null,
   "metadata": {},
   "outputs": [],
   "source": []
  }
 ],
 "metadata": {
  "kernelspec": {
   "display_name": "Python 3",
   "language": "python",
   "name": "python3"
  },
  "language_info": {
   "codemirror_mode": {
    "name": "ipython",
    "version": 3
   },
   "file_extension": ".py",
   "mimetype": "text/x-python",
   "name": "python",
   "nbconvert_exporter": "python",
   "pygments_lexer": "ipython3",
   "version": "3.7.3"
  }
 },
 "nbformat": 4,
 "nbformat_minor": 2
}
