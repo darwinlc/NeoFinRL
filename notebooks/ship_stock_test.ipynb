{
 "cells": [
  {
   "cell_type": "code",
   "execution_count": 1,
   "metadata": {},
   "outputs": [],
   "source": [
    "import sys\n",
    "\n",
    "sys.path.append('../')"
   ]
  },
  {
   "cell_type": "code",
   "execution_count": 2,
   "metadata": {},
   "outputs": [],
   "source": [
    "import yaml"
   ]
  },
  {
   "cell_type": "code",
   "execution_count": 3,
   "metadata": {},
   "outputs": [
    {
     "name": "stderr",
     "output_type": "stream",
     "text": [
      "/home/liuc/anaconda3/lib/python3.7/site-packages/ipykernel_launcher.py:1: YAMLLoadWarning: calling yaml.load() without Loader=... is deprecated, as the default Loader is unsafe. Please read https://msg.pyyaml.org/load for full details.\n",
      "  \"\"\"Entry point for launching an IPython kernel.\n"
     ]
    }
   ],
   "source": [
    "tic_list = yaml.load(open('ticlist.yml', 'r'))"
   ]
  },
  {
   "cell_type": "code",
   "execution_count": 4,
   "metadata": {},
   "outputs": [],
   "source": [
    "start_date = '2009-01-01'\n",
    "end_date = '2021-08-30'"
   ]
  },
  {
   "cell_type": "code",
   "execution_count": 11,
   "metadata": {},
   "outputs": [],
   "source": [
    "history_df_name = './hist_px.csv'"
   ]
  },
  {
   "cell_type": "markdown",
   "metadata": {},
   "source": [
    "### Data Extraction "
   ]
  },
  {
   "cell_type": "code",
   "execution_count": 5,
   "metadata": {},
   "outputs": [],
   "source": [
    "from neo_finrl.data_processors.processor_yahoofinance import YahooFinanceProcessor"
   ]
  },
  {
   "cell_type": "code",
   "execution_count": 6,
   "metadata": {},
   "outputs": [],
   "source": [
    "data_downloader = YahooFinanceProcessor()"
   ]
  },
  {
   "cell_type": "code",
   "execution_count": 9,
   "metadata": {},
   "outputs": [
    {
     "name": "stdout",
     "output_type": "stream",
     "text": [
      "[*********************100%***********************]  1 of 1 completed\n",
      "[*********************100%***********************]  1 of 1 completed\n",
      "[*********************100%***********************]  1 of 1 completed\n",
      "[*********************100%***********************]  1 of 1 completed\n",
      "[*********************100%***********************]  1 of 1 completed\n",
      "[*********************100%***********************]  1 of 1 completed\n",
      "[*********************100%***********************]  1 of 1 completed\n",
      "[*********************100%***********************]  1 of 1 completed\n",
      "[*********************100%***********************]  1 of 1 completed\n",
      "Shape of DataFrame:  (25756, 9)\n"
     ]
    }
   ],
   "source": [
    "stock_history_df = data_downloader.download_data(start_date, end_date, tic_list['tic'], '1D')"
   ]
  },
  {
   "cell_type": "code",
   "execution_count": 13,
   "metadata": {},
   "outputs": [],
   "source": [
    "if history_df_name != None:\n",
    "    stock_history_df.to_csv(history_df_name, index = False)"
   ]
  },
  {
   "cell_type": "code",
   "execution_count": 17,
   "metadata": {},
   "outputs": [],
   "source": [
    "# simple hack for currency \n",
    "for col_i in ['open', 'high', 'low', 'close', 'adjcp']:\n",
    "    stock_history_df.loc[stock_history_df.tic.str.endswith('.SI'), col_i] = \\\n",
    "    stock_history_df.loc[stock_history_df.tic.str.endswith('.SI'), col_i]/1.3\n",
    "\n",
    "    stock_history_df.loc[stock_history_df.tic.str.endswith('.HK'), col_i] = \\\n",
    "    stock_history_df.loc[stock_history_df.tic.str.endswith('.HK'), col_i]/7.8"
   ]
  },
  {
   "cell_type": "markdown",
   "metadata": {},
   "source": [
    "### Preprocess data"
   ]
  },
  {
   "cell_type": "code",
   "execution_count": 29,
   "metadata": {},
   "outputs": [],
   "source": [
    "tech_indicators = ['macd',\n",
    " 'rsi_30',\n",
    " 'cci_30',\n",
    " 'dx_30']"
   ]
  },
  {
   "cell_type": "code",
   "execution_count": 31,
   "metadata": {},
   "outputs": [
    {
     "name": "stdout",
     "output_type": "stream",
     "text": [
      "Clean data for 2343.HK\n",
      "Data clean for 2343.HK is finished.\n",
      "Clean data for CHJ.SI\n",
      "Data clean for CHJ.SI is finished.\n",
      "Clean data for CPLP\n",
      "Data clean for CPLP is finished.\n",
      "Clean data for CTRM\n",
      "NaN data on start date, fill using first valid data.\n",
      "Data clean for CTRM is finished.\n",
      "Clean data for DSX\n",
      "Data clean for DSX is finished.\n",
      "Clean data for ESEA\n",
      "Data clean for ESEA is finished.\n",
      "Clean data for GSL\n",
      "Data clean for GSL is finished.\n",
      "Clean data for SB\n",
      "Data clean for SB is finished.\n",
      "Clean data for SBLK\n",
      "Data clean for SBLK is finished.\n",
      "Data clean all finished!\n"
     ]
    },
    {
     "name": "stderr",
     "output_type": "stream",
     "text": [
      "/home/liuc/anaconda3/lib/python3.7/site-packages/stockstats.py:483: FutureWarning: Currently, 'apply' passes the values as ndarrays to the applied function. In the future, this will change to passing it as Series objects. You need to specify 'raw=True' to keep the current behaviour, and you can pass 'raw=False' to silence this warning\n",
      "  lambda x: np.fabs(x - x.mean()).mean())\n"
     ]
    }
   ],
   "source": [
    "stock_data_df = data_downloader.clean_data(stock_history_df)\n",
    "stock_data_df = data_downloader.add_technical_indicator(stock_data_df, tech_indicators)"
   ]
  },
  {
   "cell_type": "code",
   "execution_count": 32,
   "metadata": {},
   "outputs": [
    {
     "data": {
      "text/html": [
       "<div>\n",
       "<style scoped>\n",
       "    .dataframe tbody tr th:only-of-type {\n",
       "        vertical-align: middle;\n",
       "    }\n",
       "\n",
       "    .dataframe tbody tr th {\n",
       "        vertical-align: top;\n",
       "    }\n",
       "\n",
       "    .dataframe thead th {\n",
       "        text-align: right;\n",
       "    }\n",
       "</style>\n",
       "<table border=\"1\" class=\"dataframe\">\n",
       "  <thead>\n",
       "    <tr style=\"text-align: right;\">\n",
       "      <th></th>\n",
       "      <th>time</th>\n",
       "      <th>open</th>\n",
       "      <th>high</th>\n",
       "      <th>low</th>\n",
       "      <th>close</th>\n",
       "      <th>adjcp</th>\n",
       "      <th>volume</th>\n",
       "      <th>tic</th>\n",
       "      <th>macd</th>\n",
       "      <th>rsi_30</th>\n",
       "      <th>cci_30</th>\n",
       "      <th>dx_30</th>\n",
       "    </tr>\n",
       "  </thead>\n",
       "  <tbody>\n",
       "    <tr>\n",
       "      <th>16214</th>\n",
       "      <td>2009-07-10</td>\n",
       "      <td>340.000000</td>\n",
       "      <td>352.799988</td>\n",
       "      <td>328.799988</td>\n",
       "      <td>343.200012</td>\n",
       "      <td>257.564209</td>\n",
       "      <td>660.0</td>\n",
       "      <td>ESEA</td>\n",
       "      <td>-20.765676</td>\n",
       "      <td>43.398285</td>\n",
       "      <td>-114.412021</td>\n",
       "      <td>42.884684</td>\n",
       "    </tr>\n",
       "    <tr>\n",
       "      <th>10347</th>\n",
       "      <td>2011-07-18</td>\n",
       "      <td>2.250000</td>\n",
       "      <td>2.250000</td>\n",
       "      <td>2.250000</td>\n",
       "      <td>2.250000</td>\n",
       "      <td>2.250000</td>\n",
       "      <td>0.0</td>\n",
       "      <td>CTRM</td>\n",
       "      <td>0.000000</td>\n",
       "      <td>NaN</td>\n",
       "      <td>NaN</td>\n",
       "      <td>NaN</td>\n",
       "    </tr>\n",
       "    <tr>\n",
       "      <th>3294</th>\n",
       "      <td>2009-02-17</td>\n",
       "      <td>1.252235</td>\n",
       "      <td>1.252235</td>\n",
       "      <td>1.252235</td>\n",
       "      <td>1.252235</td>\n",
       "      <td>0.898850</td>\n",
       "      <td>3225.0</td>\n",
       "      <td>CHJ.SI</td>\n",
       "      <td>-0.010660</td>\n",
       "      <td>38.655702</td>\n",
       "      <td>-70.027783</td>\n",
       "      <td>12.752721</td>\n",
       "    </tr>\n",
       "    <tr>\n",
       "      <th>7938</th>\n",
       "      <td>2014-08-20</td>\n",
       "      <td>76.720001</td>\n",
       "      <td>77.000000</td>\n",
       "      <td>76.230003</td>\n",
       "      <td>76.860001</td>\n",
       "      <td>38.596691</td>\n",
       "      <td>24186.0</td>\n",
       "      <td>CPLP</td>\n",
       "      <td>-0.227961</td>\n",
       "      <td>49.660030</td>\n",
       "      <td>-59.177493</td>\n",
       "      <td>23.887443</td>\n",
       "    </tr>\n",
       "    <tr>\n",
       "      <th>24402</th>\n",
       "      <td>2016-09-20</td>\n",
       "      <td>1.480000</td>\n",
       "      <td>1.590000</td>\n",
       "      <td>1.450000</td>\n",
       "      <td>1.490000</td>\n",
       "      <td>1.490000</td>\n",
       "      <td>209500.0</td>\n",
       "      <td>SB</td>\n",
       "      <td>0.050426</td>\n",
       "      <td>57.567309</td>\n",
       "      <td>140.011505</td>\n",
       "      <td>40.702603</td>\n",
       "    </tr>\n",
       "  </tbody>\n",
       "</table>\n",
       "</div>"
      ],
      "text/plain": [
       "             time        open        high         low       close       adjcp  \\\n",
       "16214  2009-07-10  340.000000  352.799988  328.799988  343.200012  257.564209   \n",
       "10347  2011-07-18    2.250000    2.250000    2.250000    2.250000    2.250000   \n",
       "3294   2009-02-17    1.252235    1.252235    1.252235    1.252235    0.898850   \n",
       "7938   2014-08-20   76.720001   77.000000   76.230003   76.860001   38.596691   \n",
       "24402  2016-09-20    1.480000    1.590000    1.450000    1.490000    1.490000   \n",
       "\n",
       "         volume     tic       macd     rsi_30      cci_30      dx_30  \n",
       "16214     660.0    ESEA -20.765676  43.398285 -114.412021  42.884684  \n",
       "10347       0.0    CTRM   0.000000        NaN         NaN        NaN  \n",
       "3294     3225.0  CHJ.SI  -0.010660  38.655702  -70.027783  12.752721  \n",
       "7938    24186.0    CPLP  -0.227961  49.660030  -59.177493  23.887443  \n",
       "24402  209500.0      SB   0.050426  57.567309  140.011505  40.702603  "
      ]
     },
     "execution_count": 32,
     "metadata": {},
     "output_type": "execute_result"
    }
   ],
   "source": [
    "stock_data_df.sample(5)"
   ]
  },
  {
   "cell_type": "code",
   "execution_count": 33,
   "metadata": {},
   "outputs": [],
   "source": [
    "stock_data_df.to_csv('cleaned_stock.csv', index = False)"
   ]
  },
  {
   "cell_type": "markdown",
   "metadata": {},
   "source": [
    "### To Do: create env and test RL"
   ]
  },
  {
   "cell_type": "code",
   "execution_count": null,
   "metadata": {},
   "outputs": [],
   "source": []
  },
  {
   "cell_type": "code",
   "execution_count": null,
   "metadata": {},
   "outputs": [],
   "source": []
  }
 ],
 "metadata": {
  "kernelspec": {
   "display_name": "Python 3",
   "language": "python",
   "name": "python3"
  },
  "language_info": {
   "codemirror_mode": {
    "name": "ipython",
    "version": 3
   },
   "file_extension": ".py",
   "mimetype": "text/x-python",
   "name": "python",
   "nbconvert_exporter": "python",
   "pygments_lexer": "ipython3",
   "version": "3.7.3"
  }
 },
 "nbformat": 4,
 "nbformat_minor": 2
}
