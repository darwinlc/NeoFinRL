{
 "cells": [
  {
   "cell_type": "markdown",
   "metadata": {},
   "source": [
    "### How to simulate\n",
    "1. perform model retrain every n days\n",
    "2. model retrain using all historical data (normalize price with first day open price for each game)\n",
    "3. rolling forward account balance"
   ]
  },
  {
   "cell_type": "code",
   "execution_count": 1,
   "metadata": {},
   "outputs": [],
   "source": [
    "import sys\n",
    "\n",
    "sys.path.append('../')"
   ]
  },
  {
   "cell_type": "code",
   "execution_count": 2,
   "metadata": {},
   "outputs": [],
   "source": [
    "import pandas as pd\n",
    "import numpy as np"
   ]
  },
  {
   "cell_type": "code",
   "execution_count": 3,
   "metadata": {},
   "outputs": [],
   "source": [
    "# read whole simulation data\n",
    "stock_history_df = pd.concat([pd.read_csv(i) for i in ['./DOGE_px.csv']])"
   ]
  },
  {
   "cell_type": "code",
   "execution_count": 4,
   "metadata": {},
   "outputs": [],
   "source": [
    "stock_history_df.sort_values(by = 'time', inplace = True)\n",
    "stock_history_df.fillna(1e-10, inplace = True)"
   ]
  },
  {
   "cell_type": "code",
   "execution_count": 18,
   "metadata": {},
   "outputs": [
    {
     "data": {
      "text/html": [
       "<div>\n",
       "<style scoped>\n",
       "    .dataframe tbody tr th:only-of-type {\n",
       "        vertical-align: middle;\n",
       "    }\n",
       "\n",
       "    .dataframe tbody tr th {\n",
       "        vertical-align: top;\n",
       "    }\n",
       "\n",
       "    .dataframe thead th {\n",
       "        text-align: right;\n",
       "    }\n",
       "</style>\n",
       "<table border=\"1\" class=\"dataframe\">\n",
       "  <thead>\n",
       "    <tr style=\"text-align: right;\">\n",
       "      <th></th>\n",
       "      <th>time</th>\n",
       "      <th>open</th>\n",
       "      <th>high</th>\n",
       "      <th>low</th>\n",
       "      <th>close</th>\n",
       "      <th>adjcp</th>\n",
       "      <th>volume</th>\n",
       "      <th>tic</th>\n",
       "      <th>cci_30</th>\n",
       "      <th>rsi_30</th>\n",
       "      <th>rsi_14</th>\n",
       "      <th>rsi_6</th>\n",
       "      <th>dx_30</th>\n",
       "      <th>dx_14</th>\n",
       "    </tr>\n",
       "  </thead>\n",
       "  <tbody>\n",
       "    <tr>\n",
       "      <th>259</th>\n",
       "      <td>2021-09-16</td>\n",
       "      <td>0.247542</td>\n",
       "      <td>0.247733</td>\n",
       "      <td>0.233852</td>\n",
       "      <td>0.242555</td>\n",
       "      <td>0.242555</td>\n",
       "      <td>1.140048e+09</td>\n",
       "      <td>DOGE-USD</td>\n",
       "      <td>-111.656943</td>\n",
       "      <td>46.690284</td>\n",
       "      <td>41.558577</td>\n",
       "      <td>37.962461</td>\n",
       "      <td>29.144819</td>\n",
       "      <td>43.789922</td>\n",
       "    </tr>\n",
       "    <tr>\n",
       "      <th>260</th>\n",
       "      <td>2021-09-17</td>\n",
       "      <td>0.242098</td>\n",
       "      <td>0.259535</td>\n",
       "      <td>0.238026</td>\n",
       "      <td>0.239930</td>\n",
       "      <td>0.239930</td>\n",
       "      <td>2.246768e+09</td>\n",
       "      <td>DOGE-USD</td>\n",
       "      <td>-91.617513</td>\n",
       "      <td>46.325973</td>\n",
       "      <td>40.758247</td>\n",
       "      <td>35.829772</td>\n",
       "      <td>18.920087</td>\n",
       "      <td>18.238924</td>\n",
       "    </tr>\n",
       "  </tbody>\n",
       "</table>\n",
       "</div>"
      ],
      "text/plain": [
       "           time      open      high       low     close     adjcp  \\\n",
       "259  2021-09-16  0.247542  0.247733  0.233852  0.242555  0.242555   \n",
       "260  2021-09-17  0.242098  0.259535  0.238026  0.239930  0.239930   \n",
       "\n",
       "           volume       tic      cci_30     rsi_30     rsi_14      rsi_6  \\\n",
       "259  1.140048e+09  DOGE-USD -111.656943  46.690284  41.558577  37.962461   \n",
       "260  2.246768e+09  DOGE-USD  -91.617513  46.325973  40.758247  35.829772   \n",
       "\n",
       "         dx_30      dx_14  \n",
       "259  29.144819  43.789922  \n",
       "260  18.920087  18.238924  "
      ]
     },
     "execution_count": 18,
     "metadata": {},
     "output_type": "execute_result"
    }
   ],
   "source": [
    "stock_history_df.tail(2)"
   ]
  },
  {
   "cell_type": "code",
   "execution_count": 6,
   "metadata": {},
   "outputs": [],
   "source": [
    "# use first 250 for first model\n",
    "start_trade_index = 180\n",
    "# consequence model retrain point\n",
    "model_retrain_interval = 15\n",
    "\n",
    "tech_indicators = ['cci_30',\n",
    " 'rsi_30',\n",
    " 'rsi_14',\n",
    " 'rsi_6',\n",
    " 'dx_30', \n",
    " 'dx_14']\n",
    "\n",
    "cwd = './CryptoModel/doge_model_%i.pkl'\n",
    "reward_on_value = True\n",
    "lookback_n = 3\n",
    "\n",
    "config_max_step = model_retrain_interval\n",
    "\n",
    "if reward_on_value:\n",
    "    reward_scaling = 2 ** -10\n",
    "else:\n",
    "    reward_scaling = 2 ** -5"
   ]
  },
  {
   "cell_type": "code",
   "execution_count": 7,
   "metadata": {},
   "outputs": [],
   "source": [
    "from test_env.single_crypto_env import CryptoTradingEnv\n",
    "\n",
    "from stable_baselines3 import PPO, DDPG\n",
    "from stable_baselines3.common.vec_env import DummyVecEnv, VecCheckNan, VecNormalize\n",
    "from stable_baselines3.common.logger import configure"
   ]
  },
  {
   "cell_type": "code",
   "execution_count": 8,
   "metadata": {},
   "outputs": [
    {
     "name": "stdout",
     "output_type": "stream",
     "text": [
      "Logging to ./tmp/sb3_log/\n"
     ]
    }
   ],
   "source": [
    "tmp_path = \"./tmp/sb3_log/\"\n",
    "# set up logger\n",
    "new_logger = configure(tmp_path, [\"stdout\", \"csv\"])"
   ]
  },
  {
   "cell_type": "code",
   "execution_count": 9,
   "metadata": {},
   "outputs": [],
   "source": [
    "def modelTraining(time_idx, px_df, total_train_timesteps = 1e4):\n",
    "    # create env\n",
    "    config = dict()\n",
    "\n",
    "    config['price_array'] = px_df.iloc[:time_idx][['open', 'adjcp', 'low', 'high']].values\n",
    "    config['tech_array'] = px_df.iloc[:time_idx][tech_indicators].values\n",
    "    # randomly inital states for training\n",
    "    config['if_sequence'] = False\n",
    "    config['if_randomV'] = True\n",
    "    config['if_value'] = reward_on_value\n",
    "    config['lookback_n'] = lookback_n\n",
    "\n",
    "    initial_capital = 1e-5\n",
    "    initial_stocks = np.array([200.0])\n",
    "    max_step = config_max_step\n",
    "    \n",
    "    crypto_env = CryptoTradingEnv(config, \n",
    "                              initial_capital=initial_capital,\n",
    "                              initial_stocks=initial_stocks,\n",
    "                              max_step = max_step, \n",
    "                              reward_scaling = reward_scaling\n",
    "                              )\n",
    "    \n",
    "    env_train = DummyVecEnv([lambda : crypto_env])\n",
    "    env_train = VecCheckNan(env_train, raise_exception=True)\n",
    "    #env_train = VecNormalize(env_train)\n",
    "\n",
    "    model = DDPG(\"MlpPolicy\", env_train, learning_rate=0.00025, \n",
    "                     batch_size=128, gamma = 0.99, seed=312)\n",
    "\n",
    "    model.set_logger(new_logger)\n",
    "    \n",
    "    model.learn(total_timesteps=total_train_timesteps, \n",
    "                tb_log_name = 'ddpg', log_interval=1000)\n",
    "    print('Training finished!')\n",
    "    \n",
    "    model.save(cwd%(time_idx))\n",
    "    print('Trained model saved in ' + str(cwd%(time_idx)))\n",
    "    return cwd%(time_idx)"
   ]
  },
  {
   "cell_type": "code",
   "execution_count": 10,
   "metadata": {},
   "outputs": [],
   "source": [
    "def modelRun(start_idx, px_df, input_amount, input_stocks, last_model):\n",
    "    test_config = dict()\n",
    "\n",
    "    test_config['price_array'] = px_df.iloc[:(start_idx + config_max_step)][['open', 'adjcp', 'low', 'high']].values\n",
    "    test_config['tech_array'] = px_df.iloc[:(start_idx + config_max_step)][tech_indicators].values\n",
    "\n",
    "    #randomly start day index for back testing\n",
    "    test_config['if_sequence'] = True\n",
    "    # disable random initial capital \n",
    "    test_config['if_randomV'] = False\n",
    "\n",
    "    test_config['if_value'] = reward_on_value\n",
    "    test_config['lookback_n'] = lookback_n\n",
    "\n",
    "    max_step = min(config_max_step, px_df.shape[0] - start_idx) - 1\n",
    "    \n",
    "    print ('Run model from ', start_idx, ' to ', start_idx + max_step)\n",
    "    \n",
    "    test_env = CryptoTradingEnv(test_config, \\\n",
    "                            initial_capital=input_amount, \\\n",
    "                            max_step = max_step, \\\n",
    "                           initial_stocks = input_stocks, \n",
    "                           reward_scaling = reward_scaling, \\\n",
    "                            start_idx = start_idx)\n",
    "    state = test_env.reset()\n",
    "\n",
    "    #test_model = PPO.load(cwd)\n",
    "    test_model = DDPG.load(last_model)\n",
    "    test_model = test_model.policy.eval()\n",
    "    \n",
    "    done = False  \n",
    "    while not done:\n",
    "        action = test_model.predict(state)[0]\n",
    "        state, reward, done, _ = test_env.step(action)\n",
    "        \n",
    "    return test_env.amount, test_env.stocks"
   ]
  },
  {
   "cell_type": "markdown",
   "metadata": {},
   "source": [
    "### Simulation Train and Trade"
   ]
  },
  {
   "cell_type": "code",
   "execution_count": 11,
   "metadata": {},
   "outputs": [],
   "source": [
    "initial_sim_amount = 0.01\n",
    "initial_sim_stocks = np.array([200.0])"
   ]
  },
  {
   "cell_type": "code",
   "execution_count": 12,
   "metadata": {
    "scrolled": true
   },
   "outputs": [
    {
     "name": "stdout",
     "output_type": "stream",
     "text": [
      "Training model at time  180\n",
      "Training finished!\n",
      "Trained model saved in ./CryptoModel/doge_model_180.pkl\n",
      "Applying model\n",
      "Run model from  180  to  194\n",
      "initial stock: [200.] inital amount:  0.01\n",
      "initial asset:  52.56380249023437\n",
      "[Day 181] SELL: 134.2534\n",
      "[Day 182] SELL: 59.045100000000005\n",
      "[Day 183] SELL: 6.0285\n",
      "[Day 184] BUY: 183.3617\n",
      "[Day 185] SELL: 145.43970000000002\n",
      "[Day 186] SELL: 40.1539\n",
      "[Day 187] BUY: 75.08970000000001\n",
      "[Day 188] BUY: 29.2097\n",
      "[Day 189] SELL: 97.7211\n",
      "[Day 190] SELL: 128.4666\n",
      "[Day 191] SELL: 18.0542\n",
      "[Day 192] SELL: 2.1565000000000003\n",
      "[Day 193] SELL: 0.22010000000000002\n",
      "[Day 194] SELL: 0.0229\n",
      "Episode Return:  0.9181329305874955\n",
      "Training model at time  195\n",
      "Training finished!\n",
      "Trained model saved in ./CryptoModel/doge_model_195.pkl\n",
      "Applying model\n",
      "Run model from  195  to  209\n",
      "initial stock: [0.02549699] inital amount:  48.25545854872874\n",
      "initial asset:  48.260489716723924\n",
      "[Day 196] SELL: 0.0229\n",
      "[Day 197] SELL: 0.0023\n",
      "[Day 198] SELL: 0.0023\n",
      "[Day 199] SELL: 0.0002\n",
      "[Day 203] BUY: 85.768\n",
      "[Day 206] BUY: 115.1836\n",
      "[Day 207] SELL: 13.5546\n",
      "[Day 208] BUY: 124.64800000000001\n",
      "[Day 209] BUY: 12.529900000000001\n",
      "Episode Return:  1.0298384523935382\n",
      "Training model at time  210\n",
      "Training finished!\n",
      "Trained model saved in ./CryptoModel/doge_model_210.pkl\n",
      "Applying model\n",
      "Run model from  210  to  224\n",
      "initial stock: [238.807] inital amount:  0.6514586641838291\n",
      "initial asset:  49.515911026244375\n",
      "[Day 211] BUY: 0.1173\n",
      "[Day 212] SELL: 7.6687\n",
      "[Day 213] SELL: 3.72\n",
      "[Day 214] BUY: 1.7209\n",
      "[Day 215] BUY: 0.6704\n",
      "[Day 216] BUY: 5.5737000000000005\n",
      "[Day 217] BUY: 1.6828\n",
      "[Day 218] BUY: 1.5478\n",
      "[Day 219] BUY: 0.5337000000000001\n",
      "[Day 220] BUY: 1.3791\n",
      "[Day 221] BUY: 0.8836\n",
      "[Day 222] BUY: 0.4853\n",
      "[Day 223] BUY: 0.3301\n",
      "[Day 224] BUY: 0.3013\n",
      "Episode Return:  1.287709340683919\n",
      "Training model at time  225\n",
      "Training finished!\n",
      "Trained model saved in ./CryptoModel/doge_model_225.pkl\n",
      "Applying model\n",
      "Run model from  225  to  239\n",
      "initial stock: [240.7315] inital amount:  0.22800156211132633\n",
      "initial asset:  69.27172562216992\n",
      "[Day 226] BUY: 0.2429\n",
      "[Day 227] BUY: 0.2141\n",
      "[Day 228] BUY: 0.168\n",
      "[Day 229] BUY: 0.060700000000000004\n",
      "[Day 230] BUY: 0.1333\n",
      "[Day 231] BUY: 0.048100000000000004\n",
      "[Day 232] BUY: 0.0356\n",
      "[Day 233] BUY: 0.039900000000000005\n",
      "[Day 234] BUY: 0.0204\n",
      "[Day 235] BUY: 0.006200000000000001\n",
      "[Day 236] BUY: 0.0067\n",
      "[Day 237] SELL: 197.3752\n",
      "[Day 238] SELL: 192.72330000000002\n",
      "[Day 239] BUY: 178.09220000000002\n",
      "Episode Return:  1.0494202592438602\n",
      "Training model at time  240\n",
      "Training finished!\n",
      "Trained model saved in ./CryptoModel/doge_model_240.pkl\n",
      "Applying model\n",
      "Run model from  240  to  254\n",
      "initial stock: [226.79779] inital amount:  5.918395974066016\n",
      "initial asset:  70.69842527094102\n",
      "[Day 241] SELL: 149.2509\n",
      "[Day 242] BUY: 58.563\n",
      "[Day 243] SELL: 74.3066\n",
      "[Day 244] BUY: 32.1524\n",
      "[Day 245] BUY: 65.6027\n",
      "[Day 246] BUY: 95.174\n",
      "[Day 247] SELL: 139.0834\n",
      "[Day 248] BUY: 159.4566\n",
      "[Day 249] SELL: 129.9592\n",
      "[Day 250] BUY: 100.59580000000001\n",
      "[Day 251] SELL: 133.6764\n",
      "[Day 252] SELL: 62.685900000000004\n",
      "[Day 253] SELL: 38.513400000000004\n",
      "[Day 254] BUY: 124.4514\n",
      "Episode Return:  0.8811780514802604\n",
      "Training model at time  255\n",
      "Training finished!\n",
      "Trained model saved in ./CryptoModel/doge_model_255.pkl\n",
      "Applying model\n",
      "Run model from  255  to  260\n",
      "initial stock: [203.3916] inital amount:  13.192660754806536\n",
      "initial asset:  64.1660532413788\n",
      "[Day 256] SELL: 61.5375\n",
      "[Day 257] SELL: 72.2835\n",
      "[Day 258] SELL: 127.66860000000001\n",
      "[Day 259] SELL: 12.766900000000001\n",
      "[Day 260] SELL: 1.2767000000000002\n",
      "Episode Return:  0.9706723774339193\n",
      "Final amount: 62.250170480533676, stocks: 0.14189542829990387\n"
     ]
    }
   ],
   "source": [
    "test_amount = initial_sim_amount\n",
    "test_stocks = initial_sim_stocks\n",
    "\n",
    "for t in range(start_trade_index, stock_history_df.shape[0], model_retrain_interval):\n",
    "    print ('Training model at time ', t)\n",
    "    model_file = modelTraining(t, stock_history_df)\n",
    "    \n",
    "    print ('Applying model')\n",
    "    test_amount, test_stocks = modelRun(t, stock_history_df, test_amount, test_stocks, model_file)\n",
    "    \n",
    "print (f'Final amount: {test_amount}, stocks: {test_stocks[0]}')"
   ]
  },
  {
   "cell_type": "code",
   "execution_count": 13,
   "metadata": {},
   "outputs": [],
   "source": [
    "holding_return = ((stock_history_df['close'].iloc[-1] * initial_sim_stocks[0]) + initial_sim_amount)\\\n",
    "/((stock_history_df['close'].iloc[0] * initial_sim_stocks[0]) + initial_sim_amount)"
   ]
  },
  {
   "cell_type": "code",
   "execution_count": 14,
   "metadata": {},
   "outputs": [],
   "source": [
    "trading_return = ((stock_history_df['close'].iloc[-1] * test_stocks[0]) + test_amount)\\\n",
    "/((stock_history_df['close'].iloc[0] * initial_sim_stocks[0]) + initial_sim_amount)"
   ]
  },
  {
   "cell_type": "code",
   "execution_count": 15,
   "metadata": {},
   "outputs": [
    {
     "name": "stdout",
     "output_type": "stream",
     "text": [
      "Holding return: 50.71428873010237, Trading return: 65.81172669870064\n"
     ]
    }
   ],
   "source": [
    "print (f'Holding return: {holding_return}, Trading return: {trading_return}')"
   ]
  },
  {
   "cell_type": "markdown",
   "metadata": {},
   "source": [
    "### Final model for daily run"
   ]
  },
  {
   "cell_type": "code",
   "execution_count": 16,
   "metadata": {},
   "outputs": [
    {
     "name": "stdout",
     "output_type": "stream",
     "text": [
      "---------------------------------\n",
      "| time/              |          |\n",
      "|    episodes        | 1000     |\n",
      "|    fps             | 163      |\n",
      "|    time_elapsed    | 91       |\n",
      "|    total timesteps | 15000    |\n",
      "| train/             |          |\n",
      "|    actor_loss      | -0.0188  |\n",
      "|    critic_loss     | 5.53e-05 |\n",
      "|    learning_rate   | 0.00025  |\n",
      "|    n_updates       | 14895    |\n",
      "---------------------------------\n",
      "---------------------------------\n",
      "| time/              |          |\n",
      "|    episodes        | 2000     |\n",
      "|    fps             | 164      |\n",
      "|    time_elapsed    | 182      |\n",
      "|    total timesteps | 30000    |\n",
      "| train/             |          |\n",
      "|    actor_loss      | -0.0224  |\n",
      "|    critic_loss     | 4.14e-05 |\n",
      "|    learning_rate   | 0.00025  |\n",
      "|    n_updates       | 29895    |\n",
      "---------------------------------\n",
      "---------------------------------\n",
      "| time/              |          |\n",
      "|    episodes        | 3000     |\n",
      "|    fps             | 161      |\n",
      "|    time_elapsed    | 278      |\n",
      "|    total timesteps | 45000    |\n",
      "| train/             |          |\n",
      "|    actor_loss      | -0.0208  |\n",
      "|    critic_loss     | 5.35e-05 |\n",
      "|    learning_rate   | 0.00025  |\n",
      "|    n_updates       | 44895    |\n",
      "---------------------------------\n",
      "---------------------------------\n",
      "| time/              |          |\n",
      "|    episodes        | 4000     |\n",
      "|    fps             | 159      |\n",
      "|    time_elapsed    | 376      |\n",
      "|    total timesteps | 60000    |\n",
      "| train/             |          |\n",
      "|    actor_loss      | -0.0213  |\n",
      "|    critic_loss     | 4.61e-05 |\n",
      "|    learning_rate   | 0.00025  |\n",
      "|    n_updates       | 59895    |\n",
      "---------------------------------\n",
      "---------------------------------\n",
      "| time/              |          |\n",
      "|    episodes        | 5000     |\n",
      "|    fps             | 158      |\n",
      "|    time_elapsed    | 474      |\n",
      "|    total timesteps | 75000    |\n",
      "| train/             |          |\n",
      "|    actor_loss      | -0.0215  |\n",
      "|    critic_loss     | 4.95e-05 |\n",
      "|    learning_rate   | 0.00025  |\n",
      "|    n_updates       | 74895    |\n",
      "---------------------------------\n",
      "---------------------------------\n",
      "| time/              |          |\n",
      "|    episodes        | 6000     |\n",
      "|    fps             | 158      |\n",
      "|    time_elapsed    | 567      |\n",
      "|    total timesteps | 90000    |\n",
      "| train/             |          |\n",
      "|    actor_loss      | -0.0226  |\n",
      "|    critic_loss     | 5.42e-05 |\n",
      "|    learning_rate   | 0.00025  |\n",
      "|    n_updates       | 89895    |\n",
      "---------------------------------\n",
      "Training finished!\n",
      "Trained model saved in ./CryptoModel/doge_model_260.pkl\n"
     ]
    }
   ],
   "source": [
    "final_model_file = modelTraining(stock_history_df.shape[0] - 1, \n",
    "                                 stock_history_df, \n",
    "                                 total_train_timesteps = 1e5)"
   ]
  },
  {
   "cell_type": "code",
   "execution_count": 17,
   "metadata": {},
   "outputs": [
    {
     "data": {
      "text/plain": [
       "'./CryptoModel/doge_model_260.pkl'"
      ]
     },
     "execution_count": 17,
     "metadata": {},
     "output_type": "execute_result"
    }
   ],
   "source": [
    "final_model_file"
   ]
  }
 ],
 "metadata": {
  "kernelspec": {
   "display_name": "Python 3",
   "language": "python",
   "name": "python3"
  },
  "language_info": {
   "codemirror_mode": {
    "name": "ipython",
    "version": 3
   },
   "file_extension": ".py",
   "mimetype": "text/x-python",
   "name": "python",
   "nbconvert_exporter": "python",
   "pygments_lexer": "ipython3",
   "version": "3.7.3"
  }
 },
 "nbformat": 4,
 "nbformat_minor": 2
}
