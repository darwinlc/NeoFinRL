{
 "cells": [
  {
   "cell_type": "markdown",
   "metadata": {},
   "source": [
    "### How to simulate\n",
    "1. perform model retrain every n days\n",
    "2. model retrain using all historical data (normalize price with first day open price for each game)\n",
    "3. rolling forward account balance"
   ]
  },
  {
   "cell_type": "code",
   "execution_count": 1,
   "metadata": {},
   "outputs": [],
   "source": [
    "import sys\n",
    "\n",
    "sys.path.append('../')"
   ]
  },
  {
   "cell_type": "code",
   "execution_count": 2,
   "metadata": {},
   "outputs": [],
   "source": [
    "import pandas as pd\n",
    "import numpy as np"
   ]
  },
  {
   "cell_type": "code",
   "execution_count": 3,
   "metadata": {},
   "outputs": [],
   "source": [
    "# read whole simulation data\n",
    "stock_history_df = pd.concat([pd.read_csv(i) for i in ['./DOGE_px.csv']])"
   ]
  },
  {
   "cell_type": "code",
   "execution_count": 4,
   "metadata": {},
   "outputs": [],
   "source": [
    "stock_history_df.sort_values(by = 'time', inplace = True)\n",
    "stock_history_df.fillna(1e-10, inplace = True)"
   ]
  },
  {
   "cell_type": "code",
   "execution_count": 5,
   "metadata": {},
   "outputs": [
    {
     "data": {
      "text/html": [
       "<div>\n",
       "<style scoped>\n",
       "    .dataframe tbody tr th:only-of-type {\n",
       "        vertical-align: middle;\n",
       "    }\n",
       "\n",
       "    .dataframe tbody tr th {\n",
       "        vertical-align: top;\n",
       "    }\n",
       "\n",
       "    .dataframe thead th {\n",
       "        text-align: right;\n",
       "    }\n",
       "</style>\n",
       "<table border=\"1\" class=\"dataframe\">\n",
       "  <thead>\n",
       "    <tr style=\"text-align: right;\">\n",
       "      <th></th>\n",
       "      <th>time</th>\n",
       "      <th>open</th>\n",
       "      <th>high</th>\n",
       "      <th>low</th>\n",
       "      <th>close</th>\n",
       "      <th>adjcp</th>\n",
       "      <th>volume</th>\n",
       "      <th>tic</th>\n",
       "      <th>cci_30</th>\n",
       "      <th>rsi_30</th>\n",
       "      <th>rsi_14</th>\n",
       "      <th>rsi_6</th>\n",
       "      <th>dx_30</th>\n",
       "      <th>dx_14</th>\n",
       "    </tr>\n",
       "  </thead>\n",
       "  <tbody>\n",
       "    <tr>\n",
       "      <th>0</th>\n",
       "      <td>2020-12-31</td>\n",
       "      <td>0.004636</td>\n",
       "      <td>0.004743</td>\n",
       "      <td>0.004553</td>\n",
       "      <td>0.004682</td>\n",
       "      <td>0.004682</td>\n",
       "      <td>85498337.0</td>\n",
       "      <td>DOGE-USD</td>\n",
       "      <td>1.000000e-10</td>\n",
       "      <td>1.000000e-10</td>\n",
       "      <td>1.000000e-10</td>\n",
       "      <td>1.000000e-10</td>\n",
       "      <td>1.000000e-10</td>\n",
       "      <td>1.000000e-10</td>\n",
       "    </tr>\n",
       "    <tr>\n",
       "      <th>1</th>\n",
       "      <td>2021-01-01</td>\n",
       "      <td>0.004681</td>\n",
       "      <td>0.005685</td>\n",
       "      <td>0.004615</td>\n",
       "      <td>0.005685</td>\n",
       "      <td>0.005685</td>\n",
       "      <td>228961515.0</td>\n",
       "      <td>DOGE-USD</td>\n",
       "      <td>6.666667e+01</td>\n",
       "      <td>1.000000e+02</td>\n",
       "      <td>1.000000e+02</td>\n",
       "      <td>1.000000e+02</td>\n",
       "      <td>1.000000e+02</td>\n",
       "      <td>1.000000e+02</td>\n",
       "    </tr>\n",
       "  </tbody>\n",
       "</table>\n",
       "</div>"
      ],
      "text/plain": [
       "         time      open      high       low     close     adjcp       volume  \\\n",
       "0  2020-12-31  0.004636  0.004743  0.004553  0.004682  0.004682   85498337.0   \n",
       "1  2021-01-01  0.004681  0.005685  0.004615  0.005685  0.005685  228961515.0   \n",
       "\n",
       "        tic        cci_30        rsi_30        rsi_14         rsi_6  \\\n",
       "0  DOGE-USD  1.000000e-10  1.000000e-10  1.000000e-10  1.000000e-10   \n",
       "1  DOGE-USD  6.666667e+01  1.000000e+02  1.000000e+02  1.000000e+02   \n",
       "\n",
       "          dx_30         dx_14  \n",
       "0  1.000000e-10  1.000000e-10  \n",
       "1  1.000000e+02  1.000000e+02  "
      ]
     },
     "execution_count": 5,
     "metadata": {},
     "output_type": "execute_result"
    }
   ],
   "source": [
    "stock_history_df.head(2)"
   ]
  },
  {
   "cell_type": "code",
   "execution_count": 6,
   "metadata": {},
   "outputs": [],
   "source": [
    "# use first 250 for first model\n",
    "start_trade_index = 180\n",
    "# consequence model retrain point\n",
    "model_retrain_interval = 15\n",
    "\n",
    "tech_indicators = ['cci_30',\n",
    " 'rsi_30',\n",
    " 'rsi_14',\n",
    " 'rsi_6',\n",
    " 'dx_30', \n",
    " 'dx_14']\n",
    "\n",
    "cwd = './CryptoModel/doge_model_%i.pkl'\n",
    "reward_on_value = True\n",
    "lookback_n = 3\n",
    "\n",
    "config_max_step = model_retrain_interval\n",
    "\n",
    "if reward_on_value:\n",
    "    reward_scaling = 2 ** -10\n",
    "else:\n",
    "    reward_scaling = 2 ** -5"
   ]
  },
  {
   "cell_type": "code",
   "execution_count": 7,
   "metadata": {},
   "outputs": [],
   "source": [
    "from test_env.single_crypto_env import CryptoTradingEnv\n",
    "\n",
    "from stable_baselines3 import PPO, DDPG\n",
    "from stable_baselines3.common.vec_env import DummyVecEnv, VecCheckNan, VecNormalize\n",
    "from stable_baselines3.common.logger import configure"
   ]
  },
  {
   "cell_type": "code",
   "execution_count": 8,
   "metadata": {},
   "outputs": [
    {
     "name": "stdout",
     "output_type": "stream",
     "text": [
      "Logging to ./tmp/sb3_log/\n"
     ]
    }
   ],
   "source": [
    "tmp_path = \"./tmp/sb3_log/\"\n",
    "# set up logger\n",
    "new_logger = configure(tmp_path, [\"stdout\", \"csv\"])"
   ]
  },
  {
   "cell_type": "code",
   "execution_count": 9,
   "metadata": {},
   "outputs": [],
   "source": [
    "def modelTraining(time_idx, px_df, total_train_timesteps = 1e4):\n",
    "    # create env\n",
    "    config = dict()\n",
    "\n",
    "    config['price_array'] = px_df.iloc[:time_idx][['open', 'adjcp', 'low', 'high']].values\n",
    "    config['tech_array'] = px_df.iloc[:time_idx][tech_indicators].values\n",
    "    # randomly inital states for training\n",
    "    config['if_sequence'] = False\n",
    "    config['if_randomV'] = True\n",
    "    config['if_value'] = reward_on_value\n",
    "    config['lookback_n'] = lookback_n\n",
    "\n",
    "    initial_capital = 1e-5\n",
    "    initial_stocks = np.array([200.0])\n",
    "    max_step = config_max_step\n",
    "    \n",
    "    crypto_env = CryptoTradingEnv(config, \n",
    "                              initial_capital=initial_capital,\n",
    "                              initial_stocks=initial_stocks,\n",
    "                              max_step = max_step, \n",
    "                              reward_scaling = reward_scaling\n",
    "                              )\n",
    "    \n",
    "    env_train = DummyVecEnv([lambda : crypto_env])\n",
    "    env_train = VecCheckNan(env_train, raise_exception=True)\n",
    "    #env_train = VecNormalize(env_train)\n",
    "\n",
    "    model = DDPG(\"MlpPolicy\", env_train, learning_rate=0.00025, \n",
    "                     batch_size=128, gamma = 0.99, seed=312)\n",
    "\n",
    "    model.set_logger(new_logger)\n",
    "    \n",
    "    model.learn(total_timesteps=total_train_timesteps, \n",
    "                tb_log_name = 'ddpg', log_interval=1000)\n",
    "    print('Training finished!')\n",
    "    \n",
    "    model.save(cwd%(time_idx))\n",
    "    print('Trained model saved in ' + str(cwd%(time_idx)))\n",
    "    return cwd%(time_idx)"
   ]
  },
  {
   "cell_type": "code",
   "execution_count": 10,
   "metadata": {},
   "outputs": [],
   "source": [
    "def modelRun(start_idx, px_df, input_amount, input_stocks, last_model):\n",
    "    test_config = dict()\n",
    "\n",
    "    test_config['price_array'] = px_df.iloc[:(start_idx + config_max_step)][['open', 'adjcp', 'low', 'high']].values\n",
    "    test_config['tech_array'] = px_df.iloc[:(start_idx + config_max_step)][tech_indicators].values\n",
    "\n",
    "    #randomly start day index for back testing\n",
    "    test_config['if_sequence'] = True\n",
    "    # disable random initial capital \n",
    "    test_config['if_randomV'] = False\n",
    "\n",
    "    test_config['if_value'] = reward_on_value\n",
    "    test_config['lookback_n'] = lookback_n\n",
    "\n",
    "    max_step = min(config_max_step, px_df.shape[0] - start_idx) - 1\n",
    "    \n",
    "    print ('Run model from ', start_idx, ' to ', start_idx + max_step)\n",
    "    \n",
    "    test_env = CryptoTradingEnv(test_config, \\\n",
    "                            initial_capital=input_amount, \\\n",
    "                            max_step = max_step, \\\n",
    "                           initial_stocks = input_stocks, \n",
    "                           reward_scaling = reward_scaling, \\\n",
    "                            start_idx = start_idx)\n",
    "    state = test_env.reset()\n",
    "\n",
    "    #test_model = PPO.load(cwd)\n",
    "    test_model = DDPG.load(last_model)\n",
    "    test_model = test_model.policy.eval()\n",
    "    \n",
    "    done = False  \n",
    "    while not done:\n",
    "        action = test_model.predict(state)[0]\n",
    "        state, reward, done, _ = test_env.step(action)\n",
    "        \n",
    "    return test_env.amount, test_env.stocks"
   ]
  },
  {
   "cell_type": "markdown",
   "metadata": {},
   "source": [
    "### Simulation Train and Trade"
   ]
  },
  {
   "cell_type": "code",
   "execution_count": 11,
   "metadata": {},
   "outputs": [],
   "source": [
    "initial_sim_amount = 0.01\n",
    "initial_sim_stocks = np.array([200.0])"
   ]
  },
  {
   "cell_type": "code",
   "execution_count": 12,
   "metadata": {
    "scrolled": true
   },
   "outputs": [
    {
     "name": "stdout",
     "output_type": "stream",
     "text": [
      "Training model at time  180\n",
      "Training finished!\n",
      "Trained model saved in ./CryptoModel/doge_model_180.pkl\n",
      "Applying model\n",
      "Run model from  180  to  194\n",
      "initial stock: [200.] inital amount:  0.01\n",
      "initial asset:  52.56380249023437\n",
      "[Day 181] BUY: 0.014100000000000001\n",
      "[Day 182] BUY: 0.0021000000000000003\n",
      "[Day 184] SELL: 68.9796\n",
      "[Day 185] SELL: 46.7969\n",
      "[Day 187] SELL: 15.702100000000002\n",
      "[Day 188] SELL: 13.0984\n",
      "[Day 190] SELL: 49.8952\n",
      "[Day 191] SELL: 4.9896\n",
      "[Day 192] SELL: 0.4989\n",
      "[Day 193] SELL: 0.0499\n",
      "Episode Return:  0.8960164707447654\n",
      "Training model at time  195\n",
      "Training finished!\n",
      "Trained model saved in ./CryptoModel/doge_model_195.pkl\n",
      "Applying model\n",
      "Run model from  195  to  209\n",
      "initial stock: [0.00560539] inital amount:  47.09691170119228\n",
      "initial asset:  47.09801777934669\n",
      "[Day 196] BUY: 133.209\n",
      "[Day 198] SELL: 48.9326\n",
      "[Day 201] SELL: 31.023300000000003\n",
      "[Day 202] SELL: 18.54\n",
      "[Day 204] BUY: 165.3298\n",
      "[Day 205] BUY: 19.604400000000002\n",
      "[Day 206] BUY: 9.4929\n",
      "[Day 207] BUY: 2.8956\n",
      "[Day 208] BUY: 0.3366\n",
      "[Day 209] BUY: 0.27\n",
      "Episode Return:  1.0168397775297966\n",
      "Training model at time  210\n",
      "Training finished!\n",
      "Trained model saved in ./CryptoModel/doge_model_210.pkl\n",
      "Applying model\n",
      "Run model from  210  to  224\n",
      "initial stock: [232.648] inital amount:  0.10709937714411569\n",
      "initial asset:  47.71130164765193\n",
      "[Day 211] BUY: 0.1698\n",
      "[Day 212] BUY: 0.1053\n",
      "[Day 213] BUY: 0.07200000000000001\n",
      "[Day 214] BUY: 0.0485\n",
      "[Day 215] BUY: 0.0342\n",
      "[Day 216] BUY: 0.009300000000000001\n",
      "[Day 217] BUY: 0.0161\n",
      "[Day 218] BUY: 0.016300000000000002\n",
      "[Day 221] BUY: 0.0031000000000000003\n",
      "[Day 222] BUY: 0.013800000000000002\n",
      "[Day 223] BUY: 0.0054\n",
      "[Day 224] BUY: 0.0038\n",
      "Episode Return:  1.2897464257006952\n",
      "Training model at time  225\n",
      "Training finished!\n",
      "Trained model saved in ./CryptoModel/doge_model_225.pkl\n",
      "Applying model\n",
      "Run model from  225  to  239\n",
      "initial stock: [233.14557] inital amount:  0.003471640830912715\n",
      "initial asset:  66.87149074483482\n",
      "[Day 227] SELL: 104.0973\n",
      "[Day 228] SELL: 36.8237\n",
      "[Day 229] SELL: 1.6285\n",
      "[Day 230] SELL: 47.7365\n",
      "[Day 231] SELL: 38.495000000000005\n",
      "[Day 233] SELL: 3.9276\n",
      "[Day 235] SELL: 0.39280000000000004\n",
      "[Day 236] SELL: 0.0397\n",
      "[Day 238] BUY: 161.93720000000002\n",
      "[Day 239] BUY: 39.3237\n",
      "Episode Return:  1.0650181776236705\n",
      "Training model at time  240\n",
      "Training finished!\n",
      "Trained model saved in ./CryptoModel/doge_model_240.pkl\n",
      "Applying model\n",
      "Run model from  240  to  254\n",
      "initial stock: [201.26537] inital amount:  11.96018649051282\n",
      "initial asset:  69.44741106937025\n",
      "[Day 241] SELL: 3.0559000000000003\n",
      "[Day 242] BUY: 0.892\n",
      "[Day 243] BUY: 3.1744000000000003\n",
      "[Day 244] BUY: 2.2952\n",
      "[Day 246] SELL: 18.8119\n",
      "[Day 247] SELL: 11.6559\n",
      "[Day 248] SELL: 12.9399\n",
      "[Day 249] SELL: 7.0296\n",
      "[Day 252] BUY: 31.2145\n",
      "[Day 253] BUY: 15.5473\n",
      "[Day 254] BUY: 20.767500000000002\n",
      "Episode Return:  0.9009352929089772\n",
      "Training model at time  255\n",
      "Training finished!\n",
      "Trained model saved in ./CryptoModel/doge_model_255.pkl\n",
      "Applying model\n",
      "Run model from  255  to  260\n",
      "initial stock: [221.66306] inital amount:  9.051067847420418\n",
      "initial asset:  64.60359622876807\n",
      "[Day 256] SELL: 199.4967\n",
      "[Day 259] BUY: 183.65390000000002\n",
      "[Day 260] SELL: 185.2382\n",
      "Episode Return:  0.9825343811730862\n",
      "Final amount: 58.53700246999008, stocks: 20.58205223083496\n"
     ]
    }
   ],
   "source": [
    "test_amount = initial_sim_amount\n",
    "test_stocks = initial_sim_stocks\n",
    "\n",
    "for t in range(start_trade_index, stock_history_df.shape[0], model_retrain_interval):\n",
    "    print ('Training model at time ', t)\n",
    "    model_file = modelTraining(t, stock_history_df)\n",
    "    \n",
    "    print ('Applying model')\n",
    "    test_amount, test_stocks = modelRun(t, stock_history_df, test_amount, test_stocks, model_file)\n",
    "    \n",
    "print (f'Final amount: {test_amount}, stocks: {test_stocks[0]}')"
   ]
  },
  {
   "cell_type": "code",
   "execution_count": 17,
   "metadata": {},
   "outputs": [],
   "source": [
    "holding_return = ((stock_history_df['close'].iloc[-1] * initial_sim_stocks[0]) + initial_sim_amount)\\\n",
    "/((stock_history_df['close'].iloc[0] * initial_sim_stocks[0]) + initial_sim_amount)"
   ]
  },
  {
   "cell_type": "code",
   "execution_count": 18,
   "metadata": {},
   "outputs": [],
   "source": [
    "trading_return = ((stock_history_df['close'].iloc[-1] * test_stocks[0]) + test_amount)\\\n",
    "/((stock_history_df['close'].iloc[0] * initial_sim_stocks[0]) + initial_sim_amount)"
   ]
  },
  {
   "cell_type": "code",
   "execution_count": 19,
   "metadata": {},
   "outputs": [
    {
     "name": "stdout",
     "output_type": "stream",
     "text": [
      "Holding return: 50.71428873010237, Trading return: 67.07022093157205\n"
     ]
    }
   ],
   "source": [
    "print (f'Holding return: {holding_return}, Trading return: {trading_return}')"
   ]
  },
  {
   "cell_type": "markdown",
   "metadata": {},
   "source": [
    "### Final model for daily run"
   ]
  },
  {
   "cell_type": "code",
   "execution_count": 20,
   "metadata": {},
   "outputs": [
    {
     "name": "stdout",
     "output_type": "stream",
     "text": [
      "---------------------------------\n",
      "| time/              |          |\n",
      "|    episodes        | 1000     |\n",
      "|    fps             | 167      |\n",
      "|    time_elapsed    | 89       |\n",
      "|    total timesteps | 15000    |\n",
      "| train/             |          |\n",
      "|    actor_loss      | -0.0164  |\n",
      "|    critic_loss     | 3.38e-05 |\n",
      "|    learning_rate   | 0.00025  |\n",
      "|    n_updates       | 14895    |\n",
      "---------------------------------\n",
      "---------------------------------\n",
      "| time/              |          |\n",
      "|    episodes        | 2000     |\n",
      "|    fps             | 166      |\n",
      "|    time_elapsed    | 180      |\n",
      "|    total timesteps | 30000    |\n",
      "| train/             |          |\n",
      "|    actor_loss      | -0.0213  |\n",
      "|    critic_loss     | 2.56e-05 |\n",
      "|    learning_rate   | 0.00025  |\n",
      "|    n_updates       | 29895    |\n",
      "---------------------------------\n",
      "---------------------------------\n",
      "| time/              |          |\n",
      "|    episodes        | 3000     |\n",
      "|    fps             | 166      |\n",
      "|    time_elapsed    | 270      |\n",
      "|    total timesteps | 45000    |\n",
      "| train/             |          |\n",
      "|    actor_loss      | -0.0233  |\n",
      "|    critic_loss     | 3.95e-05 |\n",
      "|    learning_rate   | 0.00025  |\n",
      "|    n_updates       | 44895    |\n",
      "---------------------------------\n",
      "---------------------------------\n",
      "| time/              |          |\n",
      "|    episodes        | 4000     |\n",
      "|    fps             | 165      |\n",
      "|    time_elapsed    | 362      |\n",
      "|    total timesteps | 60000    |\n",
      "| train/             |          |\n",
      "|    actor_loss      | -0.024   |\n",
      "|    critic_loss     | 4.33e-05 |\n",
      "|    learning_rate   | 0.00025  |\n",
      "|    n_updates       | 59895    |\n",
      "---------------------------------\n",
      "---------------------------------\n",
      "| time/              |          |\n",
      "|    episodes        | 5000     |\n",
      "|    fps             | 162      |\n",
      "|    time_elapsed    | 461      |\n",
      "|    total timesteps | 75000    |\n",
      "| train/             |          |\n",
      "|    actor_loss      | -0.0235  |\n",
      "|    critic_loss     | 4.17e-05 |\n",
      "|    learning_rate   | 0.00025  |\n",
      "|    n_updates       | 74895    |\n",
      "---------------------------------\n",
      "---------------------------------\n",
      "| time/              |          |\n",
      "|    episodes        | 6000     |\n",
      "|    fps             | 160      |\n",
      "|    time_elapsed    | 559      |\n",
      "|    total timesteps | 90000    |\n",
      "| train/             |          |\n",
      "|    actor_loss      | -0.0248  |\n",
      "|    critic_loss     | 3.51e-05 |\n",
      "|    learning_rate   | 0.00025  |\n",
      "|    n_updates       | 89895    |\n",
      "---------------------------------\n",
      "Training finished!\n",
      "Trained model saved in ./CryptoModel/doge_model_260.pkl\n"
     ]
    }
   ],
   "source": [
    "final_model_file = modelTraining(stock_history_df.shape[0] - 1, \n",
    "                                 stock_history_df, \n",
    "                                 total_train_timesteps = 1e5)"
   ]
  },
  {
   "cell_type": "code",
   "execution_count": 21,
   "metadata": {},
   "outputs": [
    {
     "data": {
      "text/plain": [
       "'./CryptoModel/doge_model_260.pkl'"
      ]
     },
     "execution_count": 21,
     "metadata": {},
     "output_type": "execute_result"
    }
   ],
   "source": [
    "final_model_file"
   ]
  }
 ],
 "metadata": {
  "kernelspec": {
   "display_name": "Python 3",
   "language": "python",
   "name": "python3"
  },
  "language_info": {
   "codemirror_mode": {
    "name": "ipython",
    "version": 3
   },
   "file_extension": ".py",
   "mimetype": "text/x-python",
   "name": "python",
   "nbconvert_exporter": "python",
   "pygments_lexer": "ipython3",
   "version": "3.7.3"
  }
 },
 "nbformat": 4,
 "nbformat_minor": 2
}
