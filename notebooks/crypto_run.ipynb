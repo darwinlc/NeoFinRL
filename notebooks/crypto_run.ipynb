{
 "cells": [
  {
   "cell_type": "markdown",
   "metadata": {},
   "source": [
    "### How to simulate\n",
    "1. perform model retrain every n days\n",
    "2. model retrain using all historical data (normalize price with first day open price for each game)\n",
    "3. rolling forward account balance"
   ]
  },
  {
   "cell_type": "code",
   "execution_count": 1,
   "metadata": {},
   "outputs": [],
   "source": [
    "import sys\n",
    "\n",
    "sys.path.append('../')"
   ]
  },
  {
   "cell_type": "code",
   "execution_count": 2,
   "metadata": {},
   "outputs": [],
   "source": [
    "import pandas as pd\n",
    "import numpy as np"
   ]
  },
  {
   "cell_type": "code",
   "execution_count": 3,
   "metadata": {},
   "outputs": [],
   "source": [
    "# read whole simulation data\n",
    "stock_history_df = pd.concat([pd.read_csv(i) for i in ['./DOGE_px.csv']])"
   ]
  },
  {
   "cell_type": "code",
   "execution_count": 4,
   "metadata": {},
   "outputs": [],
   "source": [
    "stock_history_df.sort_values(by = 'time', inplace = True)\n",
    "stock_history_df.fillna(1e-10, inplace = True)"
   ]
  },
  {
   "cell_type": "code",
   "execution_count": 5,
   "metadata": {},
   "outputs": [
    {
     "data": {
      "text/html": [
       "<div>\n",
       "<style scoped>\n",
       "    .dataframe tbody tr th:only-of-type {\n",
       "        vertical-align: middle;\n",
       "    }\n",
       "\n",
       "    .dataframe tbody tr th {\n",
       "        vertical-align: top;\n",
       "    }\n",
       "\n",
       "    .dataframe thead th {\n",
       "        text-align: right;\n",
       "    }\n",
       "</style>\n",
       "<table border=\"1\" class=\"dataframe\">\n",
       "  <thead>\n",
       "    <tr style=\"text-align: right;\">\n",
       "      <th></th>\n",
       "      <th>time</th>\n",
       "      <th>open</th>\n",
       "      <th>high</th>\n",
       "      <th>low</th>\n",
       "      <th>close</th>\n",
       "      <th>adjcp</th>\n",
       "      <th>volume</th>\n",
       "      <th>tic</th>\n",
       "      <th>cci_30</th>\n",
       "      <th>rsi_30</th>\n",
       "      <th>rsi_14</th>\n",
       "      <th>rsi_6</th>\n",
       "      <th>dx_30</th>\n",
       "      <th>dx_14</th>\n",
       "    </tr>\n",
       "  </thead>\n",
       "  <tbody>\n",
       "    <tr>\n",
       "      <th>259</th>\n",
       "      <td>2021-09-16</td>\n",
       "      <td>0.247542</td>\n",
       "      <td>0.247733</td>\n",
       "      <td>0.233852</td>\n",
       "      <td>0.242555</td>\n",
       "      <td>0.242555</td>\n",
       "      <td>1.140048e+09</td>\n",
       "      <td>DOGE-USD</td>\n",
       "      <td>-111.656943</td>\n",
       "      <td>46.690284</td>\n",
       "      <td>41.558577</td>\n",
       "      <td>37.962461</td>\n",
       "      <td>29.144819</td>\n",
       "      <td>43.789922</td>\n",
       "    </tr>\n",
       "    <tr>\n",
       "      <th>260</th>\n",
       "      <td>2021-09-17</td>\n",
       "      <td>0.242098</td>\n",
       "      <td>0.259535</td>\n",
       "      <td>0.238026</td>\n",
       "      <td>0.239930</td>\n",
       "      <td>0.239930</td>\n",
       "      <td>2.246768e+09</td>\n",
       "      <td>DOGE-USD</td>\n",
       "      <td>-91.617513</td>\n",
       "      <td>46.325973</td>\n",
       "      <td>40.758247</td>\n",
       "      <td>35.829772</td>\n",
       "      <td>18.920087</td>\n",
       "      <td>18.238924</td>\n",
       "    </tr>\n",
       "  </tbody>\n",
       "</table>\n",
       "</div>"
      ],
      "text/plain": [
       "           time      open      high       low     close     adjcp  \\\n",
       "259  2021-09-16  0.247542  0.247733  0.233852  0.242555  0.242555   \n",
       "260  2021-09-17  0.242098  0.259535  0.238026  0.239930  0.239930   \n",
       "\n",
       "           volume       tic      cci_30     rsi_30     rsi_14      rsi_6  \\\n",
       "259  1.140048e+09  DOGE-USD -111.656943  46.690284  41.558577  37.962461   \n",
       "260  2.246768e+09  DOGE-USD  -91.617513  46.325973  40.758247  35.829772   \n",
       "\n",
       "         dx_30      dx_14  \n",
       "259  29.144819  43.789922  \n",
       "260  18.920087  18.238924  "
      ]
     },
     "execution_count": 5,
     "metadata": {},
     "output_type": "execute_result"
    }
   ],
   "source": [
    "stock_history_df.tail(2)"
   ]
  },
  {
   "cell_type": "code",
   "execution_count": 6,
   "metadata": {},
   "outputs": [],
   "source": [
    "# use first 250 for first model\n",
    "start_trade_index = 180\n",
    "# consequence model retrain point\n",
    "model_retrain_interval = 15\n",
    "\n",
    "tech_indicators = ['cci_30',\n",
    " 'rsi_30',\n",
    " 'rsi_14',\n",
    " 'rsi_6',\n",
    " 'dx_30', \n",
    " 'dx_14']\n",
    "\n",
    "cwd = './CryptoModel/doge_model_%i.pkl'\n",
    "reward_on_value = True\n",
    "lookback_n = 3\n",
    "\n",
    "config_max_step = model_retrain_interval\n",
    "\n",
    "if reward_on_value:\n",
    "    reward_scaling = 2 ** -10\n",
    "else:\n",
    "    reward_scaling = 2 ** -5"
   ]
  },
  {
   "cell_type": "code",
   "execution_count": 7,
   "metadata": {},
   "outputs": [],
   "source": [
    "from test_env.single_crypto_env import CryptoTradingEnv\n",
    "\n",
    "from stable_baselines3 import PPO, DDPG\n",
    "from stable_baselines3.common.vec_env import DummyVecEnv, VecCheckNan, VecNormalize\n",
    "from stable_baselines3.common.logger import configure"
   ]
  },
  {
   "cell_type": "code",
   "execution_count": 8,
   "metadata": {},
   "outputs": [
    {
     "name": "stdout",
     "output_type": "stream",
     "text": [
      "Logging to ./tmp/sb3_log/\n"
     ]
    }
   ],
   "source": [
    "tmp_path = \"./tmp/sb3_log/\"\n",
    "# set up logger\n",
    "new_logger = configure(tmp_path, [\"stdout\", \"csv\"])"
   ]
  },
  {
   "cell_type": "code",
   "execution_count": 9,
   "metadata": {},
   "outputs": [],
   "source": [
    "def modelTraining(time_idx, px_df, total_train_timesteps = 1e4):\n",
    "    # create env\n",
    "    config = dict()\n",
    "\n",
    "    config['price_array'] = px_df.iloc[:time_idx][['open', 'adjcp', 'low', 'high']].values\n",
    "    config['tech_array'] = px_df.iloc[:time_idx][tech_indicators].values\n",
    "    # randomly inital states for training\n",
    "    config['if_sequence'] = False\n",
    "    config['if_randomV'] = True\n",
    "    config['if_value'] = reward_on_value\n",
    "    config['lookback_n'] = lookback_n\n",
    "\n",
    "    initial_capital = 1e-5\n",
    "    initial_stocks = np.array([200.0])\n",
    "    max_step = config_max_step\n",
    "    \n",
    "    crypto_env = CryptoTradingEnv(config, \n",
    "                              initial_capital=initial_capital,\n",
    "                              initial_stocks=initial_stocks,\n",
    "                              max_step = max_step, \n",
    "                              reward_scaling = reward_scaling\n",
    "                              )\n",
    "    \n",
    "    env_train = DummyVecEnv([lambda : crypto_env])\n",
    "    env_train = VecCheckNan(env_train, raise_exception=True)\n",
    "    #env_train = VecNormalize(env_train)\n",
    "\n",
    "    model = DDPG(\"MlpPolicy\", env_train, learning_rate=0.00025, \n",
    "                     batch_size=128, gamma = 0.99, seed=312)\n",
    "\n",
    "    model.set_logger(new_logger)\n",
    "    \n",
    "    model.learn(total_timesteps=total_train_timesteps, \n",
    "                tb_log_name = 'ddpg', log_interval=1000)\n",
    "    print('Training finished!')\n",
    "    \n",
    "    model.save(cwd%(time_idx))\n",
    "    print('Trained model saved in ' + str(cwd%(time_idx)))\n",
    "    return cwd%(time_idx)"
   ]
  },
  {
   "cell_type": "code",
   "execution_count": 10,
   "metadata": {},
   "outputs": [],
   "source": [
    "def modelRun(start_idx, px_df, input_amount, input_stocks, last_model):\n",
    "    test_config = dict()\n",
    "\n",
    "    test_config['price_array'] = px_df.iloc[:(start_idx + config_max_step)][['open', 'adjcp', 'low', 'high']].values\n",
    "    test_config['tech_array'] = px_df.iloc[:(start_idx + config_max_step)][tech_indicators].values\n",
    "\n",
    "    #randomly start day index for back testing\n",
    "    test_config['if_sequence'] = True\n",
    "    # disable random initial capital \n",
    "    test_config['if_randomV'] = False\n",
    "\n",
    "    test_config['if_value'] = reward_on_value\n",
    "    test_config['lookback_n'] = lookback_n\n",
    "\n",
    "    max_step = min(config_max_step, px_df.shape[0] - start_idx) - 1\n",
    "    \n",
    "    print ('Run model from ', start_idx, ' to ', start_idx + max_step)\n",
    "    \n",
    "    test_env = CryptoTradingEnv(test_config, \\\n",
    "                            initial_capital=input_amount, \\\n",
    "                            max_step = max_step, \\\n",
    "                           initial_stocks = input_stocks, \n",
    "                           reward_scaling = reward_scaling, \\\n",
    "                            start_idx = start_idx)\n",
    "    state = test_env.reset()\n",
    "\n",
    "    #test_model = PPO.load(cwd)\n",
    "    test_model = DDPG.load(last_model)\n",
    "    test_model = test_model.policy.eval()\n",
    "    \n",
    "    done = False  \n",
    "    while not done:\n",
    "        action = test_model.predict(state)[0]\n",
    "        state, reward, done, _ = test_env.step(action)\n",
    "        \n",
    "    return test_env.amount, test_env.stocks"
   ]
  },
  {
   "cell_type": "markdown",
   "metadata": {},
   "source": [
    "### Simulation Train and Trade"
   ]
  },
  {
   "cell_type": "code",
   "execution_count": 11,
   "metadata": {},
   "outputs": [],
   "source": [
    "initial_sim_amount = 0.01\n",
    "initial_sim_stocks = np.array([200.0])"
   ]
  },
  {
   "cell_type": "code",
   "execution_count": 12,
   "metadata": {
    "scrolled": true
   },
   "outputs": [
    {
     "name": "stdout",
     "output_type": "stream",
     "text": [
      "Training model at time  180\n",
      "Training finished!\n",
      "Trained model saved in ./CryptoModel/doge_model_180.pkl\n",
      "Applying model\n",
      "Run model from  180  to  194\n",
      "initial stock: [200.] inital amount:  0.01\n",
      "initial asset:  52.56380249023437\n",
      "[Day 181] SELL: 5.0107\n",
      "[Day 182] SELL: 93.6008\n",
      "[Day 183] SELL: 90.6774\n",
      "[Day 184] SELL: 87.9307\n",
      "[Day 185] SELL: 5.7837000000000005\n",
      "[Day 186] SELL: 4.0407\n",
      "[Day 187] SELL: 6.463100000000001\n",
      "[Day 188] SELL: 0.9847\n",
      "[Day 189] SELL: 0.17170000000000002\n",
      "[Day 190] BUY: 186.251\n",
      "[Day 191] SELL: 111.3067\n",
      "[Day 192] SELL: 55.1195\n",
      "[Day 193] BUY: 66.0123\n",
      "[Day 194] SELL: 47.3996\n",
      "Episode Return:  0.924934425044121\n",
      "Training model at time  195\n",
      "Training finished!\n",
      "Trained model saved in ./CryptoModel/doge_model_195.pkl\n",
      "Applying model\n",
      "Run model from  195  to  209\n",
      "initial stock: [86.06341] inital amount:  31.405130218373216\n",
      "initial asset:  48.38750631700603\n",
      "[Day 196] SELL: 77.45700000000001\n",
      "[Day 197] SELL: 7.7457\n",
      "[Day 198] SELL: 7.7457\n",
      "[Day 199] SELL: 0.7746000000000001\n",
      "[Day 200] SELL: 0.07740000000000001\n",
      "[Day 201] SELL: 0.07740000000000001\n",
      "[Day 202] SELL: 0.0078000000000000005\n",
      "[Day 203] SELL: 0.0008\n",
      "Episode Return:  0.9985089965390421\n",
      "Training model at time  210\n",
      "Training finished!\n",
      "Trained model saved in ./CryptoModel/doge_model_210.pkl\n",
      "Applying model\n",
      "Run model from  210  to  224\n",
      "initial stock: [0.00010812] inital amount:  48.31533817095742\n",
      "initial asset:  48.315360294044964\n",
      "[Day 211] BUY: 172.3735\n",
      "[Day 220] BUY: 49.9634\n",
      "[Day 221] BUY: 46.2993\n",
      "Episode Return:  1.2212455581521593\n",
      "Training model at time  225\n",
      "Training finished!\n",
      "Trained model saved in ./CryptoModel/doge_model_225.pkl\n",
      "Applying model\n",
      "Run model from  225  to  239\n",
      "initial stock: [218.67291] inital amount:  1.2925473234517408\n",
      "initial asset:  64.00969133590291\n",
      "Episode Return:  1.02604882849964\n",
      "Training model at time  240\n",
      "Training finished!\n",
      "Trained model saved in ./CryptoModel/doge_model_240.pkl\n",
      "Applying model\n",
      "Run model from  240  to  254\n",
      "initial stock: [218.67291] inital amount:  1.2925473234517408\n",
      "initial asset:  63.75187502120565\n",
      "Episode Return:  0.8484015080789887\n",
      "Training model at time  255\n",
      "Training finished!\n",
      "Trained model saved in ./CryptoModel/doge_model_255.pkl\n",
      "Applying model\n",
      "Run model from  255  to  260\n",
      "initial stock: [218.67291] inital amount:  1.2925473234517408\n",
      "initial asset:  56.095697500453696\n",
      "[Day 256] SELL: 40.0167\n",
      "[Day 257] SELL: 87.13080000000001\n",
      "[Day 258] SELL: 103.3859\n",
      "[Day 259] SELL: 67.15270000000001\n",
      "[Day 260] SELL: 7.2865\n",
      "Episode Return:  0.9661013476493293\n",
      "Final amount: 53.99471912492744, stocks: 0.8311166763305664\n"
     ]
    }
   ],
   "source": [
    "test_amount = initial_sim_amount\n",
    "test_stocks = initial_sim_stocks\n",
    "\n",
    "for t in range(start_trade_index, stock_history_df.shape[0], model_retrain_interval):\n",
    "    print ('Training model at time ', t)\n",
    "    model_file = modelTraining(t, stock_history_df)\n",
    "    \n",
    "    print ('Applying model')\n",
    "    test_amount, test_stocks = modelRun(t, stock_history_df, test_amount, test_stocks, model_file)\n",
    "    \n",
    "print (f'Final amount: {test_amount}, stocks: {test_stocks[0]}')"
   ]
  },
  {
   "cell_type": "code",
   "execution_count": 13,
   "metadata": {},
   "outputs": [],
   "source": [
    "holding_return = ((stock_history_df['close'].iloc[-1] * initial_sim_stocks[0]) + initial_sim_amount)\\\n",
    "/((stock_history_df['close'].iloc[0] * initial_sim_stocks[0]) + initial_sim_amount)"
   ]
  },
  {
   "cell_type": "code",
   "execution_count": 14,
   "metadata": {},
   "outputs": [],
   "source": [
    "trading_return = ((stock_history_df['close'].iloc[-1] * test_stocks[0]) + test_amount)\\\n",
    "/((stock_history_df['close'].iloc[0] * initial_sim_stocks[0]) + initial_sim_amount)"
   ]
  },
  {
   "cell_type": "code",
   "execution_count": 15,
   "metadata": {},
   "outputs": [
    {
     "name": "stdout",
     "output_type": "stream",
     "text": [
      "Holding return: 50.71428873010237, Trading return: 57.2634523441645\n"
     ]
    }
   ],
   "source": [
    "print (f'Holding return: {holding_return}, Trading return: {trading_return}')"
   ]
  },
  {
   "cell_type": "markdown",
   "metadata": {},
   "source": [
    "### Final model for daily run"
   ]
  },
  {
   "cell_type": "code",
   "execution_count": 16,
   "metadata": {},
   "outputs": [
    {
     "name": "stdout",
     "output_type": "stream",
     "text": [
      "---------------------------------\n",
      "| time/              |          |\n",
      "|    episodes        | 1000     |\n",
      "|    fps             | 169      |\n",
      "|    time_elapsed    | 88       |\n",
      "|    total timesteps | 15000    |\n",
      "| train/             |          |\n",
      "|    actor_loss      | -0.0103  |\n",
      "|    critic_loss     | 2.21e-05 |\n",
      "|    learning_rate   | 0.00025  |\n",
      "|    n_updates       | 14895    |\n",
      "---------------------------------\n",
      "---------------------------------\n",
      "| time/              |          |\n",
      "|    episodes        | 2000     |\n",
      "|    fps             | 169      |\n",
      "|    time_elapsed    | 177      |\n",
      "|    total timesteps | 30000    |\n",
      "| train/             |          |\n",
      "|    actor_loss      | -0.0172  |\n",
      "|    critic_loss     | 2.76e-05 |\n",
      "|    learning_rate   | 0.00025  |\n",
      "|    n_updates       | 29895    |\n",
      "---------------------------------\n",
      "---------------------------------\n",
      "| time/              |          |\n",
      "|    episodes        | 3000     |\n",
      "|    fps             | 168      |\n",
      "|    time_elapsed    | 266      |\n",
      "|    total timesteps | 45000    |\n",
      "| train/             |          |\n",
      "|    actor_loss      | -0.0184  |\n",
      "|    critic_loss     | 3.92e-05 |\n",
      "|    learning_rate   | 0.00025  |\n",
      "|    n_updates       | 44895    |\n",
      "---------------------------------\n",
      "---------------------------------\n",
      "| time/              |          |\n",
      "|    episodes        | 4000     |\n",
      "|    fps             | 168      |\n",
      "|    time_elapsed    | 356      |\n",
      "|    total timesteps | 60000    |\n",
      "| train/             |          |\n",
      "|    actor_loss      | -0.0203  |\n",
      "|    critic_loss     | 3.93e-05 |\n",
      "|    learning_rate   | 0.00025  |\n",
      "|    n_updates       | 59895    |\n",
      "---------------------------------\n",
      "---------------------------------\n",
      "| time/              |          |\n",
      "|    episodes        | 5000     |\n",
      "|    fps             | 168      |\n",
      "|    time_elapsed    | 445      |\n",
      "|    total timesteps | 75000    |\n",
      "| train/             |          |\n",
      "|    actor_loss      | -0.0215  |\n",
      "|    critic_loss     | 5.07e-05 |\n",
      "|    learning_rate   | 0.00025  |\n",
      "|    n_updates       | 74895    |\n",
      "---------------------------------\n",
      "---------------------------------\n",
      "| time/              |          |\n",
      "|    episodes        | 6000     |\n",
      "|    fps             | 168      |\n",
      "|    time_elapsed    | 534      |\n",
      "|    total timesteps | 90000    |\n",
      "| train/             |          |\n",
      "|    actor_loss      | -0.0217  |\n",
      "|    critic_loss     | 5.03e-05 |\n",
      "|    learning_rate   | 0.00025  |\n",
      "|    n_updates       | 89895    |\n",
      "---------------------------------\n",
      "Training finished!\n",
      "Trained model saved in ./CryptoModel/doge_model_260.pkl\n"
     ]
    }
   ],
   "source": [
    "final_model_file = modelTraining(stock_history_df.shape[0] - 1, \n",
    "                                 stock_history_df, \n",
    "                                 total_train_timesteps = 1e5)"
   ]
  },
  {
   "cell_type": "code",
   "execution_count": 17,
   "metadata": {},
   "outputs": [
    {
     "data": {
      "text/plain": [
       "'./CryptoModel/doge_model_260.pkl'"
      ]
     },
     "execution_count": 17,
     "metadata": {},
     "output_type": "execute_result"
    }
   ],
   "source": [
    "final_model_file"
   ]
  },
  {
   "cell_type": "code",
   "execution_count": null,
   "metadata": {},
   "outputs": [],
   "source": []
  }
 ],
 "metadata": {
  "kernelspec": {
   "display_name": "Python 3",
   "language": "python",
   "name": "python3"
  },
  "language_info": {
   "codemirror_mode": {
    "name": "ipython",
    "version": 3
   },
   "file_extension": ".py",
   "mimetype": "text/x-python",
   "name": "python",
   "nbconvert_exporter": "python",
   "pygments_lexer": "ipython3",
   "version": "3.7.3"
  }
 },
 "nbformat": 4,
 "nbformat_minor": 2
}
